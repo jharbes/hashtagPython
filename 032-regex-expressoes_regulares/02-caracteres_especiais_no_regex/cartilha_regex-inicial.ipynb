{
 "cells": [
  {
   "cell_type": "markdown",
   "id": "4882c553",
   "metadata": {},
   "source": [
    "### Operadores\n",
    "\n",
    "    [] – conjunto de  caracteres;\n",
    "    \\ – sequência especial de caracteres;\n",
    "    ^ – buscar elementos no início da string;\n",
    "    $ – buscar elementos no final da string;\n",
    "    * – buscar zero ou mais repetições de uma substring;\n",
    "    + – uma ou mais aparições de uma substring;\n",
    "    ? – zero ou uma aparição;\n",
    "    | – busca um caractere ou outro.\n",
    "    {} - quantidade específica de caracteres\n",
    "    [^] - diferente de um caractere especificado logo após o ^\n",
    "    () - apenas para agrupar regras e definir ordem de aplicação (igual matemática)\n",
    "\n",
    "### Especificando caracteres:\n",
    "    . - qualquer caractere\n",
    "    \\d - qualquer dígito\n",
    "    \\D - não é dígito\n",
    "    \\w - qualquer alfanumérico\n",
    "    \\W - não é alfanumérico\n",
    "    \\s - espaço em branco\n",
    "    \\S - não é espaço em branco\n",
    "\n",
    "#### obs: lembre de usar a string como raw string\n",
    "\n",
    "### Funções\n",
    "#### Lembre sempre de importar a biblioteca re\n",
    "\n",
    "- re.compile('padrao_regex') -> compilar um padrão regex\n",
    "- re.search(padrao_compilado, texto) -> procura uma ocorrência do padrão no texto (re.match só procura na 1ª linha do texto)\n",
    "- re.findall(padrao_compilado, texto) -> encontra todas as ocorrencias do padrão em um texto - armazena em uma lista\n",
    "- re.finditer(padrao_compilado, texto) -> encontra todas as ocorrencias e armazena em um iterador"
   ]
  },
  {
   "cell_type": "code",
   "execution_count": 1,
   "id": "8900fc84",
   "metadata": {},
   "outputs": [],
   "source": [
    "texto = \"\"\"\n",
    "Bom dia,\n",
    "\n",
    "Seguem os orçamentos solicitados:\n",
    "\n",
    "\n",
    "Cerveja importada (330 ml) - R$12,30598615178 - bebida\n",
    "Cerveja nacional (0,5 litros) - R$6,10 - bebida\n",
    "Garrafa de vinho (750ml) - R$39,90 - bebida\n",
    "Água (garrafa de 1,5 litros) - R$3,30 - bebida\n",
    "Alface (1 unidade) - R$3,50 - comida\n",
    "Cebolas (1kg) - R$5,10 - comida\n",
    "Batatas (1 kg) - R$5,20 - comida\n",
    "Tomates (1 kg) - R$7,90 - comida\n",
    "Laranjas (1 kg) - R$4,70 - comida\n",
    "Bananas (1kg) - R$5,50 - comida\n",
    "Maçãs (1 kg) - R$8,30 - comida\n",
    "Queijo fresco (1 kg) - R$42,90 - comida\n",
    "Uma dúzia de ovos(12) - R$9,80 - comida\n",
    "Arroz (1 kg) - R$5,70 - comida\n",
    "Um quilo de pão (1 kg) - R$7,20 - comida\n",
    "Leite (1 litro) - R$5,20 - bebida\n",
    "Azeite (1 unidade) - R$20 - tempero\n",
    "Pimenta Reino (20g) - R$5 - tempero\n",
    "\n",
    "\n",
    "Favor informar as quantidades desejadas \n",
    "para emissão da Nota Fiscal.\n",
    "\n",
    "Att.,\"\"\""
   ]
  },
  {
   "cell_type": "markdown",
   "id": "3e3da46f",
   "metadata": {},
   "source": [
    "#### Ex: Quantos itens"
   ]
  },
  {
   "cell_type": "code",
   "execution_count": 2,
   "id": "664f4bc0",
   "metadata": {},
   "outputs": [
    {
     "name": "stdout",
     "output_type": "stream",
     "text": [
      "['comida', 'comida', 'comida', 'comida', 'comida', 'comida', 'comida', 'comida', 'comida', 'comida', 'comida']\n",
      "11\n",
      "['bebida', 'bebida', 'bebida', 'bebida', 'bebida']\n",
      "5\n"
     ]
    }
   ],
   "source": [
    "# importando a biblioteca REGEX\n",
    "import re\n",
    "\n",
    "# quantas comidas\n",
    "# o metodo re.compile() passa o padrao que desejamos que seja procurado\n",
    "padrao=re.compile('comida')\n",
    "resultado=re.findall(padrao, texto)\n",
    "print(resultado)\n",
    "print(len(resultado))\n",
    "\n",
    "# quantas bebidas\n",
    "padrao2=re.compile('bebida')\n",
    "resultado2=re.findall(padrao2, texto)\n",
    "print(resultado2)\n",
    "print(len(resultado2))"
   ]
  },
  {
   "cell_type": "code",
   "execution_count": 4,
   "id": "1bd33b1f",
   "metadata": {},
   "outputs": [
    {
     "name": "stdout",
     "output_type": "stream",
     "text": [
      "<re.Match object; span=(271, 277), match='comida'>\n",
      "comida\n"
     ]
    }
   ],
   "source": [
    "# o metodo re.compile() passa o padrao que desejamos que seja procurado\n",
    "padrao=re.compile('comida')\n",
    "\n",
    "# o metodo re.search() retorna um objeto com a primeira ocorrencia desse padrao, mostra o que encontrou e a posicao encontrada (caractere inicial e caractere final em relacao a string inteira) \n",
    "resultado=re.search(padrao, texto)\n",
    "\n",
    "print(resultado)\n",
    "\n",
    "print(resultado.group(0))"
   ]
  },
  {
   "cell_type": "code",
   "execution_count": 6,
   "id": "f3f60909",
   "metadata": {},
   "outputs": [
    {
     "name": "stdout",
     "output_type": "stream",
     "text": [
      "<callable_iterator object at 0x000002CDA97EA770>\n",
      "<re.Match object; span=(271, 277), match='comida'>\n",
      "<re.Match object; span=(303, 309), match='comida'>\n",
      "<re.Match object; span=(336, 342), match='comida'>\n",
      "<re.Match object; span=(369, 375), match='comida'>\n",
      "<re.Match object; span=(403, 409), match='comida'>\n",
      "<re.Match object; span=(435, 441), match='comida'>\n",
      "<re.Match object; span=(466, 472), match='comida'>\n",
      "<re.Match object; span=(506, 512), match='comida'>\n",
      "<re.Match object; span=(546, 552), match='comida'>\n",
      "<re.Match object; span=(577, 583), match='comida'>\n",
      "<re.Match object; span=(618, 624), match='comida'>\n"
     ]
    }
   ],
   "source": [
    "# o metodo re.compile() passa o padrao que desejamos que seja procurado\n",
    "padrao=re.compile('comida')\n",
    "\n",
    "# o metodo re.finditer() cria um objeto iterador, onde nele cada um dos elementos serão todos os resultados para o padrao procurado\n",
    "resultado=re.finditer(padrao, texto)\n",
    "\n",
    "print(resultado)\n",
    "\n",
    "for item in resultado:\n",
    "    print(item)"
   ]
  },
  {
   "cell_type": "code",
   "execution_count": 11,
   "id": "d8d340fc",
   "metadata": {},
   "outputs": [
    {
     "name": "stdout",
     "output_type": "stream",
     "text": [
      "['$', '$', '$', '$', '$', '$', '$', '$', '$', '$', '$', '$', '$', '$', '$', '$', '$', '$']\n",
      "18\n"
     ]
    }
   ],
   "source": [
    "# quantos itens\n",
    "\n",
    "# para todos os caracteres especiais que sao usados como operadores do regex (o $ por exemplo) utilizaremos uma contra barra ('\\') antes dele\n",
    "padrao3=re.compile('\\$')\n",
    "\n",
    "resultado3=re.findall(padrao3,texto)\n",
    "\n",
    "print(resultado3)\n",
    "print(len(resultado3))"
   ]
  },
  {
   "cell_type": "code",
   "execution_count": null,
   "id": "44a6d0da",
   "metadata": {},
   "outputs": [],
   "source": []
  },
  {
   "cell_type": "markdown",
   "id": "cc12bc6d",
   "metadata": {},
   "source": [
    "#### Ex: Extrair números"
   ]
  },
  {
   "cell_type": "code",
   "execution_count": null,
   "id": "e96fa8ec",
   "metadata": {},
   "outputs": [],
   "source": []
  },
  {
   "cell_type": "markdown",
   "id": "74477194",
   "metadata": {},
   "source": [
    "#### Ex: Extrair quantos ml (do 1º item)"
   ]
  },
  {
   "cell_type": "code",
   "execution_count": null,
   "id": "3e41e61a",
   "metadata": {},
   "outputs": [],
   "source": []
  },
  {
   "cell_type": "markdown",
   "id": "56f1d77b",
   "metadata": {},
   "source": [
    "#### Ex: Preço do 1º item"
   ]
  },
  {
   "cell_type": "code",
   "execution_count": null,
   "id": "f33962c5",
   "metadata": {},
   "outputs": [],
   "source": []
  },
  {
   "cell_type": "markdown",
   "id": "3f125f90",
   "metadata": {},
   "source": [
    "#### Ex: Todos os preços"
   ]
  },
  {
   "cell_type": "code",
   "execution_count": null,
   "id": "0140fd16",
   "metadata": {},
   "outputs": [],
   "source": []
  },
  {
   "cell_type": "markdown",
   "id": "7729f8ee",
   "metadata": {},
   "source": [
    "#### Ex: Quantidades dos itens"
   ]
  },
  {
   "cell_type": "code",
   "execution_count": null,
   "id": "7b0489b9",
   "metadata": {},
   "outputs": [],
   "source": []
  },
  {
   "cell_type": "markdown",
   "id": "e2d8e3da",
   "metadata": {},
   "source": [
    "#### Ex: Links"
   ]
  },
  {
   "cell_type": "code",
   "execution_count": null,
   "id": "a012ad53",
   "metadata": {},
   "outputs": [],
   "source": [
    "texto2 = \"\"\"\n",
    "Olá\n",
    "\n",
    "Segue o relatório de SEO para os seguintes sites:\n",
    "https://portalhashtag.com\n",
    "http://hashtagtreinamentos.com\n",
    "https://www.wikipedia.org/\n",
    "www.bcb.gov.br/\n",
    "\n",
    "Qualquer dúvida estamos à disposição\"\"\""
   ]
  }
 ],
 "metadata": {
  "kernelspec": {
   "display_name": "Python 3 (ipykernel)",
   "language": "python",
   "name": "python3"
  },
  "language_info": {
   "codemirror_mode": {
    "name": "ipython",
    "version": 3
   },
   "file_extension": ".py",
   "mimetype": "text/x-python",
   "name": "python",
   "nbconvert_exporter": "python",
   "pygments_lexer": "ipython3",
   "version": "3.10.11"
  }
 },
 "nbformat": 4,
 "nbformat_minor": 5
}
