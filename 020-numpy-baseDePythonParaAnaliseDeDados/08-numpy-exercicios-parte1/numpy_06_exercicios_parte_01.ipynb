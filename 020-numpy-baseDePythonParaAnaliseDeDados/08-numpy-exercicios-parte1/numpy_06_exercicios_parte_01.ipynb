{
 "cells": [
  {
   "cell_type": "markdown",
   "metadata": {},
   "source": [
    "## Exercício\n",
    "\n",
    "Você é um analista de RH e tem os salários de todos os funcionários da sua empresa em um array NumPy. Seu trabalho é identificar quantos funcionários ganham acima da média. Use o seguinte array para sua análise: `salarios = np.array([3000, 2500, 3500, 4000, 2000, 4500, 3000, 3800, 4800])`."
   ]
  },
  {
   "cell_type": "code",
   "execution_count": 1,
   "metadata": {
    "ExecuteTime": {
     "end_time": "2023-07-03T17:58:55.261401600Z",
     "start_time": "2023-07-03T17:58:55.249755Z"
    },
    "collapsed": false,
    "jupyter": {
     "outputs_hidden": false
    }
   },
   "outputs": [],
   "source": [
    "import numpy as np\n",
    "\n",
    "salarios = np.array([3000, 2500, 3500, 4000, 2000, 4500, 3000, 3800, 4800])\n"
   ]
  },
  {
   "cell_type": "code",
   "execution_count": 18,
   "metadata": {},
   "outputs": [
    {
     "name": "stdout",
     "output_type": "stream",
     "text": [
      "3455.5555555555557\n",
      "<class 'tuple'>\n",
      "(array([2, 3, 5, 7, 8], dtype=int64),)\n",
      "[3500 4000 4500 3800 4800]\n",
      "<class 'numpy.ndarray'>\n",
      "5\n",
      "5\n",
      "[False False  True  True False  True False  True  True]\n",
      "5\n"
     ]
    }
   ],
   "source": [
    "media_salarios=np.mean(salarios)\n",
    "\n",
    "print(media_salarios)\n",
    "\n",
    "acima_media=np.where(salarios>media_salarios)\n",
    "\n",
    "print(type(acima_media))\n",
    "print(acima_media)\n",
    "\n",
    "\n",
    "salarios_acima_media=salarios[salarios>media_salarios]\n",
    "print(salarios_acima_media)\n",
    "print(type(salarios_acima_media))\n",
    "\n",
    "\n",
    "\n",
    "# Faremos de três maneiras:\n",
    "\n",
    "\n",
    "# length da lista salarios[acima_media]\n",
    "print(len(salarios[acima_media]))\n",
    "\n",
    "\n",
    "# size do primeiro elemento da tupla resultante do where acima\n",
    "print(acima_media[0].size)\n",
    "\n",
    "\n",
    "# somando as condicoes True do array\n",
    "# observe que a soma de True sempre será 1 e False sempre será zero (True == 1) (False == 0)\n",
    "print(salarios>media_salarios)\n",
    "print(np.sum(salarios>media_salarios))"
   ]
  },
  {
   "cell_type": "markdown",
   "metadata": {},
   "source": [
    "##### Observe abaixo que o somatório de Booleanos também funciona para listas simples do Python e não apenas para Arrays do Numpy"
   ]
  },
  {
   "cell_type": "code",
   "execution_count": 19,
   "metadata": {},
   "outputs": [
    {
     "name": "stdout",
     "output_type": "stream",
     "text": [
      "2\n"
     ]
    }
   ],
   "source": [
    "lista=[True, False, True, False]\n",
    "\n",
    "# observe que a soma de True sempre será 1 e False sempre será zero (True == 1) (False == 0)\n",
    "print(sum(lista))"
   ]
  },
  {
   "cell_type": "code",
   "execution_count": 20,
   "metadata": {},
   "outputs": [
    {
     "name": "stdout",
     "output_type": "stream",
     "text": [
      "2\n"
     ]
    }
   ],
   "source": [
    "lista2=[2<5,not True,5!=5,6==6]\n",
    "\n",
    "# observe que a soma de True sempre será 1 e False sempre será zero (True == 1) (False == 0)\n",
    "print(sum(lista2))"
   ]
  },
  {
   "cell_type": "markdown",
   "metadata": {},
   "source": [
    "### Bônus\n",
    "\n",
    "Outras formas de fazer contagem\n",
    "\n",
    "IMPORTANTE***: Lembrar que salarios > media_salario é um array do Numpy"
   ]
  },
  {
   "cell_type": "code",
   "execution_count": 24,
   "metadata": {},
   "outputs": [
    {
     "name": "stdout",
     "output_type": "stream",
     "text": [
      "[False False  True  True False  True False  True  True]\n"
     ]
    }
   ],
   "source": [
    "print(salarios>media_salarios)"
   ]
  },
  {
   "cell_type": "code",
   "execution_count": 21,
   "metadata": {},
   "outputs": [
    {
     "name": "stdout",
     "output_type": "stream",
     "text": [
      "5\n"
     ]
    }
   ],
   "source": [
    "# A funcao np.count_nonzero() conta o numero de elementos que seja DIFERENTES do valor zero\n",
    "print(np.count_nonzero(salarios > media_salarios))"
   ]
  },
  {
   "cell_type": "code",
   "execution_count": 23,
   "metadata": {},
   "outputs": [
    {
     "name": "stdout",
     "output_type": "stream",
     "text": [
      "[False  True]\n"
     ]
    }
   ],
   "source": [
    "# A funcao np.unique() retorna um array apenas com os valores ÚNICOS, ou seja, não repetidos\n",
    "print(np.unique(salarios > media_salarios))"
   ]
  },
  {
   "cell_type": "code",
   "execution_count": 25,
   "metadata": {},
   "outputs": [
    {
     "name": "stdout",
     "output_type": "stream",
     "text": [
      "(array([False,  True]), array([4, 5], dtype=int64))\n"
     ]
    }
   ],
   "source": [
    "# Agora com o argumento 'return_counts' ele retorna um tupla onde o primeiro elemento é o array numpy em si COM OS ELEMENTOS UNICOS e o segundo elemento será a contagem de cada um dos elementos quantas vezes se repete no array original, na mesma ordem que os elementos se encontram no aray resultante\n",
    "print(np.unique(salarios > media_salarios, return_counts=True))"
   ]
  },
  {
   "cell_type": "code",
   "execution_count": 26,
   "metadata": {},
   "outputs": [
    {
     "name": "stdout",
     "output_type": "stream",
     "text": [
      "[False  True]\n",
      "[4 5]\n"
     ]
    }
   ],
   "source": [
    "# fazendo o unpacking da tupla:\n",
    "valores_unicos, contagem = np.unique(salarios > media_salarios, return_counts=True)\n",
    "print(valores_unicos)\n",
    "print(contagem)"
   ]
  },
  {
   "cell_type": "markdown",
   "metadata": {},
   "source": [
    "### Bônus 2\n",
    "\n",
    "Criando 20 valores fictícios de salários com a mesma faixa anterior, tomando cuidado de outras pessoas gerarem os mesmos valores:"
   ]
  },
  {
   "cell_type": "code",
   "execution_count": 27,
   "metadata": {},
   "outputs": [
    {
     "name": "stdout",
     "output_type": "stream",
     "text": [
      "[2249 4167 3832 3228 3212 4404 2240 3952 2564 2263 3474 4731 4060 4131\n",
      " 4008 4200 3437 2358 4351 3261]\n"
     ]
    }
   ],
   "source": [
    "rng = np.random.default_rng(seed=42)\n",
    "\n",
    "salarios_gerados = rng.integers(low=np.min(salarios), high=np.max(salarios), size=20)\n",
    "print(salarios_gerados)"
   ]
  },
  {
   "cell_type": "code",
   "execution_count": 28,
   "metadata": {},
   "outputs": [
    {
     "name": "stdout",
     "output_type": "stream",
     "text": [
      "[2249 4167 3833 3229 3212 4404 2240 3953 2564 2263 3474 4732 4060 4131\n",
      " 4009 4201 3437 2358 4352 3261]\n"
     ]
    }
   ],
   "source": [
    "rng = np.random.default_rng(seed=42)\n",
    "\n",
    "# agora estamos fazendo exatamente como o exemplo anterior, porem com o argumento 'endpoint=True' o que significa que o valor setado para o argumento 'high' será incluido entre os numeros aleatorios gerados, porque por default o valor de 'high' fica de fora do conjunto de numeros aptos a aleatoriedade\n",
    "salarios_gerados = rng.integers(low=np.min(salarios), high=np.max(salarios), size=20, endpoint=True)\n",
    "print(salarios_gerados)"
   ]
  },
  {
   "cell_type": "code",
   "execution_count": 29,
   "metadata": {},
   "outputs": [
    {
     "name": "stdout",
     "output_type": "stream",
     "text": [
      "3506.45\n"
     ]
    }
   ],
   "source": [
    "print(np.mean(salarios_gerados))"
   ]
  },
  {
   "cell_type": "code",
   "execution_count": 30,
   "metadata": {},
   "outputs": [
    {
     "name": "stdout",
     "output_type": "stream",
     "text": [
      "2240\n",
      "4732\n",
      "3506.45\n"
     ]
    }
   ],
   "source": [
    "# as funções estatísticas também podem ser chamadas como métodos dos arrays, observe que a SINTAXE ESTÁ DIFERENTE\n",
    "print(salarios_gerados.min())\n",
    "print(salarios_gerados.max())\n",
    "print(salarios_gerados.mean())"
   ]
  }
 ],
 "metadata": {
  "kernelspec": {
   "display_name": "Python 3 (ipykernel)",
   "language": "python",
   "name": "python3"
  },
  "language_info": {
   "codemirror_mode": {
    "name": "ipython",
    "version": 3
   },
   "file_extension": ".py",
   "mimetype": "text/x-python",
   "name": "python",
   "nbconvert_exporter": "python",
   "pygments_lexer": "ipython3",
   "version": "3.10.11"
  }
 },
 "nbformat": 4,
 "nbformat_minor": 4
}
