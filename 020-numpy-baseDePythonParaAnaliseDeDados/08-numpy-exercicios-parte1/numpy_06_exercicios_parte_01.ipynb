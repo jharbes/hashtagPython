{
 "cells": [
  {
   "cell_type": "markdown",
   "metadata": {},
   "source": [
    "## Exercício\n",
    "\n",
    "Você é um analista de RH e tem os salários de todos os funcionários da sua empresa em um array NumPy. Seu trabalho é identificar quantos funcionários ganham acima da média. Use o seguinte array para sua análise: `salarios = np.array([3000, 2500, 3500, 4000, 2000, 4500, 3000, 3800, 4800])`."
   ]
  },
  {
   "cell_type": "code",
   "execution_count": 1,
   "metadata": {
    "ExecuteTime": {
     "end_time": "2023-07-03T17:58:55.261401600Z",
     "start_time": "2023-07-03T17:58:55.249755Z"
    },
    "collapsed": false,
    "jupyter": {
     "outputs_hidden": false
    }
   },
   "outputs": [],
   "source": [
    "import numpy as np\n",
    "\n",
    "salarios = np.array([3000, 2500, 3500, 4000, 2000, 4500, 3000, 3800, 4800])\n"
   ]
  },
  {
   "cell_type": "code",
   "execution_count": 18,
   "metadata": {},
   "outputs": [
    {
     "name": "stdout",
     "output_type": "stream",
     "text": [
      "3455.5555555555557\n",
      "<class 'tuple'>\n",
      "(array([2, 3, 5, 7, 8], dtype=int64),)\n",
      "[3500 4000 4500 3800 4800]\n",
      "<class 'numpy.ndarray'>\n",
      "5\n",
      "5\n",
      "[False False  True  True False  True False  True  True]\n",
      "5\n"
     ]
    }
   ],
   "source": [
    "media_salarios=np.mean(salarios)\n",
    "\n",
    "print(media_salarios)\n",
    "\n",
    "acima_media=np.where(salarios>media_salarios)\n",
    "\n",
    "print(type(acima_media))\n",
    "print(acima_media)\n",
    "\n",
    "\n",
    "salarios_acima_media=salarios[salarios>media_salarios]\n",
    "print(salarios_acima_media)\n",
    "print(type(salarios_acima_media))\n",
    "\n",
    "\n",
    "# Faremos de três maneiras:\n",
    "\n",
    "# length da lista salarios[acima_media]\n",
    "print(len(salarios[acima_media]))\n",
    "\n",
    "# size do primeiro elemento da tupla resultante do where acima\n",
    "print(acima_media[0].size)\n",
    "\n",
    "# somando as condicoes True do array\n",
    "print(salarios>media_salarios)\n",
    "print(np.sum(salarios>media_salarios))"
   ]
  },
  {
   "cell_type": "code",
   "execution_count": 19,
   "metadata": {},
   "outputs": [
    {
     "name": "stdout",
     "output_type": "stream",
     "text": [
      "2\n"
     ]
    }
   ],
   "source": [
    "lista=[True, False, True, False]\n",
    "\n",
    "print(sum(lista))"
   ]
  },
  {
   "cell_type": "code",
   "execution_count": 20,
   "metadata": {},
   "outputs": [
    {
     "name": "stdout",
     "output_type": "stream",
     "text": [
      "2\n"
     ]
    }
   ],
   "source": [
    "lista2=[2<5,not True,5!=5,6==6]\n",
    "\n",
    "print(sum(lista2))"
   ]
  }
 ],
 "metadata": {
  "kernelspec": {
   "display_name": "Python 3 (ipykernel)",
   "language": "python",
   "name": "python3"
  },
  "language_info": {
   "codemirror_mode": {
    "name": "ipython",
    "version": 3
   },
   "file_extension": ".py",
   "mimetype": "text/x-python",
   "name": "python",
   "nbconvert_exporter": "python",
   "pygments_lexer": "ipython3",
   "version": "3.10.11"
  }
 },
 "nbformat": 4,
 "nbformat_minor": 4
}
