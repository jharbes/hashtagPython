{
 "cells": [
  {
   "cell_type": "markdown",
   "metadata": {},
   "source": [
    "## Exercício\n",
    "\n",
    "Você é um engenheiro de produção e tem os tempos de ciclo (em minutos) de uma linha de produção em um array NumPy. Seu trabalho é identificar quaisquer tempos de ciclo que estão dois desvios padrão acima ou abaixo da média. Use o seguinte array para sua análise: `tempos_ciclo = np.array([5.5, 5.7, 5.9, 6.0, 5.8, 5.6, 5.7, 7.2, 4.8])`. "
   ]
  },
  {
   "cell_type": "code",
   "execution_count": 2,
   "metadata": {
    "ExecuteTime": {
     "end_time": "2023-07-03T12:12:12.700234800Z",
     "start_time": "2023-07-03T12:12:12.644925Z"
    },
    "collapsed": false,
    "jupyter": {
     "outputs_hidden": false
    }
   },
   "outputs": [
    {
     "name": "stdout",
     "output_type": "stream",
     "text": [
      "5.8\n"
     ]
    }
   ],
   "source": [
    "import numpy as np\n",
    "\n",
    "tempos_ciclo = np.array([5.5, 5.7, 5.9, 6.0, 5.8, 5.6, 5.7, 7.2, 4.8])\n",
    "media = np.mean(tempos_ciclo) \n",
    "print(media)"
   ]
  },
  {
   "cell_type": "code",
   "execution_count": 5,
   "metadata": {},
   "outputs": [
    {
     "name": "stdout",
     "output_type": "stream",
     "text": [
      "0.592546294487706\n",
      "1.185092588975412\n"
     ]
    }
   ],
   "source": [
    "desvio_padrao=np.std(tempos_ciclo)\n",
    "print(desvio_padrao)\n",
    "\n",
    "dois_desvio_padrao=2*desvio_padrao\n",
    "print(dois_desvio_padrao)"
   ]
  },
  {
   "cell_type": "code",
   "execution_count": 7,
   "metadata": {},
   "outputs": [
    {
     "name": "stdout",
     "output_type": "stream",
     "text": [
      "[7.2]\n"
     ]
    }
   ],
   "source": [
    "tempos_fora=tempos_ciclo[(tempos_ciclo<media-dois_desvio_padrao) | (tempos_ciclo>media+dois_desvio_padrao)]\n",
    "\n",
    "print(tempos_fora)"
   ]
  },
  {
   "cell_type": "markdown",
   "metadata": {},
   "source": [
    "### Bônus"
   ]
  },
  {
   "cell_type": "code",
   "execution_count": 8,
   "metadata": {},
   "outputs": [
    {
     "name": "stdout",
     "output_type": "stream",
     "text": [
      "[False False False False False False False  True False]\n",
      "(array([7], dtype=int64),)\n"
     ]
    }
   ],
   "source": [
    "condicao = ((tempos_ciclo > media + 2 * desvio_padrao) | (tempos_ciclo < media - 2 * desvio_padrao))\n",
    "\n",
    "print(condicao)\n",
    "\n",
    "print(np.where(condicao))"
   ]
  },
  {
   "cell_type": "code",
   "execution_count": 9,
   "metadata": {},
   "outputs": [
    {
     "name": "stdout",
     "output_type": "stream",
     "text": [
      "(array([0, 1, 2, 3, 4, 5, 6, 8], dtype=int64),)\n"
     ]
    }
   ],
   "source": [
    "contrario_condicao = ((tempos_ciclo <= media + 2 * desvio_padrao) & (tempos_ciclo >= media - 2 * desvio_padrao))\n",
    "print(np.where(contrario_condicao))"
   ]
  },
  {
   "cell_type": "code",
   "execution_count": 11,
   "metadata": {},
   "outputs": [
    {
     "name": "stdout",
     "output_type": "stream",
     "text": [
      "(array([0, 1, 2, 3, 4, 5, 6, 8], dtype=int64),)\n",
      "[ True  True  True  True  True  True  True False  True]\n"
     ]
    }
   ],
   "source": [
    "# observe aqui que a resposta é identico ao exemplo anterior que é o inversao da condicao principal de todo o exercicio, o que queremos mostrar é que podemos negar uma condicao e conseguir o inverso dela apenas utilizando o caractere til (~) na frente dela\n",
    "print(np.where(~condicao))\n",
    "print(~condicao)"
   ]
  },
  {
   "cell_type": "code",
   "execution_count": 12,
   "metadata": {},
   "outputs": [
    {
     "name": "stdout",
     "output_type": "stream",
     "text": [
      "False\n"
     ]
    }
   ],
   "source": [
    "## IMPORTANTE!!\n",
    "# Lembrar que no Python puro a negação é feita com not\n",
    "print(not True)"
   ]
  },
  {
   "cell_type": "markdown",
   "metadata": {},
   "source": [
    "### Bônus 2"
   ]
  },
  {
   "cell_type": "code",
   "execution_count": 13,
   "metadata": {},
   "outputs": [
    {
     "name": "stdout",
     "output_type": "stream",
     "text": [
      "[5.87450098 5.72172175 6.17948007 5.86215818 5.4825911  6.01426181\n",
      " 6.57268039 6.36118932 5.38300429 5.0501792  5.43068103 5.82448756\n",
      " 4.42231163 5.67035581 5.06174008 5.36609769 5.47750136 5.61257751\n",
      " 6.04391015 6.41773743 5.72383726 6.60969287 5.40584136 6.00828599\n",
      " 6.33534791 5.85570664 5.35944227 5.25383504 5.52877626 5.9304758\n",
      " 5.20175449 5.67605379 5.70565181 6.12047605 5.92719547 6.01057478\n",
      " 5.41257628 5.72319792 6.26454176 6.68492709 5.05394538 6.69706992\n",
      " 6.5974935  6.26296318 5.9567022  5.6139862  6.66394475 6.9615438\n",
      " 6.86755207 6.57925986 6.01176444 5.08401527 5.79736072 6.18899179\n",
      " 5.03658619 6.03412811 6.05471414 6.21243754 5.09835529 5.40791059\n",
      " 5.54139191 5.10683821 6.83065599 5.50614994 5.99492973 5.6467838\n",
      " 6.73828099 6.58237501 6.17529075 4.49431839 5.83082958 6.20511572\n",
      " 6.39489371 5.43386147 6.87962608 5.01758352 5.40801402 6.35406041\n",
      " 5.82906713 6.98651031 5.91170635 5.42480319 5.57627614 5.15344541\n",
      " 5.04291535 6.17354799 6.14436765 6.56708603 5.35286113 6.80087436\n",
      " 5.62970948 6.73290979 5.54355435 5.3641921  5.9480094  6.4111837\n",
      " 5.89540563 5.45304706 5.00526523 4.96953439]\n"
     ]
    }
   ],
   "source": [
    "# a opção de 'normal' utilizada abaixo faz com que os números gerados respeitem uma distribuição normal, onde o 'loc' será o valor da media, o 'scale' será o desvio padrão e o 'size' será o numero de elementos\n",
    "rng = np.random.default_rng(seed=0)\n",
    "tempos_gerados = rng.normal(loc=media, scale=desvio_padrao, size=100)\n",
    "print(tempos_gerados)"
   ]
  },
  {
   "cell_type": "code",
   "execution_count": 14,
   "metadata": {},
   "outputs": [
    {
     "name": "stdout",
     "output_type": "stream",
     "text": [
      "5.8\n",
      "5.848053545223129\n"
     ]
    }
   ],
   "source": [
    "# observe que o valor da média não será EXATAMENTE IGUAL, será utilizado apenas como referência pois o algoritmo terá que acomodar todos os dados de maneira a respeitar dados referentes a uma distribuição normal\n",
    "print(media)\n",
    "print(tempos_gerados.mean())"
   ]
  },
  {
   "cell_type": "code",
   "execution_count": 15,
   "metadata": {},
   "outputs": [
    {
     "name": "stdout",
     "output_type": "stream",
     "text": [
      "0.592546294487706\n",
      "0.5701068395534514\n"
     ]
    }
   ],
   "source": [
    "# os valores nao sao identicos pelos mesmos motivos explicados acima\n",
    "print(desvio_padrao)\n",
    "print(tempos_gerados.std())"
   ]
  },
  {
   "cell_type": "code",
   "execution_count": 16,
   "metadata": {},
   "outputs": [
    {
     "name": "stdout",
     "output_type": "stream",
     "text": [
      "(array([12, 69], dtype=int64),)\n",
      "[4.42231163 4.49431839]\n"
     ]
    }
   ],
   "source": [
    "# utilizando a mesma condicao do exercicio original\n",
    "condicao = ((tempos_gerados > tempos_gerados.mean() + 2 * tempos_gerados.std()) | (tempos_gerados < tempos_gerados.mean() - 2 * tempos_gerados.std()))\n",
    "\n",
    "print(np.where(condicao))\n",
    "print(tempos_gerados[condicao])"
   ]
  }
 ],
 "metadata": {
  "kernelspec": {
   "display_name": "Python 3 (ipykernel)",
   "language": "python",
   "name": "python3"
  },
  "language_info": {
   "codemirror_mode": {
    "name": "ipython",
    "version": 3
   },
   "file_extension": ".py",
   "mimetype": "text/x-python",
   "name": "python",
   "nbconvert_exporter": "python",
   "pygments_lexer": "ipython3",
   "version": "3.10.11"
  }
 },
 "nbformat": 4,
 "nbformat_minor": 4
}
