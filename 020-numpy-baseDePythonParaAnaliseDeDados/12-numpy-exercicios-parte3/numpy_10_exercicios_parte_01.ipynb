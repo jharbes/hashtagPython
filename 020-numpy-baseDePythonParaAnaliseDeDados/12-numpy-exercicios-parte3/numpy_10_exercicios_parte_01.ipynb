{
 "cells": [
  {
   "cell_type": "markdown",
   "metadata": {},
   "source": [
    "## Exercício\n",
    "\n",
    "Você é um gerente de vendas e tem os dados de vendas de três produtos diferentes (Produto A, Produto B, Produto C) para os últimos 5 dias em um array 2D NumPy. Cada linha do array representa um produto e cada coluna representa um dia. Seu trabalho é calcular as vendas totais para cada produto e para cada dia.\n",
    "\n",
    "Use o seguinte array para sua análise:\n",
    "\n",
    "```python\n",
    "vendas = np.array([[50, 60, 70, 65, 80],\n",
    "                   [85, 90, 78, 92, 88],\n",
    "                   [72, 75, 68, 77, 76]])\n",
    "```\n",
    "\n",
    "**Solução:**\n"
   ]
  },
  {
   "cell_type": "code",
   "execution_count": 8,
   "metadata": {
    "ExecuteTime": {
     "end_time": "2023-07-03T12:12:12.700234800Z",
     "start_time": "2023-07-03T12:12:12.677347900Z"
    },
    "collapsed": false,
    "jupyter": {
     "outputs_hidden": false
    }
   },
   "outputs": [
    {
     "name": "stdout",
     "output_type": "stream",
     "text": [
      "vendas_totais_produto=array([325, 433, 368])\n",
      "\n",
      "Número de vendas do Produto A foram 325\n",
      "Número de vendas do Produto B foram 433\n",
      "Número de vendas do Produto C foram 368\n"
     ]
    }
   ],
   "source": [
    "import numpy as np\n",
    "\n",
    "lista_produtos=np.array(['Produto A','Produto B','Produto C'])\n",
    "\n",
    "vendas = np.array([[50, 60, 70, 65, 80],\n",
    "                   [85, 90, 78, 92, 88],\n",
    "                   [72, 75, 68, 77, 76]])\n",
    "\n",
    "vendas_totais_produto=vendas.sum(axis=1)\n",
    "print(f'{vendas_totais_produto=}\\n')\n",
    "\n",
    "for i,venda in enumerate(vendas_totais_produto):\n",
    "    print('Número de vendas do {} foram {}'.format(lista_produtos[i],venda))"
   ]
  },
  {
   "cell_type": "code",
   "execution_count": 9,
   "metadata": {},
   "outputs": [
    {
     "name": "stdout",
     "output_type": "stream",
     "text": [
      "vendas_totais_dia=array([207, 225, 216, 234, 244])\n",
      "\n",
      "Número de vendas do dia 1 foram 207\n",
      "Número de vendas do dia 2 foram 225\n",
      "Número de vendas do dia 3 foram 216\n",
      "Número de vendas do dia 4 foram 234\n",
      "Número de vendas do dia 5 foram 244\n"
     ]
    }
   ],
   "source": [
    "vendas_totais_dia=vendas.sum(axis=0)\n",
    "print(f'{vendas_totais_dia=}\\n')\n",
    "\n",
    "for i,venda in enumerate(vendas_totais_dia):\n",
    "    print('Número de vendas do dia {} foram {}'.format(i+1,venda))"
   ]
  }
 ],
 "metadata": {
  "kernelspec": {
   "display_name": "Python 3 (ipykernel)",
   "language": "python",
   "name": "python3"
  },
  "language_info": {
   "codemirror_mode": {
    "name": "ipython",
    "version": 3
   },
   "file_extension": ".py",
   "mimetype": "text/x-python",
   "name": "python",
   "nbconvert_exporter": "python",
   "pygments_lexer": "ipython3",
   "version": "3.10.11"
  }
 },
 "nbformat": 4,
 "nbformat_minor": 4
}
