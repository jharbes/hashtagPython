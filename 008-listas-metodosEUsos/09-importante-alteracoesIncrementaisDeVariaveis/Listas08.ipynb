{
 "cells": [
  {
   "cell_type": "markdown",
   "metadata": {},
   "source": [
    "# Alterações de Variáveis\n",
    "\n",
    "Estrutura:\n",
    "\n",
    "- variavel = variavel + outro_valor\n",
    "\n",
    "ou então\n",
    "\n",
    "- variavel += outro_valor"
   ]
  },
  {
   "cell_type": "markdown",
   "metadata": {},
   "source": [
    "Exemplo: vamos adicionar às variáveis criadas o Produto IPad, 500 vendas"
   ]
  },
  {
   "cell_type": "code",
   "execution_count": 4,
   "metadata": {},
   "outputs": [
    {
     "name": "stdout",
     "output_type": "stream",
     "text": [
      "['mac', 'iphone', 'IPad']\n",
      "800\n",
      "Esse mês vendemos um total de 800 produtos, sendo:\n",
      "100 unidades de mac\n",
      "200 unidades de iphone\n",
      "500 unidades de IPad\n"
     ]
    }
   ],
   "source": [
    "lista = ['mac', 'iphone']\n",
    "vendas = [100, 200]\n",
    "# adicionando IPad na lista\n",
    "\n",
    "# lista.append('IPad')\n",
    "# ou\n",
    "lista+=['IPad']\n",
    "print(lista) # ['mac', 'iphone', 'IPad']\n",
    "\n",
    "\n",
    "soma_vendas = 300\n",
    "# adicionando na soma a quantidade de IPad\n",
    "\n",
    "soma_vendas+=500\n",
    "print(soma_vendas) # 800\n",
    "\n",
    "\n",
    "\n",
    "email = 'Esse mês vendemos um total de {} produtos, sendo:\\n{} unidades de {}\\n{} unidades de {}'.format(soma_vendas, vendas[0], lista[0], vendas[1], lista[1])\n",
    "# adicionando no fim do texto o Ipad\n",
    "\n",
    "vendas.append(500)\n",
    "email+='\\n{} unidades de {}'.format(vendas[2],lista[2])\n",
    "\n",
    "print(email)"
   ]
  }
 ],
 "metadata": {
  "kernelspec": {
   "display_name": "Python 3",
   "language": "python",
   "name": "python3"
  },
  "language_info": {
   "codemirror_mode": {
    "name": "ipython",
    "version": 3
   },
   "file_extension": ".py",
   "mimetype": "text/x-python",
   "name": "python",
   "nbconvert_exporter": "python",
   "pygments_lexer": "ipython3",
   "version": "3.10.11"
  }
 },
 "nbformat": 4,
 "nbformat_minor": 4
}
