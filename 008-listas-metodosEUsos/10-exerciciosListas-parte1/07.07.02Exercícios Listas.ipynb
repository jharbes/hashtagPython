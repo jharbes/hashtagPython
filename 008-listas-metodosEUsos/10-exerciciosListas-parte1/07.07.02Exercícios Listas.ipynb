{
 "cells": [
  {
   "cell_type": "markdown",
   "metadata": {},
   "source": [
    "# Exercícios\n",
    "\n",
    "## 1. Faturamento do Melhor e do Pior Mês do Ano\n",
    "\n",
    "Qual foi o valor de vendas do melhor mês do Ano?\n",
    "E valor do pior mês do ano?"
   ]
  },
  {
   "cell_type": "code",
   "execution_count": 12,
   "metadata": {},
   "outputs": [
    {
     "name": "stdout",
     "output_type": "stream",
     "text": [
      "O valor de vendas do melhor mês do ano foi R$ 49.051,00 e o do pior foi R$ 9.650,00\n"
     ]
    }
   ],
   "source": [
    "# criando formatacao para os valores (em reais)\n",
    "import locale\n",
    "\n",
    "locale.setlocale(locale.LC_MONETARY,'pt_BR.UTF-8')\n",
    "\n",
    "def formatacaoMoeda(valor):\n",
    "    return locale.currency(valor,grouping=True)\n",
    "\n",
    "\n",
    "def formatacaoPercentual(valor):\n",
    "    valor*=100\n",
    "    return '{}%'.format(round(valor,2))\n",
    "\n",
    "\n",
    "meses = ['jan', 'fev', 'mar', 'abr', 'mai', 'jun', 'jul', 'ago', 'set', 'out', 'nov', 'dez']\n",
    "vendas_1sem = [25000, 29000, 22200, 17750, 15870, 19900]\n",
    "vendas_2sem = [19850, 20120, 17540, 15555, 49051, 9650]\n",
    "\n",
    "\n",
    "vendas_ano=vendas_1sem+vendas_2sem\n",
    "\n",
    "print('O valor de vendas do melhor mês do ano foi {} e o do pior foi {}'.format(formatacaoMoeda(max(vendas_ano)),formatacaoMoeda(min(vendas_ano))))"
   ]
  },
  {
   "cell_type": "markdown",
   "metadata": {},
   "source": [
    "## 2. Continuação\n",
    "\n",
    "Agora relacione as duas listas para printar 'O melhor mês do ano foi {} com {} vendas' e o mesmo para o pior mês do ano.\n",
    "\n",
    "Calcule também o faturamento total do Ano e quanto que o melhor mês representou do faturamento total.\n",
    "\n",
    "Obs: Para o faturamento total, pode usar a função sum(lista) que soma todos os itens de uma lista"
   ]
  },
  {
   "cell_type": "code",
   "execution_count": 13,
   "metadata": {},
   "outputs": [
    {
     "name": "stdout",
     "output_type": "stream",
     "text": [
      "O melhor mês do ano foi nov com R$ 49.051,00 em vendas.\n",
      "O pior mês do ano foi dez com R$ 9.650,00 em vendas.\n",
      "O faturamento total foi de R$ 261.486,00 e o melhor mês representou 18.76% desse faturamento\n"
     ]
    }
   ],
   "source": [
    "print('O melhor mês do ano foi {} com {} em vendas.'.format(meses[vendas_ano.index(max(vendas_ano))],formatacaoMoeda(max(vendas_ano))))\n",
    "\n",
    "print('O pior mês do ano foi {} com {} em vendas.'.format(meses[vendas_ano.index(min(vendas_ano))],formatacaoMoeda(min(vendas_ano))))\n",
    "\n",
    "print('O faturamento total foi de {} e o melhor mês representou {} desse faturamento'.format(formatacaoMoeda(sum(vendas_ano)),formatacaoPercentual(max(vendas_ano)/sum(vendas_ano))))"
   ]
  },
  {
   "cell_type": "markdown",
   "metadata": {},
   "source": [
    "## 3. Crie uma lista com o top 3 valores de vendas do ano (sem fazer \"no olho\")\n",
    "\n",
    "Dica: o método remove retira um item da lista."
   ]
  },
  {
   "cell_type": "code",
   "execution_count": 2,
   "metadata": {},
   "outputs": [],
   "source": [
    "top3 = []"
   ]
  }
 ],
 "metadata": {
  "kernelspec": {
   "display_name": "Python 3",
   "language": "python",
   "name": "python3"
  },
  "language_info": {
   "codemirror_mode": {
    "name": "ipython",
    "version": 3
   },
   "file_extension": ".py",
   "mimetype": "text/x-python",
   "name": "python",
   "nbconvert_exporter": "python",
   "pygments_lexer": "ipython3",
   "version": "3.10.11"
  }
 },
 "nbformat": 4,
 "nbformat_minor": 4
}
