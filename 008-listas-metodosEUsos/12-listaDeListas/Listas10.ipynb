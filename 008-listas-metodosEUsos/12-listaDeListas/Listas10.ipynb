{
 "cells": [
  {
   "cell_type": "markdown",
   "metadata": {},
   "source": [
    "# Listas de Listas\n",
    "\n",
    "### Estrutura:\n",
    "\n",
    "Cada item de uma lista pode ser qualquer tipo de variável. Inclusive, uma lista.\n",
    "\n",
    "Quando dentro de uma lista temos cada item como sendo uma outra lista, temos uma \"nested list\", ou seja, uma lista de listas.\n",
    "\n",
    "Todas as regras de lista e tudo que vimos até agora funciona exatamente igual, mas vamos ver como isso funciona na prática"
   ]
  },
  {
   "cell_type": "code",
   "execution_count": 25,
   "metadata": {},
   "outputs": [],
   "source": [
    "vendedores = ['Lira', 'João', 'Diego', 'Alon']\n",
    "produtos = ['ipad', 'iphone']\n",
    "vendas = [\n",
    "    [100, 200],\n",
    "    [300, 500],\n",
    "    [50, 1000],\n",
    "    [900, 10],\n",
    "]"
   ]
  },
  {
   "cell_type": "markdown",
   "metadata": {},
   "source": [
    "- Quanto João vendeu de IPad?\n",
    "- Quanto Diego vendeu de IPhone\n",
    "- Qual o total de vendas de IPhone?"
   ]
  },
  {
   "cell_type": "code",
   "execution_count": 26,
   "metadata": {},
   "outputs": [
    {
     "name": "stdout",
     "output_type": "stream",
     "text": [
      "João vendeu 300 unidades de ipad\n",
      "Diego vendeu 1000 unidades de iphone\n",
      "O total de vendas de IPhone foi de 1710\n"
     ]
    }
   ],
   "source": [
    "vendas_ipad_joao=vendas[1][0]\n",
    "print(f'João vendeu {vendas_ipad_joao} unidades de {produtos[0]}') # João vendeu 300 unidades de ipad\n",
    "\n",
    "venda_iphone_diego=vendas[2][1]\n",
    "print('Diego vendeu {} unidades de {}'.format(venda_iphone_diego,produtos[1])) # Diego vendeu 1000 unidades de iphone\n",
    "\n",
    "total_vendas_iphone=0\n",
    "for venda in vendas:\n",
    "    total_vendas_iphone+=venda[:][1]\n",
    "\n",
    "print('O total de vendas de IPhone foi de '+str(total_vendas_iphone)) # O total de vendas de IPhone foi de 1710"
   ]
  },
  {
   "cell_type": "markdown",
   "metadata": {},
   "source": [
    "- E se Lira na verdade fez apenas 50 vendas de IPhone, como eu modifico na minha lista o valor de vendas dele?"
   ]
  },
  {
   "cell_type": "code",
   "execution_count": 27,
   "metadata": {},
   "outputs": [
    {
     "name": "stdout",
     "output_type": "stream",
     "text": [
      "[[100, 50], [300, 500], [50, 1000], [900, 10]]\n"
     ]
    }
   ],
   "source": [
    "vendas[0][1]=50\n",
    "print(vendas) # [[100, 50], [300, 500], [50, 1000], [900, 10]]"
   ]
  },
  {
   "cell_type": "markdown",
   "metadata": {},
   "source": [
    "- E se agora eu tenho um novo produto 'mac', como eu adiciono as vendas em cada um dos vendedores?"
   ]
  },
  {
   "cell_type": "code",
   "execution_count": 28,
   "metadata": {},
   "outputs": [
    {
     "name": "stdout",
     "output_type": "stream",
     "text": [
      "[[100, 50], [300, 500], [50, 1000], [900, 10]]\n",
      "[[100, 50, 50], [300, 500, 60], [50, 1000, 70], [900, 10, 80]]\n"
     ]
    }
   ],
   "source": [
    "produtos.append('mac')\n",
    "print(vendas)\n",
    "\n",
    "for i,venda in enumerate(vendas):\n",
    "    valor_venda=input('Digite o valor da venda para o vendedor '+vendedores[i]+': ')\n",
    "    try:\n",
    "        valor_venda=int(valor_venda)\n",
    "        venda.append(valor_venda)\n",
    "    except:\n",
    "        print('Valor de venda inválido')\n",
    "\n",
    "print(vendas)"
   ]
  }
 ],
 "metadata": {
  "kernelspec": {
   "display_name": "Python 3",
   "language": "python",
   "name": "python3"
  },
  "language_info": {
   "codemirror_mode": {
    "name": "ipython",
    "version": 3
   },
   "file_extension": ".py",
   "mimetype": "text/x-python",
   "name": "python",
   "nbconvert_exporter": "python",
   "pygments_lexer": "ipython3",
   "version": "3.11.2"
  }
 },
 "nbformat": 4,
 "nbformat_minor": 4
}
