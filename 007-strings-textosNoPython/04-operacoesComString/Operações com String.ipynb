{
 "cells": [
  {
   "cell_type": "markdown",
   "metadata": {},
   "source": [
    "# Operações com String\n",
    "\n",
    "str -> transforma número em string<br>\n",
    "in -> verifica se um texto está contido dentro do outro<br>\n",
    "operador + -> concatenar string<br>\n",
    "format e {} -> substitui valores<br>\n",
    "%s -> substitui textos<br>\n",
    "%d -> substitui números decimais<br>\n",
    "\n",
    "Vamos deixar uma cartilha para download"
   ]
  },
  {
   "cell_type": "code",
   "execution_count": 14,
   "metadata": {},
   "outputs": [],
   "source": [
    "faturamento = 1000\n",
    "custo = 400\n",
    "lucro = faturamento - custo"
   ]
  },
  {
   "cell_type": "markdown",
   "metadata": {},
   "source": [
    "Uso do str() e do concatenar com +"
   ]
  },
  {
   "cell_type": "code",
   "execution_count": 15,
   "metadata": {},
   "outputs": [
    {
     "name": "stdout",
     "output_type": "stream",
     "text": [
      "O faturamento da loja foi de: 1000\n",
      "O faturamento da loja foi de: 1000\n"
     ]
    }
   ],
   "source": [
    "print('O faturamento da loja foi de:',faturamento)\n",
    "print('O faturamento da loja foi de: '+str(faturamento))"
   ]
  },
  {
   "cell_type": "markdown",
   "metadata": {},
   "source": [
    "Uso do Format"
   ]
  },
  {
   "cell_type": "code",
   "execution_count": 18,
   "metadata": {},
   "outputs": [
    {
     "name": "stdout",
     "output_type": "stream",
     "text": [
      "O faturamento foi de: 1000\n",
      "O faturamento foi de: 1000\n",
      "O faturamento foi de 1000. O custo foi de 400 e o lucro foi de 600. Lembrando o faturamento foi de 1000\n"
     ]
    }
   ],
   "source": [
    "print('O faturamento foi de: {}'.format(faturamento))\n",
    "print(f'O faturamento foi de: {faturamento}')\n",
    "\n",
    "# caso seja necessario repetir alguma variavel teremos que usar os indices, sempre podemos usar os indices, no entanto ao usar para uma variavel teremos que usar para todas as outras\n",
    "print('O faturamento foi de {0}. O custo foi de {1} e o lucro foi de {2}. Lembrando o faturamento foi de {0}'.format(faturamento,custo,lucro))"
   ]
  },
  {
   "cell_type": "markdown",
   "metadata": {},
   "source": [
    "Uso do %s e %d"
   ]
  },
  {
   "cell_type": "code",
   "execution_count": 20,
   "metadata": {},
   "outputs": [
    {
     "name": "stdout",
     "output_type": "stream",
     "text": [
      "O faturamento 1000.\n",
      "O faturamento foi de 1000. O custo foi de 400 e o lucro foi de 600.\n"
     ]
    }
   ],
   "source": [
    "# %d substitui por um número\n",
    "# %s substitui por um texto\n",
    "\n",
    "print ('O faturamento %d.' % faturamento)\n",
    "\n",
    "print('O faturamento foi de %d. O custo foi de %d e o lucro foi de %d.' % (faturamento,custo,lucro))"
   ]
  },
  {
   "cell_type": "markdown",
   "metadata": {},
   "source": [
    "Uso do in (mais exercícios práticos nas próximas aulas)"
   ]
  },
  {
   "cell_type": "code",
   "execution_count": 21,
   "metadata": {},
   "outputs": [
    {
     "name": "stdout",
     "output_type": "stream",
     "text": [
      "True\n",
      "False\n"
     ]
    }
   ],
   "source": [
    "print('@' in 'lira@gmail.com')\n",
    "print('@' in 'lira.gmail.com')"
   ]
  }
 ],
 "metadata": {
  "kernelspec": {
   "display_name": "Python 3",
   "language": "python",
   "name": "python3"
  },
  "language_info": {
   "codemirror_mode": {
    "name": "ipython",
    "version": 3
   },
   "file_extension": ".py",
   "mimetype": "text/x-python",
   "name": "python",
   "nbconvert_exporter": "python",
   "pygments_lexer": "ipython3",
   "version": "3.11.2"
  }
 },
 "nbformat": 4,
 "nbformat_minor": 4
}
