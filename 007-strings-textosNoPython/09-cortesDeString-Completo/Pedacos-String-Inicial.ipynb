{
 "cells": [
  {
   "cell_type": "markdown",
   "id": "4e5fa91b",
   "metadata": {},
   "source": [
    "### Forma Básica"
   ]
  },
  {
   "cell_type": "code",
   "execution_count": 6,
   "id": "fba45682",
   "metadata": {},
   "outputs": [
    {
     "name": "stdout",
     "output_type": "stream",
     "text": [
      "['Jan: 25', ' Fev: 27', ' Mar: 29']\n",
      "['25', '27', '29']\n"
     ]
    }
   ],
   "source": [
    "precos = \"Jan: 25, Fev: 27, Mar: 29\"\n",
    "\n",
    "precos_lista=precos.split(',')\n",
    "print(precos_lista)\n",
    "\n",
    "precos_lista=[item[-2:] for item in precos_lista]\n",
    "print(precos_lista)"
   ]
  },
  {
   "cell_type": "markdown",
   "id": "afe5dc17",
   "metadata": {},
   "source": [
    "### Posição Inicial e Final"
   ]
  },
  {
   "cell_type": "markdown",
   "id": "bca6dfd4",
   "metadata": {},
   "source": [
    "### Posição Inicial e Final com Step"
   ]
  },
  {
   "cell_type": "code",
   "execution_count": 8,
   "id": "e134a9b3",
   "metadata": {},
   "outputs": [
    {
     "name": "stdout",
     "output_type": "stream",
     "text": [
      "9.7,4.3.2,1,5,4.3.2.1\n",
      "1543\n"
     ]
    }
   ],
   "source": [
    "# STEP NAS STRINGS\n",
    "\n",
    "# posicoes [x,y,z]\n",
    "# x -> posicao inicial do recorte\n",
    "# y -> posicao final do recorte\n",
    "# z -> STEP - de quantos em quantos ele vai buscar\n",
    "\n",
    "codigo = \"1.2.3.4,5,1,2.3.4,7.9\"\n",
    "num_codigos = codigo[-1::-1]\n",
    "print(num_codigos)\n",
    "\n",
    "num_codigos = codigo[10:2:-2]\n",
    "print(num_codigos)"
   ]
  }
 ],
 "metadata": {
  "kernelspec": {
   "display_name": "Python 3 (ipykernel)",
   "language": "python",
   "name": "python3"
  },
  "language_info": {
   "codemirror_mode": {
    "name": "ipython",
    "version": 3
   },
   "file_extension": ".py",
   "mimetype": "text/x-python",
   "name": "python",
   "nbconvert_exporter": "python",
   "pygments_lexer": "ipython3",
   "version": "3.10.11"
  }
 },
 "nbformat": 4,
 "nbformat_minor": 5
}
