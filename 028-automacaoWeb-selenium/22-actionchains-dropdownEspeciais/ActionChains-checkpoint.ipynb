{
 "cells": [
  {
   "cell_type": "markdown",
   "id": "367cd714",
   "metadata": {},
   "source": [
    "### Documentação Selenium:\n",
    "\n",
    "- https://selenium-python.readthedocs.io/locating-elements.html"
   ]
  },
  {
   "cell_type": "code",
   "execution_count": 1,
   "id": "4e28f9f7",
   "metadata": {},
   "outputs": [
    {
     "name": "stderr",
     "output_type": "stream",
     "text": [
      "[WDM] - Downloading: 100%|██████████| 6.79M/6.79M [00:00<00:00, 8.08MB/s]\n"
     ]
    }
   ],
   "source": [
    "from selenium import webdriver\n",
    "from selenium.webdriver.chrome.service import Service\n",
    "from webdriver_manager.chrome import ChromeDriverManager\n",
    "from selenium.webdriver.common.by import By\n",
    "\n",
    "servico = Service(ChromeDriverManager().install())\n",
    "navegador = webdriver.Chrome(service=servico)"
   ]
  },
  {
   "cell_type": "code",
   "execution_count": 2,
   "id": "59c8398d",
   "metadata": {},
   "outputs": [],
   "source": [
    "import os, time\n",
    "\n",
    "caminho = os.getcwd()\n",
    "arquivo = caminho + r\"\\Pagina Hashtag.html\"\n",
    "navegador.get(arquivo)"
   ]
  },
  {
   "cell_type": "markdown",
   "id": "7d964ce5",
   "metadata": {},
   "source": [
    "#### Dropdown diferente em um site real"
   ]
  },
  {
   "cell_type": "code",
   "execution_count": 3,
   "id": "09f60749",
   "metadata": {},
   "outputs": [
    {
     "name": "stdout",
     "output_type": "stream",
     "text": [
      "https://www.hashtagtreinamentos.com/curso-sql\n"
     ]
    }
   ],
   "source": [
    "# faremos um caminho alternativo ao mero clique no link, faremos a captura do link por meio do get atribute e depois utilizaremos no comando navegador.get(linkSql)\n",
    "\n",
    "linkSql=navegador.find_element(By.XPATH,'//*[@id=\"menu-item-17042\"]/a').get_attribute('href')\n",
    "print(linkSql)\n",
    "\n",
    "navegador.get(linkSql)"
   ]
  },
  {
   "cell_type": "markdown",
   "id": "80f18fcd",
   "metadata": {},
   "source": [
    "### ActionChains\n",
    "\n",
    "Link com a referência: https://www.selenium.dev/pt-br/documentation/webdriver/actions_api/mouse/"
   ]
  },
  {
   "cell_type": "code",
   "execution_count": 4,
   "id": "dbac0005",
   "metadata": {},
   "outputs": [],
   "source": [
    "\"\"\"\n",
    "# action chains simula acoes com o mouse sem efetivamente usar o mouse, isso significa que o computador nao precisa estar dedicado a isso para que seja efetivamente efetuada a operacao\n",
    "\n",
    "# diversas outras funcionalidades do ActionChains estao disponiveis, sejam elas clicar e arrastar, duplo clique, clicar e largar etc\n",
    "\n",
    "# Link com a referência: https://www.selenium.dev/pt-br/documentation/webdriver/actions_api/mouse/\n",
    "\n",
    "\"\"\"\n",
    "\n",
    "from selenium.webdriver import ActionChains\n",
    "\n",
    "menu=navegador.find_element(By.XPATH,'//*[@id=\"menu-item-dropdown-16313\"]')\n",
    "item=navegador.find_element(By.XPATH,'//*[@id=\"menu-item-17042\"]/a')\n",
    "\n",
    "# primeiro colocamos o mouse no menu\n",
    "\n",
    "ActionChains(navegador).move_to_element(menu).perform() # no action chains a acao de hover tem o nome de move_to_element e as acoes so serao finalizadas com o .perform() no final\n",
    "\n",
    "time.sleep(0.5) # o drop down pode levar algum tempo para ocorrer dependendo do site\n",
    "#  para depois clicar no item\n",
    "\n",
    "item.click()"
   ]
  }
 ],
 "metadata": {
  "kernelspec": {
   "display_name": "Python 3 (ipykernel)",
   "language": "python",
   "name": "python3"
  },
  "language_info": {
   "codemirror_mode": {
    "name": "ipython",
    "version": 3
   },
   "file_extension": ".py",
   "mimetype": "text/x-python",
   "name": "python",
   "nbconvert_exporter": "python",
   "pygments_lexer": "ipython3",
   "version": "3.9.5"
  }
 },
 "nbformat": 4,
 "nbformat_minor": 5
}
