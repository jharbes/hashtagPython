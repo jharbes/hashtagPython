{
 "cells": [
  {
   "cell_type": "markdown",
   "metadata": {},
   "source": [
    "# Mais de 1 argumento e formas de passar argumento para uma função\n",
    "\n",
    "### Estrutura:\n",
    "\n",
    "- 2 formas de passar o argumento:\n",
    "    1. Em ordem (positional argument)\n",
    "    2. Com o nome do argumento (keyword argument)"
   ]
  },
  {
   "cell_type": "markdown",
   "metadata": {},
   "source": [
    "- Vamos mudar a função que fizemos na aula passada para conseguir categorizar qualquer tipo de bebida de acordo com o \"rótulo\" passado para a nossa function. Basicamente nossa function agora tem que verificar se o produto é da categoria passada ou não."
   ]
  },
  {
   "cell_type": "code",
   "execution_count": 1,
   "metadata": {},
   "outputs": [
    {
     "name": "stdout",
     "output_type": "stream",
     "text": [
      "Enviar BEB21365 para setor de bebidas alcóolicas\n",
      "Enviar BEB31623 para setor de bebidas alcóolicas\n",
      "Enviar BEB73344 para setor de bebidas alcóolicas\n",
      "Enviar BEB80694 para setor de bebidas alcóolicas\n",
      "Enviar BEB19495 para setor de bebidas alcóolicas\n",
      "Enviar BEB97471 para setor de bebidas alcóolicas\n",
      "Enviar BEB62362 para setor de bebidas alcóolicas\n",
      "Enviar BEB85146 para setor de bebidas alcóolicas\n",
      "Enviar BEB48898 para setor de bebidas alcóolicas\n",
      "Enviar BEB79496 para setor de bebidas alcóolicas\n",
      "Enviar BEB15385 para setor de bebidas alcóolicas\n",
      "Enviar BEB24213 para setor de bebidas alcóolicas\n",
      "Enviar BEB56262 para setor de bebidas alcóolicas\n",
      "Enviar BEB75073 para setor de bebidas alcóolicas\n"
     ]
    }
   ],
   "source": [
    "def ehalcoolico(bebida):\n",
    "    bebida = bebida.upper()\n",
    "    if 'BEB' in bebida:\n",
    "        return True\n",
    "\n",
    "\n",
    "produtos = ['CAR46275','TFA23962','TFA64715','TFA69555','TFA56743','BSA45510','TFA44968','CAR75448','CAR23596','CAR13490','BEB21365','BEB31623','BSA62419','BEB73344','TFA20079','BEB80694','BSA11769','BEB19495','TFA14792','TFA78043','BSA33484','BEB97471','BEB62362','TFA27311','TFA17715','BEB85146','BEB48898','BEB79496','CAR38417','TFA19947','TFA58799','CAR94811','BSA59251','BEB15385','BEB24213','BEB56262','BSA96915','CAR53454','BEB75073']\n",
    "\n",
    "for produto in produtos:\n",
    "    if ehalcoolico(produto):\n",
    "        print('Enviar {} para setor de bebidas alcóolicas'.format(produto))\n"
   ]
  },
  {
   "cell_type": "code",
   "execution_count": 6,
   "metadata": {},
   "outputs": [
    {
     "name": "stdout",
     "output_type": "stream",
     "text": [
      "Enviar CAR46275 para o setor de bebidas não alcóolicas\n",
      "Enviar TFA23962 para o setor de bebidas não alcóolicas\n",
      "Enviar TFA64715 para o setor de bebidas não alcóolicas\n",
      "Enviar TFA69555 para o setor de bebidas não alcóolicas\n",
      "Enviar TFA56743 para o setor de bebidas não alcóolicas\n",
      "Enviar BSA45510 para o setor de bebidas não alcóolicas\n",
      "Enviar TFA44968 para o setor de bebidas não alcóolicas\n",
      "Enviar CAR75448 para o setor de bebidas não alcóolicas\n",
      "Enviar CAR23596 para o setor de bebidas não alcóolicas\n",
      "Enviar CAR13490 para o setor de bebidas não alcóolicas\n",
      "Enviar BEB21365 para setor de bebidas alcóolicas\n",
      "Enviar BEB31623 para setor de bebidas alcóolicas\n",
      "Enviar BSA62419 para o setor de bebidas não alcóolicas\n",
      "Enviar BEB73344 para setor de bebidas alcóolicas\n",
      "Enviar TFA20079 para o setor de bebidas não alcóolicas\n",
      "Enviar BEB80694 para setor de bebidas alcóolicas\n",
      "Enviar BSA11769 para o setor de bebidas não alcóolicas\n",
      "Enviar BEB19495 para setor de bebidas alcóolicas\n",
      "Enviar TFA14792 para o setor de bebidas não alcóolicas\n",
      "Enviar TFA78043 para o setor de bebidas não alcóolicas\n",
      "Enviar BSA33484 para o setor de bebidas não alcóolicas\n",
      "Enviar BEB97471 para setor de bebidas alcóolicas\n",
      "Enviar BEB62362 para setor de bebidas alcóolicas\n",
      "Enviar TFA27311 para o setor de bebidas não alcóolicas\n",
      "Enviar TFA17715 para o setor de bebidas não alcóolicas\n",
      "Enviar BEB85146 para setor de bebidas alcóolicas\n",
      "Enviar BEB48898 para setor de bebidas alcóolicas\n",
      "Enviar BEB79496 para setor de bebidas alcóolicas\n",
      "Enviar CAR38417 para o setor de bebidas não alcóolicas\n",
      "Enviar TFA19947 para o setor de bebidas não alcóolicas\n",
      "Enviar TFA58799 para o setor de bebidas não alcóolicas\n",
      "Enviar CAR94811 para o setor de bebidas não alcóolicas\n",
      "Enviar BSA59251 para o setor de bebidas não alcóolicas\n",
      "Enviar BEB15385 para setor de bebidas alcóolicas\n",
      "Enviar BEB24213 para setor de bebidas alcóolicas\n",
      "Enviar BEB56262 para setor de bebidas alcóolicas\n",
      "Enviar BSA96915 para o setor de bebidas não alcóolicas\n",
      "Enviar CAR53454 para o setor de bebidas não alcóolicas\n",
      "Enviar BEB75073 para setor de bebidas alcóolicas\n",
      "--------------------\n",
      "Enviar CAR46275 para o setor de bebidas não alcóolicas\n",
      "Enviar TFA23962 para o setor de bebidas não alcóolicas\n",
      "Enviar TFA64715 para o setor de bebidas não alcóolicas\n",
      "Enviar TFA69555 para o setor de bebidas não alcóolicas\n",
      "Enviar TFA56743 para o setor de bebidas não alcóolicas\n",
      "Enviar BSA45510 para o setor de bebidas não alcóolicas\n",
      "Enviar TFA44968 para o setor de bebidas não alcóolicas\n",
      "Enviar CAR75448 para o setor de bebidas não alcóolicas\n",
      "Enviar CAR23596 para o setor de bebidas não alcóolicas\n",
      "Enviar CAR13490 para o setor de bebidas não alcóolicas\n",
      "Enviar BEB21365 para setor de bebidas alcóolicas\n",
      "Enviar BEB31623 para setor de bebidas alcóolicas\n",
      "Enviar BSA62419 para o setor de bebidas não alcóolicas\n",
      "Enviar BEB73344 para setor de bebidas alcóolicas\n",
      "Enviar TFA20079 para o setor de bebidas não alcóolicas\n",
      "Enviar BEB80694 para setor de bebidas alcóolicas\n",
      "Enviar BSA11769 para o setor de bebidas não alcóolicas\n",
      "Enviar BEB19495 para setor de bebidas alcóolicas\n",
      "Enviar TFA14792 para o setor de bebidas não alcóolicas\n",
      "Enviar TFA78043 para o setor de bebidas não alcóolicas\n",
      "Enviar BSA33484 para o setor de bebidas não alcóolicas\n",
      "Enviar BEB97471 para setor de bebidas alcóolicas\n",
      "Enviar BEB62362 para setor de bebidas alcóolicas\n",
      "Enviar TFA27311 para o setor de bebidas não alcóolicas\n",
      "Enviar TFA17715 para o setor de bebidas não alcóolicas\n",
      "Enviar BEB85146 para setor de bebidas alcóolicas\n",
      "Enviar BEB48898 para setor de bebidas alcóolicas\n",
      "Enviar BEB79496 para setor de bebidas alcóolicas\n",
      "Enviar CAR38417 para o setor de bebidas não alcóolicas\n",
      "Enviar TFA19947 para o setor de bebidas não alcóolicas\n",
      "Enviar TFA58799 para o setor de bebidas não alcóolicas\n",
      "Enviar CAR94811 para o setor de bebidas não alcóolicas\n",
      "Enviar BSA59251 para o setor de bebidas não alcóolicas\n",
      "Enviar BEB15385 para setor de bebidas alcóolicas\n",
      "Enviar BEB24213 para setor de bebidas alcóolicas\n",
      "Enviar BEB56262 para setor de bebidas alcóolicas\n",
      "Enviar BSA96915 para o setor de bebidas não alcóolicas\n",
      "Enviar CAR53454 para o setor de bebidas não alcóolicas\n",
      "Enviar BEB75073 para setor de bebidas alcóolicas\n",
      "--------------------\n"
     ]
    }
   ],
   "source": [
    "def confereCategoria(produto,categoria):\n",
    "    return True if categoria.lower() in produto.lower() else False\n",
    "\n",
    "for produto in produtos:\n",
    "    if confereCategoria(produto,'BEB'):\n",
    "        print('Enviar {} para setor de bebidas alcóolicas'.format(produto))\n",
    "    else:\n",
    "        print('Enviar {} para o setor de bebidas não alcóolicas'.format(produto))\n",
    "\n",
    "print('-'*20)\n",
    "\n",
    "\n",
    "\n",
    "# utilizando keyword argument:\n",
    "# observe que usando o keyword arguments podemos alterar a ordem dos argumentos\n",
    "# ao usar o keyword argument TODOS os outros argumentos POSTERIORES devem ser nomeados\n",
    "\n",
    "for produto in produtos:\n",
    "    if confereCategoria(categoria='BEB',produto=produto):\n",
    "        print('Enviar {} para setor de bebidas alcóolicas'.format(produto))\n",
    "    else:\n",
    "        print('Enviar {} para o setor de bebidas não alcóolicas'.format(produto))\n",
    "\n",
    "print('-'*20)"
   ]
  },
  {
   "cell_type": "markdown",
   "metadata": {},
   "source": [
    "## Obs Importante: Sua função deve estar SEMPRE antes de ser usada.\n",
    "\n",
    "- Normalmente, nos nossos códigos, fazemos as definições de todas as funções antes e depois construimos o resto do código.\n",
    "- É comum dar '2 enters' após a definição da função para deixar o código mais organizado\n"
   ]
  },
  {
   "cell_type": "code",
   "execution_count": 10,
   "metadata": {},
   "outputs": [
    {
     "name": "stdout",
     "output_type": "stream",
     "text": [
      "Testando argumentos nomeados\n",
      "testando\n"
     ]
    }
   ],
   "source": [
    "# Exemplos de argumentos nomeados:\n",
    "\n",
    "print('Testando argumentos nomeados','testando',sep='\\n')"
   ]
  }
 ],
 "metadata": {
  "kernelspec": {
   "display_name": "Python 3",
   "language": "python",
   "name": "python3"
  },
  "language_info": {
   "codemirror_mode": {
    "name": "ipython",
    "version": 3
   },
   "file_extension": ".py",
   "mimetype": "text/x-python",
   "name": "python",
   "nbconvert_exporter": "python",
   "pygments_lexer": "ipython3",
   "version": "3.10.11"
  }
 },
 "nbformat": 4,
 "nbformat_minor": 4
}
