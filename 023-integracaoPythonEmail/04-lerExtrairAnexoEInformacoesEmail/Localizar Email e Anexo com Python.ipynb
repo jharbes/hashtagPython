{
 "cells": [
  {
   "cell_type": "code",
   "execution_count": 2,
   "id": "7b425da8",
   "metadata": {},
   "outputs": [
    {
     "name": "stdout",
     "output_type": "stream",
     "text": [
      "['c:\\\\Users\\\\Jorge\\\\Desktop\\\\hashtag\\\\hashtagPython\\\\023-integracaoPythonEmail\\\\04-lerExtrairAnexoEInformacoesEmail', 'c:\\\\Program Files\\\\Python311\\\\python311.zip', 'c:\\\\Program Files\\\\Python311\\\\DLLs', 'c:\\\\Program Files\\\\Python311\\\\Lib', 'c:\\\\Program Files\\\\Python311', '', 'C:\\\\Users\\\\Jorge\\\\AppData\\\\Roaming\\\\Python\\\\Python311\\\\site-packages', 'C:\\\\Users\\\\Jorge\\\\AppData\\\\Roaming\\\\Python\\\\Python311\\\\site-packages\\\\win32', 'C:\\\\Users\\\\Jorge\\\\AppData\\\\Roaming\\\\Python\\\\Python311\\\\site-packages\\\\win32\\\\lib', 'C:\\\\Users\\\\Jorge\\\\AppData\\\\Roaming\\\\Python\\\\Python311\\\\site-packages\\\\Pythonwin', 'c:\\\\Program Files\\\\Python311\\\\Lib\\\\site-packages', 'C:\\\\Users\\\\Jorge\\\\Desktop\\\\hashtag', 'C:\\\\Users\\\\Jorge\\\\Desktop\\\\hashtag']\n"
     ]
    }
   ],
   "source": [
    "\"\"\"\n",
    "Ler e extrair anexo e informacoes do Email\n",
    "\n",
    "\"\"\"\n",
    "\n",
    "\"\"\"\n",
    "Lista de sites com servidores IMAP de vários tipos de email:\n",
    "https://www.systoolsgroup.com/imap/\n",
    "\"\"\"\n",
    "\n",
    "import sys\n",
    "sys.path.append('C:\\\\Users\\\\Jorge\\\\Desktop\\\\hashtag')\n",
    "print(sys.path)\n",
    "\n",
    "# importacao da senha em arquivo nao disponivel no github\n",
    "from passwd import password # imprimindo todos os sys.path disponiveis após a adicao acima\n",
    "\n",
    "from imap_tools import MailBox, AND\n",
    "\n",
    "usuario='jharbes@hotmail.com'\n",
    "senha=password\n",
    "\n",
    "# TODO: testando o todo\n",
    "\n",
    "meu_email=MailBox('outlook.office365.com').login(usuario,senha)"
   ]
  },
  {
   "cell_type": "code",
   "execution_count": 10,
   "id": "ebee7f0f",
   "metadata": {},
   "outputs": [
    {
     "name": "stdout",
     "output_type": "stream",
     "text": [
      "Relatório de Vendas de Ontem\n",
      "Prezados, bom dia\n",
      "\n",
      "O faturamento de ontem foi de: R$2,917,311.00\n",
      "A quantidade de produtos foi de: 15,227\n",
      "\n",
      "Abs\n",
      "LiraPython\n",
      "\n",
      "Relatório de Vendas de Ontem\n",
      "Prezados, bom dia\n",
      "\n",
      "O faturamento de ontem foi de: R$2,917,311.00\n",
      "A quantidade de produtos foi de: 15,227\n",
      "\n",
      "Abs\n",
      "LiraPython\n",
      "\n",
      "Relatório de Vendas do Lira\n",
      "Prezados,\n",
      "\n",
      "Segue em anexo o relatório de vendas de outubro.\n",
      "\n",
      "Att.,\n",
      "Lira\n",
      "\n",
      "Relatorio Excel de Vendas\n",
      "Prezados,\n",
      "\n",
      "Segue em anexo o relatório de vendas de outubro.\n",
      "\n",
      "Att.,\n",
      "Lira\n",
      "\n"
     ]
    }
   ],
   "source": [
    "\"\"\"\n",
    "Link com ferramentas do IMAP tools com filtros que podem ser feitos para encontrar e-mails na caixa de entrada usando o fetch:\n",
    "\n",
    "https://github.com/ikvk/imap_tools#search-criteria\n",
    "\n",
    "\"\"\"\n",
    "\n",
    "# pegar email que foram enviados por um remetente específico\n",
    "\n",
    "lista_emails = meu_email.fetch(AND(from_=\"pythonimpressionador@gmail.com\", to=\"pythonimpressionador+diretoria@gmail.com\"))\n",
    "for email in lista_emails:\n",
    "    print(email.subject)\n",
    "    print(email.text)"
   ]
  },
  {
   "cell_type": "code",
   "execution_count": 11,
   "id": "24573987",
   "metadata": {},
   "outputs": [],
   "source": [
    "# pegar anexo de um email\n",
    "lista_emails = meu_email.fetch(AND(from_=\"pythonimpressionador@gmail.com\"))\n",
    "for email in lista_emails:\n",
    "    if len(email.attachments) > 0:\n",
    "        for anexo in email.attachments:\n",
    "            if \"RelatorioExcel\" in anexo.filename:\n",
    "                informacoes_anexo = anexo.payload\n",
    "                with open(\"RelatorioExcel.xlsx\", \"wb\") as arquivo_excel:\n",
    "                    arquivo_excel.write(informacoes_anexo)"
   ]
  },
  {
   "cell_type": "code",
   "execution_count": null,
   "id": "4075eb73",
   "metadata": {},
   "outputs": [],
   "source": []
  }
 ],
 "metadata": {
  "kernelspec": {
   "display_name": "Python 3",
   "language": "python",
   "name": "python3"
  },
  "language_info": {
   "codemirror_mode": {
    "name": "ipython",
    "version": 3
   },
   "file_extension": ".py",
   "mimetype": "text/x-python",
   "name": "python",
   "nbconvert_exporter": "python",
   "pygments_lexer": "ipython3",
   "version": "3.11.2"
  }
 },
 "nbformat": 4,
 "nbformat_minor": 5
}
