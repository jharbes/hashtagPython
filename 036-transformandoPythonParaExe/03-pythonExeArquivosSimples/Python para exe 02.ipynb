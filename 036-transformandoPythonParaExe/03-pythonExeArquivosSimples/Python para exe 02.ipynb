{
 "cells": [
  {
   "cell_type": "markdown",
   "metadata": {
    "id": "b4JhAh2zVtLX"
   },
   "source": [
    "# Python para exe com códigos simples\n",
    "\n",
    "### Códigos que não interagem com outros arquivos ou ferramentas do computador\n",
    "\n",
    "Usaremos a biblioteca pyinstaller\n",
    "\n",
    "- Passo 1 - Instalar o pyinstaller\n",
    "\n",
    "- Passo 2 - Executar o pyinstaller\n",
    "\n",
    "pyinstaller -w nome_do_programa.py"
   ]
  },
  {
   "cell_type": "code",
   "execution_count": 1,
   "metadata": {
    "id": "QyMJ1jUXVnXu"
   },
   "outputs": [
    {
     "name": "stdout",
     "output_type": "stream",
     "text": [
      "SM86da292efe004165820911a7d101d5a8\n"
     ]
    }
   ],
   "source": [
    "\"\"\"\n",
    "\n",
    "A flag -w no comando PyInstaller é usada para criar um executável sem console no Windows.\n",
    "\n",
    "Quando a opção -w é usada, o PyInstaller cria um executável que não abre uma janela do console ao ser executado. Em outras palavras, a opção -w é usada para ocultar a janela do console, o que significa que o usuário não verá nenhuma janela de prompt de comando ou de console enquanto o programa estiver sendo executado.\n",
    "\n",
    "Essa opção é útil quando se deseja criar um executável para uma aplicação gráfica ou de interface do usuário que não requer uma janela do console. Por exemplo, se você estiver criando um jogo em Python usando uma biblioteca como Pygame, pode ser útil usar a opção -w para criar um executável sem console para a sua aplicação.\n",
    "\n",
    "No entanto, se o seu programa produz saída de console ou se você precisar depurar o programa, pode ser necessário desativar a opção -w para que a janela do console seja exibida e as mensagens possam ser visualizadas.\n",
    "\n",
    "\"\"\"\n",
    "\n",
    "# rodar o código de um programa que fazemos durante o curso que funcione. Exemplo o de envio de SMS\n",
    "\n",
    "from twilio.rest import Client\n",
    "\n",
    "# Your Account SID and Auth Token from console.twilio.com\n",
    "account_sid = \"ACe47cf7caf5d7f76d1c6f8a570230f5ee\"\n",
    "auth_token  = \"b7bb60ef56cffcb7e9d28a2bd1fc1f9c\"\n",
    "\n",
    "remetente=\"+16205248958\"\n",
    "destino=\"+5521996481674\"\n",
    "\n",
    "client = Client(account_sid, auth_token)\n",
    "\n",
    "message = client.messages.create(\n",
    "    to=destino,\n",
    "    from_=remetente,\n",
    "    body=\"Hello from Python!\")\n",
    "\n",
    "print(message.sid)"
   ]
  },
  {
   "cell_type": "markdown",
   "metadata": {
    "id": "37iaL3xlWjN2"
   },
   "source": [
    "### Atenção no resultado\n",
    "\n",
    "Repare que o programa final vai ficar extremamente pesado.\n",
    "\n",
    "Isso porque o pyinstaller vai incluir todas as bibliotecas que temos instaladas no programa final, para garantir que ele vai funcionar.\n",
    "\n",
    "Para evitar isso, precisaremos criar um ambiente virtual exclusivo para esse programa, vamos ver na prática como funciona na próxima aula"
   ]
  },
  {
   "cell_type": "markdown",
   "metadata": {},
   "source": [
    "### Observações Úteis\n",
    "\n",
    "- Se o nome do seu arquivo .py tiver mais de uma palavra, na hora de testar, coloque o nome dele entre aspas duplas.<br>Ex:  python \"Gabarito - SMS.py\"\n",
    "- Se o seu antivírus verificar o pyinstaller, não precisa se preocupar, é normal e tá tudo certo\n",
    "- Provavelmente a 1ª vez que você rodar o seu programa, o antivírus vai verificar ele também\n",
    "- A pasta dist é o que pode ser distribuído. Você pode compactar ela em um zip e mandar para quem você quiser"
   ]
  }
 ],
 "metadata": {
  "colab": {
   "authorship_tag": "ABX9TyMBXqtjkfYt9MRGhUP9LoJG",
   "name": "Python para exe 02.ipynb",
   "provenance": []
  },
  "kernelspec": {
   "display_name": "Python 3",
   "language": "python",
   "name": "python3"
  },
  "language_info": {
   "codemirror_mode": {
    "name": "ipython",
    "version": 3
   },
   "file_extension": ".py",
   "mimetype": "text/x-python",
   "name": "python",
   "nbconvert_exporter": "python",
   "pygments_lexer": "ipython3",
   "version": "3.7.3"
  }
 },
 "nbformat": 4,
 "nbformat_minor": 1
}
