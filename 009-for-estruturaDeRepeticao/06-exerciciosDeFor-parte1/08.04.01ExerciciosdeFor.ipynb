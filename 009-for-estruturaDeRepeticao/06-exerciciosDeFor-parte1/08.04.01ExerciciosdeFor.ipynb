{
 "cells": [
  {
   "cell_type": "markdown",
   "metadata": {},
   "source": [
    "# Exercícios\n",
    "\n",
    "## 1. Criando um Registro de Hóspedes\n",
    "\n",
    "Digamos que você está criando o sistema para registrar a chegada de hóspedes em um hotel. No hotel, os hóspedes podem ter quartos com 1, 2, 3 e 4 pessoas. Seu sistema deve conseguir:\n",
    "\n",
    "1. Identificar quantas pessoas o hóspede que acabou de chegar vai ter no quarto (perguntando por meio de input)\n",
    "2. De acordo com a quantidade de pessoas do hóspede, ele deve fazer um for para perguntar o cpf e o nome de cada pessoa, a fim de registrá-la no quarto (2 inputs para cada pessoa, 1 para o cpf e outro para o nome)\n",
    "3. O seu programa então deve gerar uma lista com todas as pessoas que ficarão no quarto em que cada item dessa lista é o nome da pessoa e o cpf da pessoa, assim:"
   ]
  },
  {
   "cell_type": "raw",
   "metadata": {},
   "source": [
    "quarto = [\n",
    "    ['João', 'cpf:00000000000'],\n",
    "    ['Julia', 'cpf:11111111111'],\n",
    "    ['Marcus', 'cpf:22222222222'],\n",
    "    ['Maria', 'cpf:33333333333'],\n",
    "]"
   ]
  },
  {
   "cell_type": "markdown",
   "metadata": {},
   "source": [
    "- Para simplificar, não vamos nos preocupar com possibilidades de \"tentar colocar mais de 1 hóspede, digitar o cpf errado, etc. Nosso objetivo é treinar a criação de uma rotina de cadastro"
   ]
  },
  {
   "cell_type": "code",
   "execution_count": 5,
   "metadata": {},
   "outputs": [
    {
     "name": "stdout",
     "output_type": "stream",
     "text": [
      "['joao', 'cpf:123']\n",
      "['jpoana', 'cpf:456']\n",
      "['carlos', 'cpf:854']\n"
     ]
    }
   ],
   "source": [
    "#seu código aqui\n",
    "\n",
    "numero_hospedes=input('Digite o número de hospedes: ')\n",
    "\n",
    "registroHospedes=[]\n",
    "try:\n",
    "    numero_hospedes=int(numero_hospedes)\n",
    "    for i in range(numero_hospedes):\n",
    "        nome_hospede=input('Digite o nome do hospede de número '+str(i+1)+':')\n",
    "        cpf_hospede=input('Digite o cpf do hospede de número '+str(i+1)+':')\n",
    "        registroHospedes.append([nome_hospede,'cpf:'+cpf_hospede])\n",
    "    for hospede in registroHospedes:\n",
    "        print(hospede)\n",
    "except:\n",
    "    print('Número de hóspedes inválido')"
   ]
  },
  {
   "cell_type": "markdown",
   "metadata": {},
   "source": [
    "## 2. Análise de Vendas\n",
    "\n",
    "Nesse exercício vamos fazer uma \"análise simples\" de atingimento de Meta.\n",
    "\n",
    "Temos uma lista com os vendedores e os valores de vendas e queremos identificar (printar) quais os vendedores que bateram a meta e qual foi o valor que eles venderam."
   ]
  },
  {
   "cell_type": "code",
   "execution_count": 6,
   "metadata": {},
   "outputs": [
    {
     "name": "stdout",
     "output_type": "stream",
     "text": [
      "Vendedores que bateram as metas com seu respectivo valor em vendas:\n",
      "Vendedor João com R$15000 em vendas\n",
      "Vendedor Julia com R$27000 em vendas\n",
      "Vendedor Ana com R$10300 em vendas\n"
     ]
    }
   ],
   "source": [
    "meta = 10000\n",
    "vendas = [\n",
    "    ['João', 15000],\n",
    "    ['Julia', 27000],\n",
    "    ['Marcus', 9900],\n",
    "    ['Maria', 3750],\n",
    "    ['Ana', 10300],\n",
    "    ['Alon', 7870],\n",
    "]\n",
    "#seu código aqui\n",
    "\n",
    "print('Vendedores que bateram as metas com seu respectivo valor em vendas:')\n",
    "for vendedor in vendas:\n",
    "    if vendedor[1]>10000:\n",
    "        print('Vendedor {} com R${} em vendas'.format(vendedor[0],vendedor[1]))"
   ]
  },
  {
   "cell_type": "markdown",
   "metadata": {},
   "source": [
    "## 3. Comparação com Ano Anterior\n",
    "\n",
    "Digamos que você está analisando as vendas de produtos de um ecommerce e quer identificar quais produtos tiveram no ano de 2020 mais vendas do que no ano de 2019, para reportar isso para a diretoria.\n",
    "\n",
    "Sua resposta pode ser um print de cada produto, qual foi a venda de 2019, a venda de 2020 e o % de crescimento de 2020 para 2019.\n",
    "\n",
    "Lembrando, para calcular o % de crescimento de um produto de um ano para o outro, podemos fazer: (vendas_produto2020/vendas_produto2019 - 1)\n",
    "\n",
    "Dica: lembre do enumerate, ele pode facilitar seu \"for\""
   ]
  },
  {
   "cell_type": "code",
   "execution_count": 10,
   "metadata": {},
   "outputs": [
    {
     "name": "stdout",
     "output_type": "stream",
     "text": [
      "Seguem abaixo os produtos que tiveram aumento de vendas em 2020 comparados ao ano de 2019:\n",
      "\n",
      "Produto iphone\n",
      "Valor vendas 2019: R$ 558147\n",
      "Valor vendas 2020: R$ 951642\n",
      "Percentual de crescimento: 71%\n",
      "\n",
      "Produto tv\n",
      "Valor vendas 2019: R$ 405252\n",
      "Valor vendas 2020: R$ 787604\n",
      "Percentual de crescimento: 94%\n",
      "\n",
      "Produto máquina de café\n",
      "Valor vendas 2019: R$ 718654\n",
      "Valor vendas 2020: R$ 867660\n",
      "Percentual de crescimento: 21%\n",
      "\n",
      "Produto notebook dell\n",
      "Valor vendas 2019: R$ 422760\n",
      "Valor vendas 2020: R$ 694913\n",
      "Percentual de crescimento: 64%\n",
      "\n",
      "Produto notebook hp\n",
      "Valor vendas 2019: R$ 154753\n",
      "Valor vendas 2020: R$ 539704\n",
      "Percentual de crescimento: 249%\n",
      "\n",
      "Produto microsoft surface\n",
      "Valor vendas 2019: R$ 438508\n",
      "Valor vendas 2020: R$ 667179\n",
      "Percentual de crescimento: 52%\n",
      "\n",
      "Produto webcam\n",
      "Valor vendas 2019: R$ 237467\n",
      "Valor vendas 2020: R$ 295633\n",
      "Percentual de crescimento: 24%\n",
      "\n",
      "Produto caixa de som\n",
      "Valor vendas 2019: R$ 489705\n",
      "Valor vendas 2020: R$ 725316\n",
      "Percentual de crescimento: 48%\n",
      "\n",
      "Produto microfone\n",
      "Valor vendas 2019: R$ 328311\n",
      "Valor vendas 2020: R$ 644622\n",
      "Percentual de crescimento: 96%\n",
      "\n",
      "Produto câmera canon\n",
      "Valor vendas 2019: R$ 591120\n",
      "Valor vendas 2020: R$ 994303\n",
      "Percentual de crescimento: 68%\n",
      "\n"
     ]
    }
   ],
   "source": [
    "produtos = ['iphone', 'galaxy', 'ipad', 'tv', 'máquina de café', 'kindle', 'geladeira', 'adega', 'notebook dell', 'notebook hp', 'notebook asus', 'microsoft surface', 'webcam', 'caixa de som', 'microfone', 'câmera canon']\n",
    "vendas2019 = [558147,712350,573823,405252,718654,531580,973139,892292,422760,154753,887061,438508,237467,489705,328311,591120]\n",
    "vendas2020 = [951642,244295,26964,787604,867660,78830,710331,646016,694913,539704,324831,667179,295633,725316,644622,994303]\n",
    "#seu código aqui\n",
    "\n",
    "print('Seguem abaixo os produtos que tiveram aumento de vendas em 2020 comparados ao ano de 2019:\\n')\n",
    "for i,produto in enumerate(produtos):\n",
    "    if vendas2020[i]>vendas2019[i]:\n",
    "        print('Produto {}\\nValor vendas 2019: R$ {}\\nValor vendas 2020: R$ {}\\nPercentual de crescimento: {}%\\n'.format(produto,vendas2019[i],vendas2020[i],round((vendas2020[i]/vendas2019[i]-1)*100)))"
   ]
  }
 ],
 "metadata": {
  "kernelspec": {
   "display_name": "Python 3",
   "language": "python",
   "name": "python3"
  },
  "language_info": {
   "codemirror_mode": {
    "name": "ipython",
    "version": 3
   },
   "file_extension": ".py",
   "mimetype": "text/x-python",
   "name": "python",
   "nbconvert_exporter": "python",
   "pygments_lexer": "ipython3",
   "version": "3.10.11"
  }
 },
 "nbformat": 4,
 "nbformat_minor": 4
}
