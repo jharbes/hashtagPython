{
 "cells": [
  {
   "cell_type": "markdown",
   "metadata": {},
   "source": [
    "# Set\n",
    "\n",
    "### Estrutura:\n",
    "\n",
    "meu_set = {valor, valor, valor, valor,...}\n",
    "\n",
    "### Observações:\n",
    "\n",
    "- Não pode ter valores duplicados\n",
    "- Não tem ordem fixa"
   ]
  },
  {
   "cell_type": "code",
   "execution_count": 8,
   "metadata": {},
   "outputs": [
    {
     "name": "stdout",
     "output_type": "stream",
     "text": [
      "{'azeite', 'macarrao', 'arroz', 'feijao', 'atum'}\n",
      "set()\n",
      "{1}\n"
     ]
    }
   ],
   "source": [
    "set_produtos = {'arroz', 'feijao', 'macarrao', 'atum', 'azeite'}\n",
    "\n",
    "print(set_produtos)\n",
    "\n",
    "novo_set=set()\n",
    "print(novo_set)\n",
    "novo_set.add(1)\n",
    "print(novo_set)"
   ]
  },
  {
   "cell_type": "markdown",
   "metadata": {},
   "source": [
    "- Aplicação bem útil:\n",
    "\n",
    "    1. Quantos clientes tivemos na loja?"
   ]
  },
  {
   "cell_type": "code",
   "execution_count": 11,
   "metadata": {},
   "outputs": [
    {
     "name": "stdout",
     "output_type": "stream",
     "text": [
      "Tamanho da lista cpf_clientes: 14\n",
      "\n",
      "{'263.027.380-67', '990.236.770-48', '870.565.160-33', '892.080.930-50', '988.305.810-11', '393.462.330-10', '827.363.930-40', '925.413.640-91', '762.196.080-97', '462.126.030-81', '596.125.830-05'}\n",
      "263.027.380-67\n",
      "990.236.770-48\n",
      "870.565.160-33\n",
      "892.080.930-50\n",
      "988.305.810-11\n",
      "393.462.330-10\n",
      "827.363.930-40\n",
      "925.413.640-91\n",
      "762.196.080-97\n",
      "462.126.030-81\n",
      "596.125.830-05\n",
      "\n",
      "Tamanho set cpf_clientes_set: 11\n"
     ]
    }
   ],
   "source": [
    "cpf_clientes = ['762.196.080-97', '263.027.380-67', '827.363.930-40', '925.413.640-91', '870.565.160-33', '892.080.930-50', '462.126.030-81', '393.462.330-10', '393.462.330-10', '393.462.330-10', '988.305.810-11', '596.125.830-05', '596.125.830-05', '990.236.770-48']\n",
    "print('Tamanho da lista cpf_clientes: {}\\n'.format(len(cpf_clientes)))\n",
    "\n",
    "\n",
    "# podemos usar essa estrategia para remover os itens duplicados de uma lista tornado-a um set e depois torna-la de novo uma lista com a funcao list()\n",
    "cpf_clientes_set=set(cpf_clientes)\n",
    "\n",
    "print(cpf_clientes_set)\n",
    "\n",
    "for item in cpf_clientes_set:\n",
    "    print(item)\n",
    "\n",
    "print('\\nTamanho set cpf_clientes_set: {}'.format(len(cpf_clientes_set)))"
   ]
  }
 ],
 "metadata": {
  "kernelspec": {
   "display_name": "Python 3",
   "language": "python",
   "name": "python3"
  },
  "language_info": {
   "codemirror_mode": {
    "name": "ipython",
    "version": 3
   },
   "file_extension": ".py",
   "mimetype": "text/x-python",
   "name": "python",
   "nbconvert_exporter": "python",
   "pygments_lexer": "ipython3",
   "version": "3.10.11"
  }
 },
 "nbformat": 4,
 "nbformat_minor": 4
}
