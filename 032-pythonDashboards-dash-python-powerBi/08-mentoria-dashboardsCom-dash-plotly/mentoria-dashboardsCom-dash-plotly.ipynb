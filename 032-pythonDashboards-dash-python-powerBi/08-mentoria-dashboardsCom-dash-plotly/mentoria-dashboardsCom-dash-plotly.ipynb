{
 "cells": [
  {
   "attachments": {},
   "cell_type": "markdown",
   "metadata": {},
   "source": [
    "### Dash\n",
    "\n",
    "- Instalar o dash\n",
    "\n",
    "\n",
    "Estrutura Básica\n",
    "- plotly -> gráficos\n",
    "- Flask -> aplicação\n",
    "\n",
    "\n",
    "\n",
    "### Como funciona o Dash\n",
    "\n",
    "- Layout (parte visual, frontend)\n",
    "\n",
    "    - HTML -> textos, imagens, espaços\n",
    "    - Dash Components (Core Components) -> gráficos, botões que mexem em gráficos, coisas do dashboard\n",
    "    -\n",
    "    \n",
    "- Callbacks (funcionalidades, backend)\n",
    "\n",
    "\n",
    "#### Primeiro Dashboard"
   ]
  },
  {
   "cell_type": "code",
   "execution_count": 4,
   "metadata": {},
   "outputs": [
    {
     "name": "stdout",
     "output_type": "stream",
     "text": [
      "Dash is running on http://127.0.0.1:8050/\n",
      "\n",
      " * Serving Flask app '__main__'\n",
      " * Debug mode: off\n"
     ]
    }
   ],
   "source": [
    "# Run this app with `python app.py` and\n",
    "# visit http://127.0.0.1:8050/ in your web browser.\n",
    "\n",
    "from dash import Dash, html, dcc\n",
    "import plotly.express as px\n",
    "import pandas as pd\n",
    "\n",
    "\n",
    "\n",
    "app = Dash(__name__) # criando o seu aplicativo Dash\n",
    "\n",
    "\n",
    "\n",
    "# assume you have a \"long-form\" data frame\n",
    "# see https://plotly.com/python/px-arguments/ for more options\n",
    "\n",
    "# BACKEND\n",
    "# PARTE DE CRIACAO DA LOGICA DO APLICATIVO\n",
    "df = pd.read_excel('Vendas.xlsx')\n",
    "\n",
    "\n",
    "# grafico criado com plotly\n",
    "# tipos de graficos possiveis em plotly https://plotly.com/python/\n",
    "# o barmode='group' faz com que cada cor esteja em uma coluna independente, facilita a visualizacao\n",
    "# existem varios tipos de graficos como o px.bar (barra), px.line (linha), px.scatter\n",
    "fig = px.bar(df, x=\"Produto\", y=\"Quantidade\", color=\"ID Loja\", barmode=\"group\")\n",
    "\n",
    "\n",
    "\n",
    "\n",
    "# FRONTEND\n",
    "# PARTE DA CRIACAO DO LAYOUT DO APLICATIVO\n",
    "app.layout = html.Div(children=[\n",
    "    html.H1(children='Hello Dash'),\n",
    "\n",
    "    html.Div(children='''\n",
    "        Dash: A web application framework for your data.\n",
    "    '''),\n",
    "\n",
    "    dcc.Graph(\n",
    "        id='example-graph',\n",
    "        figure=fig\n",
    "    )\n",
    "])\n",
    "\n",
    "\n",
    "\n",
    "\n",
    "# colocando o seu site (dashboard) no ar\n",
    "# caso ocorra bug no debug=True mudar para False\n",
    "# o debug=True permite que qualquer alteracao no codigo se reflita automaticamente no dashboard que esteja sendo executada, de forma dinamica, mas geralmente essa funcao nao funciona bem no jupyter\n",
    "if __name__ == '__main__':\n",
    "    app.run_server(debug=False)\n"
   ]
  }
 ],
 "metadata": {
  "kernelspec": {
   "display_name": "Python 3",
   "language": "python",
   "name": "python3"
  },
  "language_info": {
   "codemirror_mode": {
    "name": "ipython",
    "version": 3
   },
   "file_extension": ".py",
   "mimetype": "text/x-python",
   "name": "python",
   "nbconvert_exporter": "python",
   "pygments_lexer": "ipython3",
   "version": "3.10.11"
  },
  "orig_nbformat": 4
 },
 "nbformat": 4,
 "nbformat_minor": 2
}
