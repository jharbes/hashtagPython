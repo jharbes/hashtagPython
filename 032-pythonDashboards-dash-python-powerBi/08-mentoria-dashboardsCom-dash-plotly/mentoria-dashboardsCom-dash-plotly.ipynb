{
 "cells": [
  {
   "attachments": {},
   "cell_type": "markdown",
   "metadata": {},
   "source": [
    "### Dash\n",
    "\n",
    "- Instalar o dash\n",
    "\n",
    "\n",
    "Estrutura Básica\n",
    "- plotly -> gráficos\n",
    "- Flask -> aplicação\n",
    "\n",
    "\n",
    "\n",
    "### Como funciona o Dash\n",
    "\n",
    "- Layout\n",
    "    - HTML -> textos, imagens, espaços\n",
    "    - Dash Components (Core Components) -> gráficos, botões que mexem em gráficos, coisas do dashboard\n",
    "- Callbacks\n",
    "\n",
    "\n",
    "#### Primeiro Dashboard"
   ]
  },
  {
   "cell_type": "code",
   "execution_count": null,
   "metadata": {},
   "outputs": [],
   "source": []
  }
 ],
 "metadata": {
  "language_info": {
   "name": "python"
  },
  "orig_nbformat": 4
 },
 "nbformat": 4,
 "nbformat_minor": 2
}
