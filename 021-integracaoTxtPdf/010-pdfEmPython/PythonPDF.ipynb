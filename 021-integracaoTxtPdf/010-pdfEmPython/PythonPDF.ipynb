{
 "cells": [
  {
   "cell_type": "markdown",
   "metadata": {},
   "source": [
    "# Vamos aprender a trabalhar com PDF usando o Python\n",
    "\n",
    "- Regra geral: PDF foi feito justamente para bloquear muita coisa, então não é fácil \"brincar\" com um pdf\n",
    "- Mesmo assim, Python tem várias bibliotecas que vão nos ajudar, vamos focar em 2:\n",
    "    - PyPDF2\n",
    "    - Tabula\n",
    "- Ler e extrair informações de um PDF a gente consegue fazer.\n",
    "- Escrever e Editar, aí já é outra história\n",
    "\n",
    "### Para os nossos exemplos, vamos avaliar o Release de Resultados do 3º e 4º Trimestre de 2020 da Magazine Luiza"
   ]
  },
  {
   "cell_type": "markdown",
   "metadata": {},
   "source": [
    "#### 1º Objetivo: Queremos conseguir separar apenas o DRE do Release de Resultados (Página 14) para enviar para a Diretoria, como fazemos?\n",
    "    - Separar as páginas de um pdf"
   ]
  },
  {
   "cell_type": "code",
   "execution_count": 3,
   "metadata": {},
   "outputs": [
    {
     "data": {
      "text/plain": [
       "<PyPDF2._reader.PdfReader at 0x20d3b080e50>"
      ]
     },
     "metadata": {},
     "output_type": "display_data"
    }
   ],
   "source": [
    "import PyPDF2 as pyf\n",
    "from pathlib import Path\n",
    "\n",
    "pyf.PdfFileReader # para ler um arquivo em PDF\n",
    "pyf.PdfFileWriter # criar/escrever um arquivo em PDF\n",
    "pyf.PdfFileMerger # mesclar arquivos PDF\n",
    "\n",
    "nomeArquivoPdf='MGLU_ER_3T20_POR.pdf'\n",
    "arquivoPdf=pyf.PdfReader(nomeArquivoPdf)\n",
    "display(arquivoPdf)\n",
    "\n",
    "numPagina=1\n",
    "# torna o arquivo iteravel, o for vai rolar pagina por pagina\n",
    "for pagina in arquivoPdf.pages: \n",
    "    # cria o arquivo com uma pagina apenas\n",
    "    arquivoNovo=pyf.PdfWriter()\n",
    "    arquivoNovo.add_page(pagina)\n",
    "    # salva o arquivo\n",
    "    # abre o arquivo Arquivo1.pdf em paginas\\\\ no mode='wb' (modo writable)\n",
    "    # escreve/salva o arquivo novo no arquivo final\n",
    "    with Path(f'paginas\\\\Arquivo{numPagina}.pdf').open(mode='wb') as arquivoFinal:\n",
    "        arquivoNovo.write(arquivoFinal)\n",
    "        numPagina+=1"
   ]
  },
  {
   "cell_type": "markdown",
   "metadata": {},
   "source": [
    "#### 2º Objetivo: Com o Release de Resultados já separado página por página, queremos incluir apenas as Páginas de Destaque (Página 1), DRE (Página 14) e Balanço (Página 16).\n",
    "    - Juntar vários pdfs em 1"
   ]
  },
  {
   "cell_type": "code",
   "execution_count": null,
   "metadata": {},
   "outputs": [],
   "source": [
    "paginasSolicitadas=[1,14,16]\n",
    "\n",
    "arquivoNovo=pyf.PdfWriter()\n",
    "for numPagina in paginasSolicitadas:\n",
    "    # Pegar o arquivo numero da pagina\n",
    "    # Adicionar no novo PDF\n",
    "    nomeArquivo=f'paginas\\\\Arquivo{numPagina}.pdf'\n",
    "    arquivoPdf=pyf.PdfReader(nomeArquivo)\n",
    "    pagina=arquivoPdf.pages[0] # tem que ter o indice zero porque por natureza é uma lista de paginas, na ausencia desse passara a lista inteira (mesmo que so haja um elemento)\n",
    "    arquivoNovo.add_page(pagina)\n",
    "\n",
    "# salvar o novo PDF\n",
    "with Path(f'Consolidado.pdf').open(mode='wb') as arquivoFinal:\n",
    "    arquivoNovo.write(arquivoFinal)"
   ]
  },
  {
   "cell_type": "markdown",
   "metadata": {},
   "source": [
    "### Extra: Para adicionar todas as páginas de 2 pdfs"
   ]
  },
  {
   "cell_type": "code",
   "execution_count": 1,
   "metadata": {},
   "outputs": [
    {
     "ename": "NameError",
     "evalue": "name 'pyf' is not defined",
     "output_type": "error",
     "traceback": [
      "\u001b[1;31m---------------------------------------------------------------------------\u001b[0m",
      "\u001b[1;31mNameError\u001b[0m                                 Traceback (most recent call last)",
      "Cell \u001b[1;32mIn[1], line 1\u001b[0m\n\u001b[1;32m----> 1\u001b[0m pdfMesclado\u001b[39m=\u001b[39mpyf\u001b[39m.\u001b[39mPdfMerger()\n\u001b[0;32m      3\u001b[0m arquivo1\u001b[39m=\u001b[39m\u001b[39m'\u001b[39m\u001b[39mMGLU_ER_3T20_POR.pdf\u001b[39m\u001b[39m'\u001b[39m\n\u001b[0;32m      4\u001b[0m arquivo2\u001b[39m=\u001b[39m\u001b[39m'\u001b[39m\u001b[39mMGLU_ER_4T20_POR.pdf\u001b[39m\u001b[39m'\u001b[39m\n",
      "\u001b[1;31mNameError\u001b[0m: name 'pyf' is not defined"
     ]
    }
   ],
   "source": [
    "pdfMesclado=pyf.PdfMerger()\n",
    "\n",
    "arquivo1='MGLU_ER_3T20_POR.pdf'\n",
    "arquivo2='MGLU_ER_4T20_POR.pdf'\n",
    "\n",
    "pdfMesclado.append(arquivo1)\n",
    "pdfMesclado.append(arquivo2)\n",
    "\n",
    "with Path(f'ConsolidadoAppend.pdf').open(mode='wb') as arquivoFinal:\n",
    "    pdfMesclado.write(arquivoFinal)"
   ]
  },
  {
   "cell_type": "markdown",
   "metadata": {},
   "source": [
    "# Funcionalidades que podem ser úteis:\n",
    "\n",
    "- Inserir arquivo no meio do outro\n",
    "- Quero colocar dentro do Resultado do 4T20 os destaques do 3T20 para poder comparar os 2 dentro do mesmo relatório"
   ]
  },
  {
   "cell_type": "code",
   "execution_count": null,
   "metadata": {},
   "outputs": [],
   "source": []
  },
  {
   "cell_type": "markdown",
   "metadata": {},
   "source": [
    "- Rodar Página"
   ]
  },
  {
   "cell_type": "code",
   "execution_count": null,
   "metadata": {},
   "outputs": [],
   "source": []
  },
  {
   "cell_type": "markdown",
   "metadata": {},
   "source": [
    "# Trabalhando com Textos e Informações Dentro do PDF\n",
    "\n",
    "#### 1º Objetivo: Quero identificar como foram as Despesas com Vendas da MGLU\n",
    "    - Pegar texto da página e identificar onde está essa informação"
   ]
  },
  {
   "cell_type": "code",
   "execution_count": null,
   "metadata": {},
   "outputs": [],
   "source": []
  },
  {
   "cell_type": "markdown",
   "metadata": {},
   "source": [
    "#### 2º Objetivo: Quero analisar o DRE (sem ajuste - Página 5)\n",
    "    - Para ler tabelas em pdf, use o tabula (é ninja)"
   ]
  },
  {
   "cell_type": "code",
   "execution_count": null,
   "metadata": {},
   "outputs": [],
   "source": []
  },
  {
   "cell_type": "markdown",
   "metadata": {},
   "source": [
    "#### 3º Objetivo: Quero analisar o Capital de Giro e os Investimentos (ambas as tabelas na página 12)\n",
    "    - Páginas com mais de 1 tabela"
   ]
  },
  {
   "cell_type": "code",
   "execution_count": null,
   "metadata": {},
   "outputs": [],
   "source": []
  },
  {
   "cell_type": "markdown",
   "metadata": {},
   "source": [
    "#### O que fazer quando o tabula não consegue ler alguma linha da tabela? Como o cabeçalho, no nosso caso?"
   ]
  },
  {
   "cell_type": "code",
   "execution_count": null,
   "metadata": {},
   "outputs": [],
   "source": []
  },
  {
   "cell_type": "markdown",
   "metadata": {},
   "source": [
    "# Outro método que pode ser útil algum dia: Captar Imagem em um pdf\n",
    "    - biblioteca pikepdf"
   ]
  },
  {
   "cell_type": "code",
   "execution_count": null,
   "metadata": {},
   "outputs": [],
   "source": [
    "from pikepdf import Pdf, PdfImage\n",
    "\n",
    "filename = \"MGLU_ER_3T20_POR.pdf\"\n",
    "example = Pdf.open(filename)\n",
    "\n",
    "n_arquivo = 0\n",
    "for i, pagina in enumerate(example.pages):\n",
    "    for nome, imagem in pagina.images.items():\n",
    "        imagem_salvar = PdfImage(imagem)\n",
    "        imagem_salvar.extract_to(fileprefix=f'imgs/Pagina_{i:02}_{n_arquivo}')\n",
    "        n_arquivo += 1"
   ]
  },
  {
   "cell_type": "markdown",
   "metadata": {},
   "source": [
    "# Substituir texto no pdf tipo contrato\n",
    "\n",
    "- Não recomendo fazer diretamente pelo Python. Realmente do que vi a melhor opção me parece o Word fazer isso\n",
    "- Caso precise automatizar, automatize o processo fazendo ele pelo Word\n",
    "- Quem quiser MUITO fazer isso pelo Python, tem um link aqui que vai te ajudar de uma solução que achei que funciona. Tem seus bugs/cuidados especiais, mas funciona: https://pdf.co/samples/pdf-co-web-api-replace-text-from-pdf-python-replace-text-from-url"
   ]
  }
 ],
 "metadata": {
  "kernelspec": {
   "display_name": "Python 3",
   "language": "python",
   "name": "python3"
  },
  "language_info": {
   "codemirror_mode": {
    "name": "ipython",
    "version": 3
   },
   "file_extension": ".py",
   "mimetype": "text/x-python",
   "name": "python",
   "nbconvert_exporter": "python",
   "pygments_lexer": "ipython3",
   "version": "3.9.5"
  }
 },
 "nbformat": 4,
 "nbformat_minor": 4
}
