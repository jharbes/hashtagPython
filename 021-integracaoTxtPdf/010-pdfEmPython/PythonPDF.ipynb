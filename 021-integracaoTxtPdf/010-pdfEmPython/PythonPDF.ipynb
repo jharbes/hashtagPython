{
 "cells": [
  {
   "cell_type": "markdown",
   "metadata": {},
   "source": [
    "# Vamos aprender a trabalhar com PDF usando o Python\n",
    "\n",
    "- Regra geral: PDF foi feito justamente para bloquear muita coisa, então não é fácil \"brincar\" com um pdf\n",
    "- Mesmo assim, Python tem várias bibliotecas que vão nos ajudar, vamos focar em 2:\n",
    "    - PyPDF2\n",
    "    - Tabula\n",
    "- Ler e extrair informações de um PDF a gente consegue fazer.\n",
    "- Escrever e Editar, aí já é outra história\n",
    "\n",
    "### Para os nossos exemplos, vamos avaliar o Release de Resultados do 3º e 4º Trimestre de 2020 da Magazine Luiza"
   ]
  },
  {
   "cell_type": "markdown",
   "metadata": {},
   "source": [
    "#### 1º Objetivo: Queremos conseguir separar apenas o DRE do Release de Resultados (Página 14) para enviar para a Diretoria, como fazemos?\n",
    "    - Separar as páginas de um pdf"
   ]
  },
  {
   "cell_type": "code",
   "execution_count": 3,
   "metadata": {},
   "outputs": [
    {
     "data": {
      "text/plain": [
       "<PyPDF2._reader.PdfReader at 0x1ac55d14520>"
      ]
     },
     "metadata": {},
     "output_type": "display_data"
    }
   ],
   "source": [
    "import PyPDF2 as pyf\n",
    "from pathlib import Path\n",
    "\n",
    "pyf.PdfFileReader # para ler um arquivo em PDF\n",
    "pyf.PdfFileWriter # criar/escrever um arquivo em PDF\n",
    "pyf.PdfFileMerger # mesclar arquivos PDF\n",
    "\n",
    "nomeArquivoPdf='MGLU_ER_3T20_POR.pdf'\n",
    "arquivoPdf=pyf.PdfReader(nomeArquivoPdf)\n",
    "display(arquivoPdf)\n",
    "\n",
    "numPagina=1\n",
    "# torna o arquivo iteravel, o for vai rolar pagina por pagina\n",
    "for pagina in arquivoPdf.pages: \n",
    "    # cria o arquivo com uma pagina apenas\n",
    "    arquivoNovo=pyf.PdfWriter()\n",
    "    arquivoNovo.add_page(pagina)\n",
    "    # salva o arquivo\n",
    "    # abre o arquivo Arquivo1.pdf em paginas\\\\ no mode='wb' (modo writable)\n",
    "    # escreve/salva o arquivo novo no arquivo final\n",
    "    with Path(f'paginas\\\\Arquivo{numPagina}.pdf').open(mode='wb') as arquivoFinal:\n",
    "        arquivoNovo.write(arquivoFinal)\n",
    "        numPagina+=1"
   ]
  },
  {
   "cell_type": "markdown",
   "metadata": {},
   "source": [
    "#### 2º Objetivo: Com o Release de Resultados já separado página por página, queremos incluir apenas as Páginas de Destaque (Página 1), DRE (Página 14) e Balanço (Página 16).\n",
    "    - Juntar vários pdfs em 1"
   ]
  },
  {
   "cell_type": "code",
   "execution_count": 4,
   "metadata": {},
   "outputs": [],
   "source": [
    "paginasSolicitadas=[1,14,16]\n",
    "\n",
    "arquivoNovo=pyf.PdfWriter()\n",
    "for numPagina in paginasSolicitadas:\n",
    "    # Pegar o arquivo numero da pagina\n",
    "    # Adicionar no novo PDF\n",
    "    nomeArquivo=f'paginas\\\\Arquivo{numPagina}.pdf'\n",
    "    arquivoPdf=pyf.PdfReader(nomeArquivo)\n",
    "    pagina=arquivoPdf.pages[0] # tem que ter o indice zero porque por natureza é uma lista de paginas, na ausencia desse passara a lista inteira (mesmo que so haja um elemento)\n",
    "    arquivoNovo.add_page(pagina)\n",
    "\n",
    "# salvar o novo PDF\n",
    "with Path(f'Consolidado.pdf').open(mode='wb') as arquivoFinal:\n",
    "    arquivoNovo.write(arquivoFinal)"
   ]
  },
  {
   "cell_type": "markdown",
   "metadata": {},
   "source": [
    "### Extra: Para adicionar todas as páginas de 2 pdfs"
   ]
  },
  {
   "cell_type": "code",
   "execution_count": 5,
   "metadata": {},
   "outputs": [],
   "source": [
    "pdfMesclado=pyf.PdfMerger()\n",
    "\n",
    "arquivo1='MGLU_ER_3T20_POR.pdf'\n",
    "arquivo2='MGLU_ER_4T20_POR.pdf'\n",
    "\n",
    "# so funciona com um append de cada vez\n",
    "pdfMesclado.append(arquivo1)\n",
    "pdfMesclado.append(arquivo2)\n",
    "\n",
    "with Path(f'ConsolidadoAppend.pdf').open(mode='wb') as arquivoFinal:\n",
    "    pdfMesclado.write(arquivoFinal)"
   ]
  },
  {
   "cell_type": "markdown",
   "metadata": {},
   "source": [
    "# Funcionalidades que podem ser úteis:\n",
    "\n",
    "- Inserir arquivo no meio do outro\n",
    "- Quero colocar dentro do Resultado do 4T20 os destaques do 3T20 para poder comparar os 2 dentro do mesmo relatório"
   ]
  },
  {
   "cell_type": "code",
   "execution_count": 6,
   "metadata": {},
   "outputs": [],
   "source": [
    "pdfMesclado=pyf.PdfMerger()\n",
    "\n",
    "pdfMesclado.append(arquivo1)\n",
    "\n",
    "# adiciona o arquivo 2 APÓS a pagina número 1 do arquivo 1, nesse caso 1 seria efetivamente a primeira folha e nao 0 como de costume\n",
    "pdfMesclado.merge(1,arquivo2)\n",
    "\n",
    "with Path(f'ConsolidadoMerge.pdf').open(mode='wb') as arquivoFinal:\n",
    "    pdfMesclado.write(arquivoFinal)"
   ]
  },
  {
   "cell_type": "markdown",
   "metadata": {},
   "source": [
    "- Rodar Página"
   ]
  },
  {
   "cell_type": "code",
   "execution_count": 7,
   "metadata": {},
   "outputs": [],
   "source": [
    "pdfRodar=pyf.PdfReader(arquivo1)\n",
    "\n",
    "pdfFinal=pyf.PdfWriter()\n",
    "for pagina in pdfRodar.pages:\n",
    "    # 90 deita a pagina, 180 coloca ao contrario\n",
    "    pagina.rotate(90)\n",
    "    pdfFinal.add_page(pagina)\n",
    "\n",
    "with Path(f'Rodado.pdf').open(mode='wb') as arquivoFinal:\n",
    "    pdfFinal.write(arquivoFinal)"
   ]
  },
  {
   "cell_type": "markdown",
   "metadata": {},
   "source": [
    "# Trabalhando com Textos e Informações Dentro do PDF\n",
    "\n",
    "#### 1º Objetivo: Quero identificar como foram as Despesas com Vendas da MGLU\n",
    "    - Pegar texto da página e identificar onde está essa informação"
   ]
  },
  {
   "cell_type": "code",
   "execution_count": 8,
   "metadata": {},
   "outputs": [
    {
     "ename": "DeprecationError",
     "evalue": "reader.numPages is deprecated and was removed in PyPDF2 3.0.0. Use len(reader.pages) instead.",
     "output_type": "error",
     "traceback": [
      "\u001b[1;31m---------------------------------------------------------------------------\u001b[0m",
      "\u001b[1;31mDeprecationError\u001b[0m                          Traceback (most recent call last)",
      "Cell \u001b[1;32mIn[8], line 4\u001b[0m\n\u001b[0;32m      1\u001b[0m nomeArquivo\u001b[39m=\u001b[39m\u001b[39m'\u001b[39m\u001b[39mMGLU_ER_3T20_POR.pdf\u001b[39m\u001b[39m'\u001b[39m\n\u001b[0;32m      2\u001b[0m arquivo\u001b[39m=\u001b[39mpyf\u001b[39m.\u001b[39mPdfReader(nomeArquivo)\n\u001b[1;32m----> 4\u001b[0m numPaginas\u001b[39m=\u001b[39marquivo\u001b[39m.\u001b[39;49mnumPages\n\u001b[0;32m      5\u001b[0m \u001b[39mprint\u001b[39m(numPaginas)\n",
      "File \u001b[1;32mc:\\Python3.9.5\\lib\\site-packages\\PyPDF2\\_reader.py:467\u001b[0m, in \u001b[0;36mPdfReader.numPages\u001b[1;34m(self)\u001b[0m\n\u001b[0;32m    460\u001b[0m \u001b[39m@property\u001b[39m\n\u001b[0;32m    461\u001b[0m \u001b[39mdef\u001b[39;00m \u001b[39mnumPages\u001b[39m(\u001b[39mself\u001b[39m) \u001b[39m-\u001b[39m\u001b[39m>\u001b[39m \u001b[39mint\u001b[39m:  \u001b[39m# pragma: no cover\u001b[39;00m\n\u001b[0;32m    462\u001b[0m \u001b[39m    \u001b[39m\u001b[39m\"\"\"\u001b[39;00m\n\u001b[0;32m    463\u001b[0m \u001b[39m    .. deprecated:: 1.28.0\u001b[39;00m\n\u001b[0;32m    464\u001b[0m \n\u001b[0;32m    465\u001b[0m \u001b[39m        Use :code:`len(reader.pages)` instead.\u001b[39;00m\n\u001b[0;32m    466\u001b[0m \u001b[39m    \"\"\"\u001b[39;00m\n\u001b[1;32m--> 467\u001b[0m     deprecation_with_replacement(\u001b[39m\"\u001b[39;49m\u001b[39mreader.numPages\u001b[39;49m\u001b[39m\"\u001b[39;49m, \u001b[39m\"\u001b[39;49m\u001b[39mlen(reader.pages)\u001b[39;49m\u001b[39m\"\u001b[39;49m, \u001b[39m\"\u001b[39;49m\u001b[39m3.0.0\u001b[39;49m\u001b[39m\"\u001b[39;49m)\n\u001b[0;32m    468\u001b[0m     \u001b[39mreturn\u001b[39;00m \u001b[39mself\u001b[39m\u001b[39m.\u001b[39m_get_num_pages()\n",
      "File \u001b[1;32mc:\\Python3.9.5\\lib\\site-packages\\PyPDF2\\_utils.py:369\u001b[0m, in \u001b[0;36mdeprecation_with_replacement\u001b[1;34m(old_name, new_name, removed_in)\u001b[0m\n\u001b[0;32m    363\u001b[0m \u001b[39mdef\u001b[39;00m \u001b[39mdeprecation_with_replacement\u001b[39m(\n\u001b[0;32m    364\u001b[0m     old_name: \u001b[39mstr\u001b[39m, new_name: \u001b[39mstr\u001b[39m, removed_in: \u001b[39mstr\u001b[39m \u001b[39m=\u001b[39m \u001b[39m\"\u001b[39m\u001b[39m3.0.0\u001b[39m\u001b[39m\"\u001b[39m\n\u001b[0;32m    365\u001b[0m ) \u001b[39m-\u001b[39m\u001b[39m>\u001b[39m \u001b[39mNone\u001b[39;00m:\n\u001b[0;32m    366\u001b[0m \u001b[39m    \u001b[39m\u001b[39m\"\"\"\u001b[39;00m\n\u001b[0;32m    367\u001b[0m \u001b[39m    Raise an exception that a feature was already removed, but has a replacement.\u001b[39;00m\n\u001b[0;32m    368\u001b[0m \u001b[39m    \"\"\"\u001b[39;00m\n\u001b[1;32m--> 369\u001b[0m     deprecation(DEPR_MSG_HAPPENED\u001b[39m.\u001b[39;49mformat(old_name, removed_in, new_name))\n",
      "File \u001b[1;32mc:\\Python3.9.5\\lib\\site-packages\\PyPDF2\\_utils.py:351\u001b[0m, in \u001b[0;36mdeprecation\u001b[1;34m(msg)\u001b[0m\n\u001b[0;32m    350\u001b[0m \u001b[39mdef\u001b[39;00m \u001b[39mdeprecation\u001b[39m(msg: \u001b[39mstr\u001b[39m) \u001b[39m-\u001b[39m\u001b[39m>\u001b[39m \u001b[39mNone\u001b[39;00m:\n\u001b[1;32m--> 351\u001b[0m     \u001b[39mraise\u001b[39;00m DeprecationError(msg)\n",
      "\u001b[1;31mDeprecationError\u001b[0m: reader.numPages is deprecated and was removed in PyPDF2 3.0.0. Use len(reader.pages) instead."
     ]
    }
   ],
   "source": [
    "nomeArquivo='MGLU_ER_3T20_POR.pdf'\n",
    "arquivo=pyf.PdfReader(nomeArquivo)\n",
    "\n",
    "# imprime o numero de paginas do arquivo\n",
    "numPaginas=len(arquivo.pages)\n",
    "print(numPaginas)\n",
    "\n",
    "# imprime as informacoes do arquivo\n",
    "informacoesArquivo=arquivo.metadata\n",
    "print(informacoesArquivo)"
   ]
  },
  {
   "cell_type": "markdown",
   "metadata": {},
   "source": [
    "#### 2º Objetivo: Quero analisar o DRE (sem ajuste - Página 5)\n",
    "    - Para ler tabelas em pdf, use o tabula (é ninja)"
   ]
  },
  {
   "cell_type": "code",
   "execution_count": null,
   "metadata": {},
   "outputs": [],
   "source": []
  },
  {
   "cell_type": "markdown",
   "metadata": {},
   "source": [
    "#### 3º Objetivo: Quero analisar o Capital de Giro e os Investimentos (ambas as tabelas na página 12)\n",
    "    - Páginas com mais de 1 tabela"
   ]
  },
  {
   "cell_type": "code",
   "execution_count": null,
   "metadata": {},
   "outputs": [],
   "source": []
  },
  {
   "cell_type": "markdown",
   "metadata": {},
   "source": [
    "#### O que fazer quando o tabula não consegue ler alguma linha da tabela? Como o cabeçalho, no nosso caso?"
   ]
  },
  {
   "cell_type": "code",
   "execution_count": null,
   "metadata": {},
   "outputs": [],
   "source": []
  },
  {
   "cell_type": "markdown",
   "metadata": {},
   "source": [
    "# Outro método que pode ser útil algum dia: Captar Imagem em um pdf\n",
    "    - biblioteca pikepdf"
   ]
  },
  {
   "cell_type": "code",
   "execution_count": null,
   "metadata": {},
   "outputs": [],
   "source": [
    "from pikepdf import Pdf, PdfImage\n",
    "\n",
    "filename = \"MGLU_ER_3T20_POR.pdf\"\n",
    "example = Pdf.open(filename)\n",
    "\n",
    "n_arquivo = 0\n",
    "for i, pagina in enumerate(example.pages):\n",
    "    for nome, imagem in pagina.images.items():\n",
    "        imagem_salvar = PdfImage(imagem)\n",
    "        imagem_salvar.extract_to(fileprefix=f'imgs/Pagina_{i:02}_{n_arquivo}')\n",
    "        n_arquivo += 1"
   ]
  },
  {
   "cell_type": "markdown",
   "metadata": {},
   "source": [
    "# Substituir texto no pdf tipo contrato\n",
    "\n",
    "- Não recomendo fazer diretamente pelo Python. Realmente do que vi a melhor opção me parece o Word fazer isso\n",
    "- Caso precise automatizar, automatize o processo fazendo ele pelo Word\n",
    "- Quem quiser MUITO fazer isso pelo Python, tem um link aqui que vai te ajudar de uma solução que achei que funciona. Tem seus bugs/cuidados especiais, mas funciona: https://pdf.co/samples/pdf-co-web-api-replace-text-from-pdf-python-replace-text-from-url"
   ]
  }
 ],
 "metadata": {
  "kernelspec": {
   "display_name": "Python 3",
   "language": "python",
   "name": "python3"
  },
  "language_info": {
   "codemirror_mode": {
    "name": "ipython",
    "version": 3
   },
   "file_extension": ".py",
   "mimetype": "text/x-python",
   "name": "python",
   "nbconvert_exporter": "python",
   "pygments_lexer": "ipython3",
   "version": "3.9.5"
  }
 },
 "nbformat": 4,
 "nbformat_minor": 4
}
