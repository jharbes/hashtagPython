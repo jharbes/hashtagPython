{
 "cells": [
  {
   "cell_type": "markdown",
   "metadata": {},
   "source": [
    "# Não confie na ordem dos dicionários, use as chaves\n",
    "\n",
    "### Python Versões Antigas x Versões Novas\n",
    "\n",
    "- Dicionários eram \"sem ordem\". Atualmente tem ordem, mas o certo é usar as chaves\n",
    "- 2 formas de pegar um valor:\n",
    "    - dicionario[chave]\n",
    "    - .get(chave)"
   ]
  },
  {
   "cell_type": "code",
   "execution_count": 2,
   "metadata": {},
   "outputs": [],
   "source": [
    "mais_vendidos = {'tecnologia': 'iphone', 'refrigeracao': 'ar consul 12000 btu', 'livros': 'o alquimista', 'eletrodoméstico': 'geladeira', 'lazer': 'prancha surf'}\n",
    "\n",
    "vendas_tecnologia = {'iphone': 15000, 'samsung galaxy': 12000, 'tv samsung': 10000, 'ps5': 14300, 'tablet': 1720, 'ipad': 1000, 'tv philco': 2500, 'notebook hp': 1000, 'notebook dell': 17000, 'notebook asus': 2450}"
   ]
  },
  {
   "cell_type": "markdown",
   "metadata": {},
   "source": [
    "- Qual foi o item mais vendido nas categorias 'livros' e 'lazer'?\n",
    "- Quanto foi vendido de 'notebook asus' e de 'ipad'?"
   ]
  },
  {
   "cell_type": "code",
   "execution_count": 3,
   "metadata": {},
   "outputs": [
    {
     "name": "stdout",
     "output_type": "stream",
     "text": [
      "o alquimista\n",
      "prancha surf\n",
      "2450\n",
      "1000\n"
     ]
    }
   ],
   "source": [
    "# respondendo com a chave, igual a aula anterior\n",
    "\n",
    "print(mais_vendidos['livros']) # o alquimista\n",
    "print(mais_vendidos['lazer']) # prancha surf\n",
    "\n",
    "\n",
    "# respondendo com o método get\n",
    "print(vendas_tecnologia.get('notebook asus')) # 2450\n",
    "print(vendas_tecnologia.get('ipad')) # 1000"
   ]
  },
  {
   "cell_type": "markdown",
   "metadata": {},
   "source": [
    "### Verificar se item está no dicionário:\n",
    "\n",
    "- if\n",
    "- .get(chave) = None\n",
    "\n",
    "Se tentarmos procurar as vendas de \"copo\" na lista de vendas tecnologia, o que acontece?"
   ]
  },
  {
   "cell_type": "code",
   "execution_count": 7,
   "metadata": {},
   "outputs": [
    {
     "name": "stdout",
     "output_type": "stream",
     "text": [
      "None\n"
     ]
    }
   ],
   "source": [
    "print(vendas_tecnologia.get('copo')) # None\n",
    "\n",
    "\n",
    "# Nao funciona como o get, da erro:\n",
    "# print(vendas_tecnologia['copo'])"
   ]
  }
 ],
 "metadata": {
  "kernelspec": {
   "display_name": "Python 3",
   "language": "python",
   "name": "python3"
  },
  "language_info": {
   "codemirror_mode": {
    "name": "ipython",
    "version": 3
   },
   "file_extension": ".py",
   "mimetype": "text/x-python",
   "name": "python",
   "nbconvert_exporter": "python",
   "pygments_lexer": "ipython3",
   "version": "3.10.11"
  }
 },
 "nbformat": 4,
 "nbformat_minor": 4
}
