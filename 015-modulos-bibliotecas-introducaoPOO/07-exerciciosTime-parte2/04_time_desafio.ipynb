{
 "cells": [
  {
   "cell_type": "markdown",
   "metadata": {},
   "source": [
    "## Tempo até o próximo ano\n",
    "\n",
    "Crie um script Python que calcula quantos dias, horas, minutos e segundos faltam até o próximo Ano Novo.\n",
    "\n"
   ]
  },
  {
   "cell_type": "markdown",
   "metadata": {
    "tags": []
   },
   "source": [
    "Lembrar da tupla de struct_time: https://docs.python.org/3/library/time.html#time.struct_time"
   ]
  },
  {
   "cell_type": "code",
   "execution_count": 7,
   "metadata": {
    "tags": []
   },
   "outputs": [
    {
     "name": "stdout",
     "output_type": "stream",
     "text": [
      "Segundos em um minuto: 60 s\n",
      "Segundos em uma hora: 3600 s\n",
      "Segundos em um dia: 86400 s\n"
     ]
    }
   ],
   "source": [
    "# lembrando\n",
    "\n",
    "segundos_por_minuto = 60\n",
    "segundos_por_hora = 60 * 60\n",
    "segundos_por_dia = 24 * 60 * 60\n",
    "\n",
    "print(f\"Segundos em um minuto: {segundos_por_minuto} s\")\n",
    "print(f\"Segundos em uma hora: {segundos_por_hora} s\")\n",
    "print(f\"Segundos em um dia: {segundos_por_dia} s\")"
   ]
  },
  {
   "cell_type": "markdown",
   "metadata": {
    "tags": []
   },
   "source": [
    "Lembrando de divisão:\n",
    "\n",
    "![divisao](https://escolaeducacao.com.br/wp-content/uploads/2020/01/algoritmo-divisao.png)"
   ]
  },
  {
   "cell_type": "code",
   "execution_count": 8,
   "metadata": {},
   "outputs": [
    {
     "name": "stdout",
     "output_type": "stream",
     "text": [
      "time.struct_time(tm_year=2023, tm_mon=8, tm_mday=3, tm_hour=13, tm_min=34, tm_sec=57, tm_wday=3, tm_yday=215, tm_isdst=0)\n",
      "1704078000.0\n",
      "1691080497.0\n",
      "12997503.0\n"
     ]
    }
   ],
   "source": [
    "import time\n",
    "\n",
    "tempo_atual_struct=time.localtime()\n",
    "print(tempo_atual_struct) # time.struct_time(tm_year=2023, tm_mon=8, tm_mday=3, tm_hour=13, tm_min=3, tm_sec=19, tm_wday=3, tm_yday=215, tm_isdst=0)\n",
    "\n",
    "\n",
    "# essa funcao vai funcionar perfeitamente mesmo com a imprecisao do dado do dia da semana\n",
    "# nosso primeiro argumento será tempo_atual_struct.tm_year+1 para que o codigo fique dinamico, permitindo que ele funcione independente do ano em que estejamos\n",
    "proximo_ano_novo_segundos=time.mktime((tempo_atual_struct.tm_year+1,1,1,0,0,0,0,0,0))\n",
    "print(proximo_ano_novo_segundos) # 1704078000.0\n",
    "\n",
    "tempo_atual_segundos=time.mktime(tempo_atual_struct)\n",
    "print(tempo_atual_segundos) # 1691078599.0\n",
    "\n",
    "diferenca_de_tempo=proximo_ano_novo_segundos-tempo_atual_segundos\n",
    "print(diferenca_de_tempo) # 12999401.0"
   ]
  },
  {
   "cell_type": "code",
   "execution_count": 9,
   "metadata": {},
   "outputs": [
    {
     "name": "stdout",
     "output_type": "stream",
     "text": [
      "------INICIO DOS CALCULOS)\n",
      "3\n",
      "216625\n",
      "25\n",
      "3610\n",
      "10\n",
      "150\n",
      "O tempo para o próximo ano novo é de 150 dias, 10 horas, 25 minutos e 3 segundos\n"
     ]
    }
   ],
   "source": [
    "print('------INICIO DOS CALCULOS)')\n",
    "\n",
    "diferenca_de_tempo=int(diferenca_de_tempo)\n",
    "\n",
    "segundos=diferenca_de_tempo%60\n",
    "minutos=diferenca_de_tempo//60\n",
    "\n",
    "print(segundos)\n",
    "print(minutos)\n",
    "\n",
    "\n",
    "horas=minutos//60\n",
    "minutos=minutos%60\n",
    "\n",
    "print(minutos)\n",
    "print(horas)\n",
    "\n",
    "\n",
    "dias=horas//24\n",
    "horas=horas%24\n",
    "\n",
    "print(horas)\n",
    "print(dias)\n",
    "\n",
    "print('O tempo para o próximo ano novo é de {} dias, {} horas, {} minutos e {} segundos'.format(dias,horas,minutos,segundos))"
   ]
  }
 ],
 "metadata": {
  "kernelspec": {
   "display_name": "Python 3 (ipykernel)",
   "language": "python",
   "name": "python3"
  },
  "language_info": {
   "codemirror_mode": {
    "name": "ipython",
    "version": 3
   },
   "file_extension": ".py",
   "mimetype": "text/x-python",
   "name": "python",
   "nbconvert_exporter": "python",
   "pygments_lexer": "ipython3",
   "version": "3.10.11"
  }
 },
 "nbformat": 4,
 "nbformat_minor": 4
}
