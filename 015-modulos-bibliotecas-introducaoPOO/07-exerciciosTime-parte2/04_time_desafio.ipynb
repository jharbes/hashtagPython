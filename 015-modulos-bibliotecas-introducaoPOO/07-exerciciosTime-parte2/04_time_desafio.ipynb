{
 "cells": [
  {
   "cell_type": "markdown",
   "metadata": {},
   "source": [
    "## Tempo até o próximo ano\n",
    "\n",
    "Crie um script Python que calcula quantos dias, horas, minutos e segundos faltam até o próximo Ano Novo.\n",
    "\n"
   ]
  },
  {
   "cell_type": "markdown",
   "metadata": {
    "tags": []
   },
   "source": [
    "Lembrar da tupla de struct_time: https://docs.python.org/3/library/time.html#time.struct_time"
   ]
  },
  {
   "cell_type": "code",
   "execution_count": 1,
   "metadata": {
    "tags": []
   },
   "outputs": [
    {
     "name": "stdout",
     "output_type": "stream",
     "text": [
      "Segundos em um minuto: 60 s\n",
      "Segundos em uma hora: 3600 s\n",
      "Segundos em um dia: 86400 s\n"
     ]
    }
   ],
   "source": [
    "# lembrando\n",
    "\n",
    "segundos_por_minuto = 60\n",
    "segundos_por_hora = 60 * 60\n",
    "segundos_por_dia = 24 * 60 * 60\n",
    "\n",
    "print(f\"Segundos em um minuto: {segundos_por_minuto} s\")\n",
    "print(f\"Segundos em uma hora: {segundos_por_hora} s\")\n",
    "print(f\"Segundos em um dia: {segundos_por_dia} s\")"
   ]
  },
  {
   "cell_type": "markdown",
   "metadata": {
    "tags": []
   },
   "source": [
    "Lembrando de divisão:\n",
    "\n",
    "![divisao](https://escolaeducacao.com.br/wp-content/uploads/2020/01/algoritmo-divisao.png)"
   ]
  },
  {
   "cell_type": "code",
   "execution_count": 4,
   "metadata": {},
   "outputs": [
    {
     "name": "stdout",
     "output_type": "stream",
     "text": [
      "time.struct_time(tm_year=2023, tm_mon=8, tm_mday=3, tm_hour=13, tm_min=3, tm_sec=19, tm_wday=3, tm_yday=215, tm_isdst=0)\n",
      "1704078000.0\n",
      "1691078599.0\n",
      "12999401.0\n"
     ]
    }
   ],
   "source": [
    "import time\n",
    "\n",
    "tempo_atual_struct=time.localtime()\n",
    "print(tempo_atual_struct)\n",
    "\n",
    "proximo_ano_novo_segundos=time.mktime((2024,1,1,0,0,0,0,0,0))\n",
    "print(proximo_ano_novo_segundos)\n",
    "\n",
    "tempo_atual_segundos=time.mktime(tempo_atual_struct)\n",
    "print(tempo_atual_segundos)\n",
    "\n",
    "diferenca_de_tempo=proximo_ano_novo_segundos-tempo_atual_segundos\n",
    "print(diferenca_de_tempo)"
   ]
  }
 ],
 "metadata": {
  "kernelspec": {
   "display_name": "Python 3 (ipykernel)",
   "language": "python",
   "name": "python3"
  },
  "language_info": {
   "codemirror_mode": {
    "name": "ipython",
    "version": 3
   },
   "file_extension": ".py",
   "mimetype": "text/x-python",
   "name": "python",
   "nbconvert_exporter": "python",
   "pygments_lexer": "ipython3",
   "version": "3.10.11"
  }
 },
 "nbformat": 4,
 "nbformat_minor": 4
}
