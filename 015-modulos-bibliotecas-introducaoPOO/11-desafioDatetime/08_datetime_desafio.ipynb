{
 "cells": [
  {
   "cell_type": "markdown",
   "metadata": {},
   "source": [
    "## Calculando a idade\n",
    "\n",
    "Um usuário fornece sua data de nascimento no formato \"dd/mm/aaaa\". Crie um script Python que calcula a idade do usuário.\n"
   ]
  },
  {
   "cell_type": "code",
   "execution_count": 21,
   "metadata": {},
   "outputs": [
    {
     "name": "stdout",
     "output_type": "stream",
     "text": [
      "Aniversário: 15/09/1983: idade=39\n",
      "\n",
      "Aniversário: 10/08/1983: idade=39\n",
      "\n",
      "Aniversário: 09/08/1983: idade=40\n",
      "\n",
      "Aniversário: 08/08/1983: idade=40\n",
      "\n",
      "Aniversário: 07/08/1983: idade=40\n",
      "\n"
     ]
    }
   ],
   "source": [
    "import datetime\n",
    "\n",
    "# data_nascimento='21/11/1983'\n",
    "# data_nascimento=input('Informe sua data de nascimento no formato \"dd/mm/aaaa\":')\n",
    "def retorna_idade(data_nascimento):\n",
    "    formato='%d/%m/%Y'\n",
    "    data_nascimento_datetime=datetime.datetime.strptime(data_nascimento,formato)\n",
    "\n",
    "    data_atual=datetime.datetime.now()\n",
    "\n",
    "    diferenca_tempo_anos=data_atual.year-data_nascimento_datetime.year\n",
    "\n",
    "    idade=diferenca_tempo_anos\n",
    "  \n",
    "    if data_nascimento_datetime.month>data_atual.month:\n",
    "        idade-=1\n",
    "    if data_nascimento_datetime.month==data_atual.month:\n",
    "        if data_nascimento_datetime.day>data_atual.day:\n",
    "            idade-=1\n",
    "    \n",
    "    return f'Aniversário: {data_nascimento}: {idade=}\\n'\n",
    "\n",
    "\n",
    "print(retorna_idade('15/09/1983'))\n",
    "print(retorna_idade('10/08/1983'))\n",
    "print(retorna_idade('09/08/1983'))\n",
    "print(retorna_idade('08/08/1983'))\n",
    "print(retorna_idade('07/08/1983'))"
   ]
  }
 ],
 "metadata": {
  "kernelspec": {
   "display_name": "Python 3 (ipykernel)",
   "language": "python",
   "name": "python3"
  },
  "language_info": {
   "codemirror_mode": {
    "name": "ipython",
    "version": 3
   },
   "file_extension": ".py",
   "mimetype": "text/x-python",
   "name": "python",
   "nbconvert_exporter": "python",
   "pygments_lexer": "ipython3",
   "version": "3.11.2"
  }
 },
 "nbformat": 4,
 "nbformat_minor": 4
}
