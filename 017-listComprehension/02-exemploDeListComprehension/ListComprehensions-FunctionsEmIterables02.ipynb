{
 "cells": [
  {
   "cell_type": "markdown",
   "metadata": {},
   "source": [
    "# Um exemplo prático de List Comprehension\n",
    "\n",
    "### O que faríamos se quisermos ordenar 2 listas \"relacionadas\""
   ]
  },
  {
   "cell_type": "code",
   "execution_count": 4,
   "metadata": {},
   "outputs": [
    {
     "name": "stdout",
     "output_type": "stream",
     "text": [
      "<class 'list'>\n",
      "[(1500, 'vinho'), (150, 'cafeiteira'), (2100, 'microondas'), (1950, 'iphone')]\n",
      "[(2100, 'microondas'), (1950, 'iphone'), (1500, 'vinho'), (150, 'cafeiteira')]\n",
      "['microondas', 'iphone', 'vinho', 'cafeiteira']\n"
     ]
    }
   ],
   "source": [
    "vendas_produtos = [1500, 150, 2100, 1950]\n",
    "produtos = ['vinho', 'cafeiteira', 'microondas', 'iphone']\n",
    "\n",
    "# funcao zip une cada item das duas listas em uma tupla de dois elementos (venda_produto, produto) e formara um objeto zip, por isso vamos envolver na funcao list() para transformar esse objeto zip em uma lista\n",
    "lista_aux = list(zip(vendas_produtos, produtos))\n",
    "print(type(lista_aux))\n",
    "\n",
    "\n",
    "print(lista_aux)\n",
    "\n",
    "\n",
    "# o sort fara a ordenacao de acordo com o PRIMEIRO item da tupla em questao, por isso colocamos o valor das vendas em primeiro lugar da tupla\n",
    "lista_aux.sort(reverse=True)\n",
    "\n",
    "print(lista_aux)\n",
    "\n",
    "produtos = [produto for vendas, produto in lista_aux]\n",
    "print(produtos)"
   ]
  }
 ],
 "metadata": {
  "kernelspec": {
   "display_name": "Python 3",
   "language": "python",
   "name": "python3"
  },
  "language_info": {
   "codemirror_mode": {
    "name": "ipython",
    "version": 3
   },
   "file_extension": ".py",
   "mimetype": "text/x-python",
   "name": "python",
   "nbconvert_exporter": "python",
   "pygments_lexer": "ipython3",
   "version": "3.10.11"
  }
 },
 "nbformat": 4,
 "nbformat_minor": 4
}
