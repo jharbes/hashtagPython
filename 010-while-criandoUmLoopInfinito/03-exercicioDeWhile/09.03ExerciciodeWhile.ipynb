{
 "cells": [
  {
   "cell_type": "markdown",
   "metadata": {},
   "source": [
    "# Exercícios\n",
    "\n",
    "## 1. Input até o usuário parar\n",
    "\n",
    "Vamos criar um sistema de vendas. Nosso programa deve registrar os produtos e as quantidades (2 inputs) e adicionar em uma lista.\n",
    "\n",
    "O programa deve continuar rodando até o input ser vazio, ou seja, o usuário apertar enter sem digitar nenhum produto ou quantidade.\n",
    "\n",
    "Ao final do programa, ele deve printar todos os produtos e quantidades vendidas.\n",
    "\n",
    "Obs: Caso queira, para o print ficar mais visual, pode usar o join para cada item ser printado em uma linha.\n",
    "Sugestão para sua lista de produtos vendidos:"
   ]
  },
  {
   "cell_type": "raw",
   "metadata": {},
   "source": [
    "vendas = [\n",
    "    ['maçã', 5],\n",
    "    ['banana', 15],\n",
    "    ['azeite', 1],\n",
    "    ['vinho', 3],\n",
    "]"
   ]
  },
  {
   "cell_type": "code",
   "execution_count": 3,
   "metadata": {},
   "outputs": [
    {
     "name": "stdout",
     "output_type": "stream",
     "text": [
      "SISTEMA DE VENDAS\n",
      "\n",
      "Para finalizar deixe o nome do produto ou a quantidade em branco.\n",
      "\n",
      "arroz  -  10\n",
      "maça  -  5\n",
      "coca  -  6\n",
      "farinha  -  8\n"
     ]
    }
   ],
   "source": [
    "# seu código aqui\n",
    "\n",
    "vendas=[]\n",
    "numero_produto=1\n",
    "print('SISTEMA DE VENDAS\\n')\n",
    "print('Para finalizar deixe o nome do produto ou a quantidade em branco.\\n')\n",
    "\n",
    "produto='x'\n",
    "quantidade_produto='1'\n",
    "while produto!='' and quantidade_produto!='':\n",
    "    produto=input('Digite o produto de número {}: '.format(numero_produto))\n",
    "    quantidade_produto=input('Digite a quantidade do produto de número {}: '.format(numero_produto))\n",
    "    if produto and quantidade_produto:\n",
    "        vendas.append([produto,quantidade_produto])\n",
    "    numero_produto+=1\n",
    "\n",
    "\n",
    "print('LISTA DE VENDAS:\\n')\n",
    "for venda in vendas:\n",
    "    print(venda[0],' - ',venda[1])"
   ]
  },
  {
   "cell_type": "markdown",
   "metadata": {},
   "source": [
    "### Obs: Podemos fazer o While de 2 maneiras:\n",
    "\n",
    "1. While com a condição que finalize o programa\n",
    "2. While rodando para sempre, mas com uma condição dentro do while que dê um break no código.\n",
    "\n",
    "Vamos mostrar as 2 opções"
   ]
  }
 ],
 "metadata": {
  "kernelspec": {
   "display_name": "Python 3",
   "language": "python",
   "name": "python3"
  },
  "language_info": {
   "codemirror_mode": {
    "name": "ipython",
    "version": 3
   },
   "file_extension": ".py",
   "mimetype": "text/x-python",
   "name": "python",
   "nbconvert_exporter": "python",
   "pygments_lexer": "ipython3",
   "version": "3.10.11"
  }
 },
 "nbformat": 4,
 "nbformat_minor": 4
}
