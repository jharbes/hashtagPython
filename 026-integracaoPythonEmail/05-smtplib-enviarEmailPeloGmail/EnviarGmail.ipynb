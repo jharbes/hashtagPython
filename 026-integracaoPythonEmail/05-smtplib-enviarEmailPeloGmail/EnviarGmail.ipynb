{
 "cells": [
  {
   "cell_type": "code",
   "execution_count": 3,
   "metadata": {},
   "outputs": [
    {
     "name": "stdout",
     "output_type": "stream",
     "text": [
      "['c:\\\\Users\\\\Jorge\\\\Desktop\\\\hashtag\\\\hashtagPython\\\\023-integracaoPythonEmail\\\\05-smtplib-enviarEmailPeloGmail', 'c:\\\\Program Files\\\\Python311\\\\python311.zip', 'c:\\\\Program Files\\\\Python311\\\\DLLs', 'c:\\\\Program Files\\\\Python311\\\\Lib', 'c:\\\\Program Files\\\\Python311', '', 'C:\\\\Users\\\\Jorge\\\\AppData\\\\Roaming\\\\Python\\\\Python311\\\\site-packages', 'C:\\\\Users\\\\Jorge\\\\AppData\\\\Roaming\\\\Python\\\\Python311\\\\site-packages\\\\win32', 'C:\\\\Users\\\\Jorge\\\\AppData\\\\Roaming\\\\Python\\\\Python311\\\\site-packages\\\\win32\\\\lib', 'C:\\\\Users\\\\Jorge\\\\AppData\\\\Roaming\\\\Python\\\\Python311\\\\site-packages\\\\Pythonwin', 'c:\\\\Program Files\\\\Python311\\\\Lib\\\\site-packages', 'C:\\\\Users\\\\Jorge\\\\Desktop\\\\hashtag']\n"
     ]
    }
   ],
   "source": [
    "import smtplib\n",
    "import email.message\n",
    "import sys\n",
    "sys.path.append('C:\\\\Users\\\\Jorge\\\\Desktop\\\\hashtag')\n",
    "print(sys.path) # imprimindo todos os sys.path disponiveis após a adicao acima\n",
    "\n",
    "from passwd import senha_app_gmail\n",
    "\n",
    "def enviar_email():  \n",
    "    corpo_email = \"\"\"\n",
    "    <h3>Teste de email</h3>\n",
    "    <p>Parágrafo1</p>\n",
    "    <p>Parágrafo2</p>\n",
    "    \"\"\"\n",
    "\n",
    "    msg = email.message.Message()\n",
    "    msg['Subject'] = \"Assunto\"\n",
    "    msg['From'] = 'jorgenamiharbes@gmail.com'\n",
    "\n",
    "    # podemos aumentar o numero de destinatarios separando todos eles com uma virgula (,)\n",
    "    msg['To'] = 'jharbes@hotmail.com'\n",
    "    password = senha_app_gmail\n",
    "    msg.add_header('Content-Type', 'text/html')\n",
    "    msg.set_payload(corpo_email)\n",
    "\n",
    "    s = smtplib.SMTP('smtp.gmail.com: 587')\n",
    "    s.starttls()\n",
    "    # Login Credentials for sending the mail\n",
    "    s.login(msg['From'], password)\n",
    "    s.sendmail(msg['From'], [msg['To']], msg.as_string().encode('utf-8'))\n",
    "    print('Email enviado')"
   ]
  },
  {
   "cell_type": "code",
   "execution_count": 4,
   "metadata": {},
   "outputs": [
    {
     "name": "stdout",
     "output_type": "stream",
     "text": [
      "Email enviado\n"
     ]
    }
   ],
   "source": [
    "enviar_email()"
   ]
  }
 ],
 "metadata": {
  "kernelspec": {
   "display_name": "Python 3 (ipykernel)",
   "language": "python",
   "name": "python3"
  },
  "language_info": {
   "codemirror_mode": {
    "name": "ipython",
    "version": 3
   },
   "file_extension": ".py",
   "mimetype": "text/x-python",
   "name": "python",
   "nbconvert_exporter": "python",
   "pygments_lexer": "ipython3",
   "version": "3.11.2"
  }
 },
 "nbformat": 4,
 "nbformat_minor": 4
}
