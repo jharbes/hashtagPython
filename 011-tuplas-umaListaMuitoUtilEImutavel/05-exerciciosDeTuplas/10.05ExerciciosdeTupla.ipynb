{
 "cells": [
  {
   "cell_type": "markdown",
   "metadata": {},
   "source": [
    "# Exercícios\n",
    "\n",
    "São exercícios bem parecidos com os que fizemos com listas. Mas na tupla, podemos não só trabalhar com índices, mas fazer o \"unpacking\" das tuplas, o que pode facilitar nossos códigos.\n",
    "\n",
    "## 1. Análise de Vendas\n",
    "\n",
    "Nesse exercício vamos fazer uma \"análise simples\" de atingimento de Meta.\n",
    "\n",
    "Temos uma lista com os vendedores e os valores de vendas e queremos identificar (printar) quais os vendedores que bateram a meta e qual foi o valor que eles venderam."
   ]
  },
  {
   "cell_type": "code",
   "execution_count": 1,
   "metadata": {},
   "outputs": [
    {
     "name": "stdout",
     "output_type": "stream",
     "text": [
      "João bateu a meta com R$15000 em vendas\n",
      "Julia bateu a meta com R$27000 em vendas\n",
      "Ana bateu a meta com R$10300 em vendas\n"
     ]
    }
   ],
   "source": [
    "meta = 10000\n",
    "vendas = [\n",
    "    ('João', 15000),\n",
    "    ('Julia', 27000),\n",
    "    ('Marcus', 9900),\n",
    "    ('Maria', 3750),\n",
    "    ('Ana', 10300),\n",
    "    ('Alon', 7870),\n",
    "]\n",
    "\n",
    "for item in vendas:\n",
    "    vendedor,venda=item\n",
    "    if venda>=meta:\n",
    "        print('{} bateu a meta com R${} em vendas'.format(vendedor,venda))"
   ]
  },
  {
   "cell_type": "markdown",
   "metadata": {},
   "source": [
    "## 2. Comparação com Ano Anterior\n",
    "\n",
    "Digamos que você está analisando as vendas de produtos de um ecommerce e quer identificar quais produtos tiveram no ano de 2020 mais vendas do que no ano de 2019, para reportar isso para a diretoria.\n",
    "\n",
    "Sua resposta pode ser um print de cada produto, qual foi a venda de 2019, a venda de 2020 e o % de crescimento de 2020 para 2019.\n",
    "\n",
    "Lembrando, para calcular o % de crescimento de um produto de um ano para o outro, podemos fazer: (vendas_produto2020/vendas_produto2019 - 1)\n",
    "\n",
    "A lógica da tupla é: (produto, vendas2019, vendas2020)"
   ]
  },
  {
   "cell_type": "code",
   "execution_count": 5,
   "metadata": {},
   "outputs": [
    {
     "name": "stdout",
     "output_type": "stream",
     "text": [
      "Produto iphone\n",
      "Vendas 2019: R$558147\n",
      "Vendas 2020: R$951642\n",
      "Percentual de Crescimento: 70.5%\n",
      "\n",
      "Produto tv\n",
      "Vendas 2019: R$405252\n",
      "Vendas 2020: R$787604\n",
      "Percentual de Crescimento: 94.35%\n",
      "\n",
      "Produto máquina de café\n",
      "Vendas 2019: R$718654\n",
      "Vendas 2020: R$867660\n",
      "Percentual de Crescimento: 20.73%\n",
      "\n",
      "Produto notebook dell\n",
      "Vendas 2019: R$422760\n",
      "Vendas 2020: R$694913\n",
      "Percentual de Crescimento: 64.38%\n",
      "\n",
      "Produto notebook hp\n",
      "Vendas 2019: R$154753\n",
      "Vendas 2020: R$539704\n",
      "Percentual de Crescimento: 248.75%\n",
      "\n",
      "Produto microsoft surface\n",
      "Vendas 2019: R$438508\n",
      "Vendas 2020: R$667179\n",
      "Percentual de Crescimento: 52.15%\n",
      "\n",
      "Produto webcam\n",
      "Vendas 2019: R$237467\n",
      "Vendas 2020: R$295633\n",
      "Percentual de Crescimento: 24.49%\n",
      "\n",
      "Produto caixa de som\n",
      "Vendas 2019: R$489705\n",
      "Vendas 2020: R$725316\n",
      "Percentual de Crescimento: 48.11%\n",
      "\n",
      "Produto microfone\n",
      "Vendas 2019: R$328311\n",
      "Vendas 2020: R$644622\n",
      "Percentual de Crescimento: 96.34%\n",
      "\n",
      "Produto câmera canon\n",
      "Vendas 2019: R$591120\n",
      "Vendas 2020: R$994303\n",
      "Percentual de Crescimento: 68.21%\n",
      "\n"
     ]
    }
   ],
   "source": [
    "vendas_produtos = [('iphone', 558147, 951642), ('galaxy', 712350, 244295), ('ipad', 573823, 26964), ('tv', 405252, 787604), ('máquina de café', 718654, 867660), ('kindle', 531580, 78830), ('geladeira', 973139, 710331), ('adega', 892292, 646016), ('notebook dell', 422760, 694913), ('notebook hp', 154753, 539704), ('notebook asus', 887061, 324831), ('microsoft surface', 438508, 667179), ('webcam', 237467, 295633), ('caixa de som', 489705, 725316), ('microfone', 328311, 644622), ('câmera canon', 591120, 994303)]\n",
    "\n",
    "# seu código aqui\n",
    "\n",
    "for item in vendas_produtos:\n",
    "    produto,vendas2019,vendas2020=item\n",
    "    if vendas2020>vendas2019:\n",
    "        print('Produto {}\\nVendas 2019: R${}\\nVendas 2020: R${}\\nPercentual de Crescimento: {}%\\n'.format(produto,vendas2019,vendas2020,round((vendas2020/vendas2019-1)*100,2)))"
   ]
  }
 ],
 "metadata": {
  "kernelspec": {
   "display_name": "Python 3",
   "language": "python",
   "name": "python3"
  },
  "language_info": {
   "codemirror_mode": {
    "name": "ipython",
    "version": 3
   },
   "file_extension": ".py",
   "mimetype": "text/x-python",
   "name": "python",
   "nbconvert_exporter": "python",
   "pygments_lexer": "ipython3",
   "version": "3.10.11"
  }
 },
 "nbformat": 4,
 "nbformat_minor": 4
}
