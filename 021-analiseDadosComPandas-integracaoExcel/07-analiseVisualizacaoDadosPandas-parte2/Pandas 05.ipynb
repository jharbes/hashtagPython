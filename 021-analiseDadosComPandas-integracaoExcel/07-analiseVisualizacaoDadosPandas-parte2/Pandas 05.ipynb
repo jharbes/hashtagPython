{
 "cells": [
  {
   "cell_type": "markdown",
   "metadata": {},
   "source": [
    "# Resumos e um pouco de Visualização no pandas\n",
    "\n",
    "\n",
    "## Resumo\n",
    "\n",
    "Vamos ver alguns métodos para analisar nossas tabelas (dataframes)\n",
    "\n",
    "Além disso, vamos usar os plot de gráfico padrões do pandas, mas no projeto de DataScience veremos outras mais bonitas e também muito práticas.\n",
    "\n",
    "OBS: O pandas usa o matplotlib (que vimos na seção de \"módulos e bibliotecas\") para plotar gráficos.<br>\n",
    "Se quiser personalizar mais do que o padrão do pandas, importe o matplotlib e use os métodos do matplotlib"
   ]
  },
  {
   "cell_type": "markdown",
   "metadata": {},
   "source": [
    "- Preparando as bases de dados (o que fizemos na última aula)"
   ]
  },
  {
   "cell_type": "code",
   "execution_count": 4,
   "metadata": {
    "scrolled": true
   },
   "outputs": [
    {
     "name": "stdout",
     "output_type": "stream",
     "text": [
      "        Numero da Venda Data da Venda Data do Envio  ID Canal  ID Loja  \\\n",
      "0                     1    01/01/2017    02/01/2017         1       86   \n",
      "1                880458    23/11/2017    23/11/2017         0      306   \n",
      "2                191019    20/03/2017    21/03/2017         1      172   \n",
      "3                 18610    08/01/2017    10/01/2017         2      200   \n",
      "4                287704    23/04/2017    26/04/2017         3       76   \n",
      "...                 ...           ...           ...       ...      ...   \n",
      "980637           878244    23/11/2017    23/11/2017         0      110   \n",
      "980638           920243    09/12/2017    10/12/2017         1      261   \n",
      "980639           467482    21/06/2017    25/06/2017         4      115   \n",
      "980640           853643    13/11/2017    20/11/2017         7      115   \n",
      "980641           903958    02/12/2017    02/12/2017         0      222   \n",
      "\n",
      "        ID Produto  ID Promocao  ID Cliente  Quantidade Vendida  \\\n",
      "0              981            2        6825                   9   \n",
      "1              235           10        6825                   8   \n",
      "2              376            2        6825                   9   \n",
      "3              448            2        6825                  48   \n",
      "4              280            1        6825                  10   \n",
      "...            ...          ...         ...                 ...   \n",
      "980637         889            4         347                  12   \n",
      "980638        1367            5       38781                  13   \n",
      "980639         269            1         553                  10   \n",
      "980640         809            4       38860                   6   \n",
      "980641        1435           10         815                   8   \n",
      "\n",
      "        Quantidade Devolvida  \\\n",
      "0                          1   \n",
      "1                          0   \n",
      "2                          0   \n",
      "3                          0   \n",
      "4                          0   \n",
      "...                      ...   \n",
      "980637                     1   \n",
      "980638                     0   \n",
      "980639                     0   \n",
      "980640                     0   \n",
      "980641                     0   \n",
      "\n",
      "                                          Nome do Produto  \\\n",
      "0              A. Datum Advanced Digital Camera M300 Pink   \n",
      "1       Litware Home Theater System 7.1 Channel M710 B...   \n",
      "2                   Adventure Works Laptop12 M1201 Silver   \n",
      "3                          WWI Desktop PC1.80 E1801 Black   \n",
      "4       Contoso Home Theater System 2.1 Channel M1210 ...   \n",
      "...                                                   ...   \n",
      "980637        Contoso Bluetooth Notebook Mouse E70 Silver   \n",
      "980638  Contoso Expandable 3-Handset Cordless Phone Sy...   \n",
      "980639  Contoso Home Theater System 4.1 Channel M1400 ...   \n",
      "980640  Contoso Dual USB Power Adapter - power adapter...   \n",
      "980641  The Phone Company Touch Screen Phones SAW/On-w...   \n",
      "\n",
      "                       Nome da Loja            E-mail do Cliente  \n",
      "0              Loja Contoso Austin        rbrumfieldmy@ameblo.jp  \n",
      "1       Loja Contoso Europe Online        rbrumfieldmy@ameblo.jp  \n",
      "2            Loja Contoso Hartford        rbrumfieldmy@ameblo.jp  \n",
      "3             Loja Contoso Catalog        rbrumfieldmy@ameblo.jp  \n",
      "4       Loja Contoso Beaumont No.1        rbrumfieldmy@ameblo.jp  \n",
      "...                             ...                          ...  \n",
      "980637        Loja Contoso Orlando            edowner9m@imdb.com  \n",
      "980638  Loja Contoso Damascus No.1   ruben31@adventure-works.com  \n",
      "980639  Loja Contoso New York No.1    akuhnertfc@themeforest.net  \n",
      "980640  Loja Contoso New York No.1     anne5@adventure-works.com  \n",
      "980641           Loja Contoso Roma      ekorneevmm@instagram.com  \n",
      "\n",
      "[980642 rows x 13 columns]\n"
     ]
    }
   ],
   "source": [
    "import pandas as pd\n",
    "import matplotlib.pyplot as plt\n",
    "\n",
    "# importando os arquivos\n",
    "vendasDf = pd.read_csv(r'Contoso - Vendas - 2017.csv', sep=';')\n",
    "produtosDf = pd.read_csv(r'Contoso - Cadastro Produtos.csv', sep=';')\n",
    "lojasDf = pd.read_csv(r'Contoso - Lojas.csv', sep=';')\n",
    "clientesDf = pd.read_csv(r'Contoso - Clientes.csv', sep=';')\n",
    "\n",
    "# limpando apenas as colunas que queremos\n",
    "clientesDf = clientesDf[['ID Cliente', 'E-mail']]\n",
    "produtosDf = produtosDf[['ID Produto', 'Nome do Produto']]\n",
    "lojasDf = lojasDf[['ID Loja', 'Nome da Loja']]\n",
    "\n",
    "# mesclando e renomeando os dataframes\n",
    "vendasDf = vendasDf.merge(produtosDf, on='ID Produto')\n",
    "vendasDf = vendasDf.merge(lojasDf, on='ID Loja')\n",
    "vendasDf = vendasDf.merge(clientesDf, on='ID Cliente').rename(columns={'E-mail': 'E-mail do Cliente'})\n",
    "print(vendasDf)"
   ]
  },
  {
   "cell_type": "markdown",
   "metadata": {},
   "source": [
    "### Qual cliente que comprou mais vezes?\n",
    "\n",
    "- Usaremos o método .value_counts() para contar quantas vezes cada valor do Dataframe aparece\n",
    "- Usaremos o método .plot() para exibir um gráfico"
   ]
  },
  {
   "cell_type": "code",
   "execution_count": 5,
   "metadata": {},
   "outputs": [
    {
     "name": "stdout",
     "output_type": "stream",
     "text": [
      "karen33@adventure-works.com       77\n",
      "chloe77@adventure-works.com       74\n",
      "julia43@adventure-works.com       69\n",
      "destiny66@adventure-works.com     68\n",
      "gilbert9@adventure-works.com      68\n",
      "                                  ..\n",
      "isabella51@adventure-works.com     1\n",
      "wdalescoci@pbs.org                 1\n",
      "kbroggelliin@rakuten.co.jp         1\n",
      "connor15@adventure-works.com       1\n",
      "ekorneevmm@instagram.com           1\n",
      "Name: E-mail do Cliente, Length: 38907, dtype: int64\n"
     ]
    },
    {
     "data": {
      "text/plain": [
       "<Axes: >"
      ]
     },
     "execution_count": 5,
     "metadata": {},
     "output_type": "execute_result"
    },
    {
     "data": {
      "image/png": "[encoded data removed]",
      "text/plain": [
       "<Figure size 1500x500 with 1 Axes>"
      ]
     },
     "metadata": {},
     "output_type": "display_data"
    }
   ],
   "source": [
    "frequenciaClientes=vendasDf['E-mail do Cliente'].value_counts()\n",
    "print(frequenciaClientes)\n",
    "# frequenciaClientes.plot() # grafico completo\n",
    "\n",
    "# frequenciaClientes[:5].plot() # aqui escolhemos os cinco primeiros clientes da tabela\n",
    "\n",
    "# frequenciaClientes[:5].plot(figsize=(15,5)) # escolhemos com figsize o tamanho do grafico a ser mostrado\n",
    "\n",
    "frequenciaClientes[:5].plot(figsize=(15,5),yticks=range(0,100,5)) # aqui colocamos o eixo y para mostrar valores de 0 a 100 de 5 em 5, alem das outras marcacoes ja feitas"
   ]
  },
  {
   "cell_type": "markdown",
   "metadata": {},
   "source": [
    "### Qual a Loja que mais vendeu?\n",
    "\n",
    "- Usaremos o .groupby para agrupar o nosso dataframe, de acordo com o que queremos (somando as quantidades de vendas, por exemplo)"
   ]
  },
  {
   "cell_type": "code",
   "execution_count": 15,
   "metadata": {},
   "outputs": [
    {
     "name": "stderr",
     "output_type": "stream",
     "text": [
      "C:\\Users\\jharbes\\AppData\\Local\\Temp\\ipykernel_17624\\2902274035.py:1: FutureWarning: The default value of numeric_only in DataFrameGroupBy.sum is deprecated. In a future version, numeric_only will default to False. Either specify numeric_only or select only columns which should be valid for the function.\n",
      "  vendasLojas=vendasDf.groupby('Nome da Loja').sum()\n"
     ]
    },
    {
     "data": {
      "text/html": [
       "<div>\n",
       "<style scoped>\n",
       "    .dataframe tbody tr th:only-of-type {\n",
       "        vertical-align: middle;\n",
       "    }\n",
       "\n",
       "    .dataframe tbody tr th {\n",
       "        vertical-align: top;\n",
       "    }\n",
       "\n",
       "    .dataframe thead th {\n",
       "        text-align: right;\n",
       "    }\n",
       "</style>\n",
       "<table border=\"1\" class=\"dataframe\">\n",
       "  <thead>\n",
       "    <tr style=\"text-align: right;\">\n",
       "      <th></th>\n",
       "      <th>Quantidade Vendida</th>\n",
       "    </tr>\n",
       "    <tr>\n",
       "      <th>Nome da Loja</th>\n",
       "      <th></th>\n",
       "    </tr>\n",
       "  </thead>\n",
       "  <tbody>\n",
       "    <tr>\n",
       "      <th>Loja Contoso Albany</th>\n",
       "      <td>26353</td>\n",
       "    </tr>\n",
       "    <tr>\n",
       "      <th>Loja Contoso Alexandria</th>\n",
       "      <td>26247</td>\n",
       "    </tr>\n",
       "    <tr>\n",
       "      <th>Loja Contoso Amsterdam</th>\n",
       "      <td>28294</td>\n",
       "    </tr>\n",
       "    <tr>\n",
       "      <th>Loja Contoso Anchorage</th>\n",
       "      <td>27451</td>\n",
       "    </tr>\n",
       "    <tr>\n",
       "      <th>Loja Contoso Annapolis</th>\n",
       "      <td>26065</td>\n",
       "    </tr>\n",
       "    <tr>\n",
       "      <th>...</th>\n",
       "      <td>...</td>\n",
       "    </tr>\n",
       "    <tr>\n",
       "      <th>Loja Contoso Yokohama</th>\n",
       "      <td>28023</td>\n",
       "    </tr>\n",
       "    <tr>\n",
       "      <th>Loja Contoso York</th>\n",
       "      <td>27164</td>\n",
       "    </tr>\n",
       "    <tr>\n",
       "      <th>Loja Contoso koln No.1</th>\n",
       "      <td>29046</td>\n",
       "    </tr>\n",
       "    <tr>\n",
       "      <th>Loja Contoso koln No.2</th>\n",
       "      <td>29650</td>\n",
       "    </tr>\n",
       "    <tr>\n",
       "      <th>Loja Contoso obamberg</th>\n",
       "      <td>29336</td>\n",
       "    </tr>\n",
       "  </tbody>\n",
       "</table>\n",
       "<p>306 rows × 1 columns</p>\n",
       "</div>"
      ],
      "text/plain": [
       "                          Quantidade Vendida\n",
       "Nome da Loja                                \n",
       "Loja Contoso Albany                    26353\n",
       "Loja Contoso Alexandria                26247\n",
       "Loja Contoso Amsterdam                 28294\n",
       "Loja Contoso Anchorage                 27451\n",
       "Loja Contoso Annapolis                 26065\n",
       "...                                      ...\n",
       "Loja Contoso Yokohama                  28023\n",
       "Loja Contoso York                      27164\n",
       "Loja Contoso koln No.1                 29046\n",
       "Loja Contoso koln No.2                 29650\n",
       "Loja Contoso obamberg                  29336\n",
       "\n",
       "[306 rows x 1 columns]"
      ]
     },
     "metadata": {},
     "output_type": "display_data"
    }
   ],
   "source": [
    "vendasLojas=vendasDf.groupby('Nome da Loja').sum()\n",
    "\n",
    "# vendasLojas=vendasLojas['Quantidade Vendida'] # formatacao diferente\n",
    "# display(vendasLojas)\n",
    "\n",
    "vendasLojas=vendasLojas[['Quantidade Vendida']] # nao precisamos passar o nome da loja pois ele se tornou o indice no novo dataframe\n",
    "\n",
    "display(vendasLojas) # importante notar que a tabela mostra o valor vendido de cada loja mas ainda nao esta ordenado de maneira crescente ou decrescente"
   ]
  },
  {
   "cell_type": "markdown",
   "metadata": {},
   "source": [
    "- Agora precisamos pegar o maior valor. Temos 2 formas:\n",
    "    1. Ordenar o dataframe em ordem decrescente de Quantidade Vendida\n",
    "        - Método .sort_values\n",
    "    2. Pegar o Maior valor diretamente\n",
    "        - Métodos .max() e .idxmax()"
   ]
  },
  {
   "cell_type": "code",
   "execution_count": 21,
   "metadata": {},
   "outputs": [
    {
     "data": {
      "text/html": [
       "<div>\n",
       "<style scoped>\n",
       "    .dataframe tbody tr th:only-of-type {\n",
       "        vertical-align: middle;\n",
       "    }\n",
       "\n",
       "    .dataframe tbody tr th {\n",
       "        vertical-align: top;\n",
       "    }\n",
       "\n",
       "    .dataframe thead th {\n",
       "        text-align: right;\n",
       "    }\n",
       "</style>\n",
       "<table border=\"1\" class=\"dataframe\">\n",
       "  <thead>\n",
       "    <tr style=\"text-align: right;\">\n",
       "      <th></th>\n",
       "      <th>Quantidade Vendida</th>\n",
       "    </tr>\n",
       "    <tr>\n",
       "      <th>Nome da Loja</th>\n",
       "      <th></th>\n",
       "    </tr>\n",
       "  </thead>\n",
       "  <tbody>\n",
       "    <tr>\n",
       "      <th>Loja Contoso Catalog</th>\n",
       "      <td>1029117</td>\n",
       "    </tr>\n",
       "    <tr>\n",
       "      <th>Loja Contoso North America Online</th>\n",
       "      <td>701961</td>\n",
       "    </tr>\n",
       "    <tr>\n",
       "      <th>Loja Contoso Europe Online</th>\n",
       "      <td>616845</td>\n",
       "    </tr>\n",
       "    <tr>\n",
       "      <th>Loja Contoso Asia Online</th>\n",
       "      <td>578458</td>\n",
       "    </tr>\n",
       "    <tr>\n",
       "      <th>Loja Contoso North America Reseller</th>\n",
       "      <td>520176</td>\n",
       "    </tr>\n",
       "    <tr>\n",
       "      <th>...</th>\n",
       "      <td>...</td>\n",
       "    </tr>\n",
       "    <tr>\n",
       "      <th>Loja Contoso Berlin</th>\n",
       "      <td>379</td>\n",
       "    </tr>\n",
       "    <tr>\n",
       "      <th>Loja Contoso Paterson</th>\n",
       "      <td>371</td>\n",
       "    </tr>\n",
       "    <tr>\n",
       "      <th>Loja Contoso Marseille</th>\n",
       "      <td>370</td>\n",
       "    </tr>\n",
       "    <tr>\n",
       "      <th>Loja Contoso Racine No.2</th>\n",
       "      <td>253</td>\n",
       "    </tr>\n",
       "    <tr>\n",
       "      <th>Loja Contoso Venezia</th>\n",
       "      <td>234</td>\n",
       "    </tr>\n",
       "  </tbody>\n",
       "</table>\n",
       "<p>306 rows × 1 columns</p>\n",
       "</div>"
      ],
      "text/plain": [
       "                                     Quantidade Vendida\n",
       "Nome da Loja                                           \n",
       "Loja Contoso Catalog                            1029117\n",
       "Loja Contoso North America Online                701961\n",
       "Loja Contoso Europe Online                       616845\n",
       "Loja Contoso Asia Online                         578458\n",
       "Loja Contoso North America Reseller              520176\n",
       "...                                                 ...\n",
       "Loja Contoso Berlin                                 379\n",
       "Loja Contoso Paterson                               371\n",
       "Loja Contoso Marseille                              370\n",
       "Loja Contoso Racine No.2                            253\n",
       "Loja Contoso Venezia                                234\n",
       "\n",
       "[306 rows x 1 columns]"
      ]
     },
     "metadata": {},
     "output_type": "display_data"
    },
    {
     "data": {
      "text/plain": [
       "<Axes: xlabel='Nome da Loja'>"
      ]
     },
     "execution_count": 21,
     "metadata": {},
     "output_type": "execute_result"
    },
    {
     "data": {
      "image/png": "[encoded data removed]",
      "text/plain": [
       "<Figure size 1500x500 with 1 Axes>"
      ]
     },
     "metadata": {},
     "output_type": "display_data"
    }
   ],
   "source": [
    "# ordenando o dataframe\n",
    "\n",
    "vendasLojas=vendasLojas.sort_values('Quantidade Vendida', ascending=False) # ascending=False para que ele ordene de forma decrescente)\n",
    "\n",
    "display(vendasLojas)\n",
    "\n",
    "# podemos plotar em um gráfico\n",
    "\n",
    "vendasLojas[:5].plot(figsize=(15,5),kind='bar') # figsize ajusta o tamanho do grafico, kind ajusta para um grafico de barra em vez de linha) # figsize ajusta o tamanho do grafico, kind ajusta para um grafico de barra em vez de linha\n"
   ]
  },
  {
   "cell_type": "code",
   "execution_count": 22,
   "metadata": {},
   "outputs": [
    {
     "name": "stdout",
     "output_type": "stream",
     "text": [
      "melhorLoja='Loja Contoso Catalog ' maiorValor=1029117\n"
     ]
    }
   ],
   "source": [
    "# pegando o maior valor e se índice\n",
    "\n",
    "maiorValor=vendasLojas['Quantidade Vendida'].max()\n",
    "\n",
    "melhorLoja=vendasLojas['Quantidade Vendida'].idxmax()\n",
    "\n",
    "print(f'{melhorLoja=} {maiorValor=}')"
   ]
  },
  {
   "cell_type": "markdown",
   "metadata": {},
   "source": [
    "### Qual produto que menos vendeu?\n",
    "\n",
    "- Já temos uma lista criada para isso, basta verificarmos o final da lista (já que ela está ordenada) ou então usarmos os métodos:\n",
    "    1. min()\n",
    "    2. idxmin()"
   ]
  },
  {
   "cell_type": "code",
   "execution_count": 25,
   "metadata": {},
   "outputs": [
    {
     "name": "stdout",
     "output_type": "stream",
     "text": [
      "                       Quantidade Vendida\n",
      "Nome da Loja                             \n",
      "Loja Contoso Venezia                  234\n",
      "Loja Contoso Venezia \n"
     ]
    }
   ],
   "source": [
    "print(vendasLojas[-1:]) # nao funciona so com o -1 pois os dataframes nao aceitam apenas o indice, aceitam apenas ranges\n",
    "\n",
    "# ou\n",
    "\n",
    "print(vendasLojas['Quantidade Vendida'].idxmin())"
   ]
  }
 ],
 "metadata": {
  "kernelspec": {
   "display_name": "Python 3",
   "language": "python",
   "name": "python3"
  },
  "language_info": {
   "codemirror_mode": {
    "name": "ipython",
    "version": 3
   },
   "file_extension": ".py",
   "mimetype": "text/x-python",
   "name": "python",
   "nbconvert_exporter": "python",
   "pygments_lexer": "ipython3",
   "version": "3.9.5"
  }
 },
 "nbformat": 4,
 "nbformat_minor": 4
}
