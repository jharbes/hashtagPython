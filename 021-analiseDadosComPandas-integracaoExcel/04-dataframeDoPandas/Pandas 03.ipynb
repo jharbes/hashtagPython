{
 "cells": [
  {
   "cell_type": "markdown",
   "metadata": {},
   "source": [
    "# DataFrame\n",
    "\n",
    "\n",
    "## Resumo\n",
    "\n",
    "É como se fosse uma tabela.\n",
    "\n",
    "- As colunas funcionam \"como chaves de dicionário\"\n",
    "- As linhas funcionam \"como listas\"\n",
    "\n",
    "## Funcionamento"
   ]
  },
  {
   "cell_type": "raw",
   "metadata": {},
   "source": [
    "Temos um dataframe chamado vendas_df\n",
    "\n",
    "vendas_df['coluna_x'] -> uma lista com os valores da coluna_x (em formato dataframe, é um dataframe com 1 coluna só)\n",
    "vendas_df[0] -> NÃO FUNCIONA ASSIM PARA DATAFRAMES\n",
    "vendas_df[:3] -> pega até a linha de índice 3 do dataframe\n",
    "vendas_df[['coluna_x', 'coluna_y', 'coluna_z']] -> cria um novo dataframe com as colunas coluna_x, coluna_y e coluna_z\n",
    "vendas_df['coluna_x'][0] -> pega o itemd a 1ª linha da coluna coluna_x"
   ]
  },
  {
   "cell_type": "markdown",
   "metadata": {},
   "source": [
    "- Vamos ler um arquivo real, com a Base de Dados de Vendas da Empresa \"Contoso\""
   ]
  },
  {
   "cell_type": "code",
   "execution_count": 4,
   "metadata": {
    "scrolled": true
   },
   "outputs": [
    {
     "name": "stdout",
     "output_type": "stream",
     "text": [
      "0          6825\n",
      "1         18469\n",
      "2         19730\n",
      "3         29326\n",
      "4         22617\n",
      "          ...  \n",
      "980637    10353\n",
      "980638    31750\n",
      "980639    12003\n",
      "980640    25550\n",
      "980641    28707\n",
      "Name: ID Cliente, Length: 980642, dtype: int64\n"
     ]
    },
    {
     "data": {
      "text/plain": [
       "0          6825\n",
       "1         18469\n",
       "2         19730\n",
       "3         29326\n",
       "4         22617\n",
       "          ...  \n",
       "980637    10353\n",
       "980638    31750\n",
       "980639    12003\n",
       "980640    25550\n",
       "980641    28707\n",
       "Name: ID Cliente, Length: 980642, dtype: int64"
      ]
     },
     "execution_count": 4,
     "metadata": {},
     "output_type": "execute_result"
    }
   ],
   "source": [
    "import pandas as pd\n",
    "\n",
    "vendas_df = pd.read_csv(r'Contoso - Vendas - 2017.csv', sep=';')\n",
    "\n",
    "vendas_df # tambem exibe o arquivo (jupyter)\n",
    "\n",
    "print(vendas_df['ID Cliente']) # ele extrai apenas a coluna 'ID Cliente' do dataframe\n",
    "vendas_df['ID Cliente']\n",
    "\n",
    "\n",
    "# lembrando que o primeiro indice das linhas é 0 (zero)\n",
    "print(vendas_df[:3]) # imprime ate a linha 3 (0, 1 e 2)\n",
    "\n",
    "print(vendas_df[2:5]) # imprime da linha 3 até a 5\n",
    "\n",
    "print(vendas_df[:1]) # imprime o cabeçalho e primeira linha\n",
    "\n",
    "print(vendas_df[['Numero da Venda','Data da Venda','ID Produto']]) # extrai as tres colunas selecionadas em um novo dataframe, ****repare que deve ser passada uma lista (colchetes de lista dentro dos colchetes de indice de coluna)\n",
    "\n",
    "print(vendas_df['ID Produto'][0]) # extrai a primeira linha da coluna 'ID Produto', o elemento ficara cru, nao mais em formato de tabela"
   ]
  },
  {
   "cell_type": "markdown",
   "metadata": {},
   "source": [
    "## Aplicação"
   ]
  },
  {
   "cell_type": "markdown",
   "metadata": {},
   "source": [
    "- O 1º passo de toda Análise de Dados é você entender o que existe na sua base de dados\n",
    "\n",
    "Usaremos o .info() para isso"
   ]
  },
  {
   "cell_type": "code",
   "execution_count": null,
   "metadata": {},
   "outputs": [],
   "source": [
    "vendas_df.info() # mostra todas as colunas e as informacoes sobre seus tipos de dados"
   ]
  },
  {
   "cell_type": "markdown",
   "metadata": {},
   "source": [
    "- Vamos criar então agora uma lista de Clientes"
   ]
  },
  {
   "cell_type": "code",
   "execution_count": null,
   "metadata": {},
   "outputs": [],
   "source": [
    "listaClientes=vendas_df['ID Cliente']\n",
    "print(listaClientes)"
   ]
  },
  {
   "cell_type": "markdown",
   "metadata": {},
   "source": [
    "- Vamos criar agora uma lista com os produtos e as quantidades de vendas dele, caso a gente queira analisar só os produtos (independente de data ou de cliente)"
   ]
  },
  {
   "cell_type": "code",
   "execution_count": null,
   "metadata": {},
   "outputs": [],
   "source": [
    "produtosQuantidade=vendas_df[['ID Produto','Quantidade Vendida','Quantidade Devolvida']]\n",
    "print(produtosQuantidade)"
   ]
  }
 ],
 "metadata": {
  "kernelspec": {
   "display_name": "Python 3",
   "language": "python",
   "name": "python3"
  },
  "language_info": {
   "codemirror_mode": {
    "name": "ipython",
    "version": 3
   },
   "file_extension": ".py",
   "mimetype": "text/x-python",
   "name": "python",
   "nbconvert_exporter": "python",
   "pygments_lexer": "ipython3",
   "version": "3.9.5"
  }
 },
 "nbformat": 4,
 "nbformat_minor": 4
}
