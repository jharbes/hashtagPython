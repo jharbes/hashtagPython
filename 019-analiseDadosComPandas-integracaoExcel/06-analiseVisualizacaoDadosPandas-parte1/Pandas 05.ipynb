{
 "cells": [
  {
   "cell_type": "markdown",
   "metadata": {},
   "source": [
    "# Resumos e um pouco de Visualização no pandas\n",
    "\n",
    "\n",
    "## Resumo\n",
    "\n",
    "Vamos ver alguns métodos para analisar nossas tabelas (dataframes)\n",
    "\n",
    "Além disso, vamos usar os plot de gráfico padrões do pandas, mas no projeto de DataScience veremos outras mais bonitas e também muito práticas.\n",
    "\n",
    "OBS: O pandas usa o matplotlib (que vimos na seção de \"módulos e bibliotecas\") para plotar gráficos.<br>\n",
    "Se quiser personalizar mais do que o padrão do pandas, importe o matplotlib e use os métodos do matplotlib"
   ]
  },
  {
   "cell_type": "markdown",
   "metadata": {},
   "source": [
    "- Preparando as bases de dados (o que fizemos na última aula)"
   ]
  },
  {
   "cell_type": "code",
   "execution_count": 2,
   "metadata": {
    "scrolled": true
   },
   "outputs": [
    {
     "name": "stdout",
     "output_type": "stream",
     "text": [
      "        Numero da Venda Data da Venda Data do Envio  ID Canal  ID Loja  \\\n",
      "0                     1    01/01/2017    02/01/2017         1       86   \n",
      "1                880458    23/11/2017    23/11/2017         0      306   \n",
      "2                191019    20/03/2017    21/03/2017         1      172   \n",
      "3                 18610    08/01/2017    10/01/2017         2      200   \n",
      "4                287704    23/04/2017    26/04/2017         3       76   \n",
      "...                 ...           ...           ...       ...      ...   \n",
      "980637           878244    23/11/2017    23/11/2017         0      110   \n",
      "980638           920243    09/12/2017    10/12/2017         1      261   \n",
      "980639           467482    21/06/2017    25/06/2017         4      115   \n",
      "980640           853643    13/11/2017    20/11/2017         7      115   \n",
      "980641           903958    02/12/2017    02/12/2017         0      222   \n",
      "\n",
      "        ID Produto  ID Promocao  ID Cliente  Quantidade Vendida  \\\n",
      "0              981            2        6825                   9   \n",
      "1              235           10        6825                   8   \n",
      "2              376            2        6825                   9   \n",
      "3              448            2        6825                  48   \n",
      "4              280            1        6825                  10   \n",
      "...            ...          ...         ...                 ...   \n",
      "980637         889            4         347                  12   \n",
      "980638        1367            5       38781                  13   \n",
      "980639         269            1         553                  10   \n",
      "980640         809            4       38860                   6   \n",
      "980641        1435           10         815                   8   \n",
      "\n",
      "        Quantidade Devolvida  \\\n",
      "0                          1   \n",
      "1                          0   \n",
      "2                          0   \n",
      "3                          0   \n",
      "4                          0   \n",
      "...                      ...   \n",
      "980637                     1   \n",
      "980638                     0   \n",
      "980639                     0   \n",
      "980640                     0   \n",
      "980641                     0   \n",
      "\n",
      "                                          Nome do Produto  \\\n",
      "0              A. Datum Advanced Digital Camera M300 Pink   \n",
      "1       Litware Home Theater System 7.1 Channel M710 B...   \n",
      "2                   Adventure Works Laptop12 M1201 Silver   \n",
      "3                          WWI Desktop PC1.80 E1801 Black   \n",
      "4       Contoso Home Theater System 2.1 Channel M1210 ...   \n",
      "...                                                   ...   \n",
      "980637        Contoso Bluetooth Notebook Mouse E70 Silver   \n",
      "980638  Contoso Expandable 3-Handset Cordless Phone Sy...   \n",
      "980639  Contoso Home Theater System 4.1 Channel M1400 ...   \n",
      "980640  Contoso Dual USB Power Adapter - power adapter...   \n",
      "980641  The Phone Company Touch Screen Phones SAW/On-w...   \n",
      "\n",
      "                       Nome da Loja            E-mail do Cliente  \n",
      "0              Loja Contoso Austin        rbrumfieldmy@ameblo.jp  \n",
      "1       Loja Contoso Europe Online        rbrumfieldmy@ameblo.jp  \n",
      "2            Loja Contoso Hartford        rbrumfieldmy@ameblo.jp  \n",
      "3             Loja Contoso Catalog        rbrumfieldmy@ameblo.jp  \n",
      "4       Loja Contoso Beaumont No.1        rbrumfieldmy@ameblo.jp  \n",
      "...                             ...                          ...  \n",
      "980637        Loja Contoso Orlando            edowner9m@imdb.com  \n",
      "980638  Loja Contoso Damascus No.1   ruben31@adventure-works.com  \n",
      "980639  Loja Contoso New York No.1    akuhnertfc@themeforest.net  \n",
      "980640  Loja Contoso New York No.1     anne5@adventure-works.com  \n",
      "980641           Loja Contoso Roma      ekorneevmm@instagram.com  \n",
      "\n",
      "[980642 rows x 13 columns]\n"
     ]
    }
   ],
   "source": [
    "import pandas as pd\n",
    "import matplotlib.pyplot as plt\n",
    "\n",
    "# importando os arquivos\n",
    "vendasDf = pd.read_csv(r'Contoso - Vendas - 2017.csv', sep=';')\n",
    "produtosDf = pd.read_csv(r'Contoso - Cadastro Produtos.csv', sep=';')\n",
    "lojasDf = pd.read_csv(r'Contoso - Lojas.csv', sep=';')\n",
    "clientesDf = pd.read_csv(r'Contoso - Clientes.csv', sep=';')\n",
    "\n",
    "#limpando apenas as colunas que queremos\n",
    "clientesDf = clientesDf[['ID Cliente', 'E-mail']]\n",
    "produtosDf = produtosDf[['ID Produto', 'Nome do Produto']]\n",
    "lojasDf = lojasDf[['ID Loja', 'Nome da Loja']]\n",
    "\n",
    "#mesclando e renomeando os dataframes\n",
    "vendasDf = vendasDf.merge(produtosDf, on='ID Produto')\n",
    "vendasDf = vendasDf.merge(lojasDf, on='ID Loja')\n",
    "vendasDf = vendasDf.merge(clientesDf, on='ID Cliente').rename(columns={'E-mail': 'E-mail do Cliente'})\n",
    "print(vendasDf)"
   ]
  },
  {
   "cell_type": "markdown",
   "metadata": {},
   "source": [
    "### Qual cliente que comprou mais vezes?\n",
    "\n",
    "- Usaremos o método .value_counts() para contar quantas vezes cada valor do Dataframe aparece\n",
    "- Usaremos o método .plot() para exibir um gráfico"
   ]
  },
  {
   "cell_type": "code",
   "execution_count": 14,
   "metadata": {},
   "outputs": [
    {
     "name": "stdout",
     "output_type": "stream",
     "text": [
      "karen33@adventure-works.com       77\n",
      "chloe77@adventure-works.com       74\n",
      "julia43@adventure-works.com       69\n",
      "destiny66@adventure-works.com     68\n",
      "gilbert9@adventure-works.com      68\n",
      "                                  ..\n",
      "isabella51@adventure-works.com     1\n",
      "wdalescoci@pbs.org                 1\n",
      "kbroggelliin@rakuten.co.jp         1\n",
      "connor15@adventure-works.com       1\n",
      "ekorneevmm@instagram.com           1\n",
      "Name: E-mail do Cliente, Length: 38907, dtype: int64\n"
     ]
    },
    {
     "data": {
      "text/plain": [
       "<Axes: >"
      ]
     },
     "execution_count": 14,
     "metadata": {},
     "output_type": "execute_result"
    },
    {
     "data": {
      "image/png": "[encoded data removed]",
      "text/plain": [
       "<Figure size 1500x500 with 1 Axes>"
      ]
     },
     "metadata": {},
     "output_type": "display_data"
    }
   ],
   "source": [
    "frequenciaClientes=vendasDf['E-mail do Cliente'].value_counts()\n",
    "print(frequenciaClientes)\n",
    "# frequenciaClientes.plot() # grafico completo\n",
    "\n",
    "# frequenciaClientes[:5].plot() # aqui escolhemos os cinco primeiros clientes da tabela\n",
    "\n",
    "# frequenciaClientes[:5].plot(figsize=(15,5)) # escolhemos com figsize o tamanho do grafico a ser mostrado\n",
    "\n",
    "frequenciaClientes[:5].plot(figsize=(15,5),yticks=range(0,100,5)) # aqui colocamos o eixo y para mostrar valores de 0 a 100 de 5 em 5, alem das outras marcacoes ja feitas"
   ]
  },
  {
   "cell_type": "markdown",
   "metadata": {},
   "source": [
    "### Qual a Loja que mais vendeu?\n",
    "\n",
    "- Usaremos o .groupby para agrupar o nosso dataframe, de acordo com o que queremos (somando as quantidades de vendas, por exemplo)"
   ]
  },
  {
   "cell_type": "code",
   "execution_count": null,
   "metadata": {},
   "outputs": [],
   "source": []
  },
  {
   "cell_type": "markdown",
   "metadata": {},
   "source": [
    "- Agora precisamos pegar o maior valor. Temos 2 formas:\n",
    "    1. Ordenar o dataframe em ordem decrescente de Quantidade Vendida\n",
    "        - Método .sort_values\n",
    "    2. Pegar o Maior valor diretamente\n",
    "        - Métodos .max() e .idxmax()"
   ]
  },
  {
   "cell_type": "code",
   "execution_count": null,
   "metadata": {},
   "outputs": [],
   "source": [
    "#ordenando o dataframe\n",
    "\n",
    "#podemos plotar em um gráfico\n"
   ]
  },
  {
   "cell_type": "code",
   "execution_count": null,
   "metadata": {},
   "outputs": [],
   "source": [
    "#pegando o maior valor e se índice\n"
   ]
  },
  {
   "cell_type": "markdown",
   "metadata": {},
   "source": [
    "### Qual produto que menos vendeu?\n",
    "\n",
    "- Já temos uma lista criada para isso, basta verificarmos o final da lista (já que ela está ordenada) ou então usarmos os métodos:\n",
    "    1. min()\n",
    "    2. idxmin()"
   ]
  },
  {
   "cell_type": "code",
   "execution_count": null,
   "metadata": {},
   "outputs": [],
   "source": []
  }
 ],
 "metadata": {
  "kernelspec": {
   "display_name": "Python 3",
   "language": "python",
   "name": "python3"
  },
  "language_info": {
   "codemirror_mode": {
    "name": "ipython",
    "version": 3
   },
   "file_extension": ".py",
   "mimetype": "text/x-python",
   "name": "python",
   "nbconvert_exporter": "python",
   "pygments_lexer": "ipython3",
   "version": "3.9.5"
  }
 },
 "nbformat": 4,
 "nbformat_minor": 4
}
