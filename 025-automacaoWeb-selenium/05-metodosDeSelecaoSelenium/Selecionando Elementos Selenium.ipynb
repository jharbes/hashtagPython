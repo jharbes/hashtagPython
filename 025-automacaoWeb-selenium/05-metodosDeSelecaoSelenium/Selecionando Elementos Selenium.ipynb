{
 "cells": [
  {
   "cell_type": "code",
   "execution_count": 8,
   "id": "4e28f9f7",
   "metadata": {},
   "outputs": [],
   "source": [
    "from selenium import webdriver\n",
    "from selenium.webdriver.chrome.service import Service\n",
    "from webdriver_manager.chrome import ChromeDriverManager\n",
    "\n",
    "servico = Service(ChromeDriverManager().install())\n",
    "navegador = webdriver.Chrome(service=servico)"
   ]
  },
  {
   "cell_type": "code",
   "execution_count": 9,
   "id": "59c8398d",
   "metadata": {},
   "outputs": [
    {
     "name": "stdout",
     "output_type": "stream",
     "text": [
      "c:\\Users\\Jorge\\Desktop\\hashtag\\hashtagPython\\025-automacaoWeb-selenium\\05-metodosDeSelecaoSelenium\n"
     ]
    }
   ],
   "source": [
    "import os\n",
    "\n",
    "caminho = os.getcwd()\n",
    "print(caminho)\n",
    "arquivo = caminho + r\"\\Pagina Hashtag.html\"\n",
    "navegador.get(arquivo)"
   ]
  },
  {
   "cell_type": "code",
   "execution_count": null,
   "id": "25228a28",
   "metadata": {},
   "outputs": [],
   "source": [
    "\"\"\"\n",
    "MANEIRAS DE SELECIONAR NO SELENIUM:\n",
    "\n",
    "id                      .ID\n",
    "xpath                   .XPATH\n",
    "class_name              .CLASS_NAME\n",
    "texto inteiro de link   .LINK_TEXT\n",
    "pedaço de texto de link .PARTIAL_LINK_TEXT\n",
    "name                    .NAME\n",
    "tag name                .TAG_NAME\n",
    "css selector            .CSS_SELECTOR\n",
    "\n",
    "Preferencia de uso:\n",
    "id\n",
    "class\n",
    "xpath\n",
    "\"\"\"\n",
    "\n",
    "# Duas maneiras de selecionar um elemento no selenium:\n",
    "\n",
    "navegador.find_element # retorna um unico elemento (nao lista)\n",
    "\n",
    "navegador.find_elements # retorna uma lista (lista python) com varios itens, se so houver um retornara uma lista com apenas um elemento\n",
    "\n",
    "\n",
    "# necessario importar esse elemento para selecionar elementos no selenium, o By é o elemento que escolhe a maneira como serao selecionados os elementos\n",
    "from selenium.webdriver.common.by import By\n",
    "\n",
    "navegador.find_element(By.ID, 'fullname').send_keys(\"Lira\")\n",
    "navegador.find_element(By.ID, 'email').send_keys(\"pythonimpressionador@gmail.com\")\n",
    "navegador.find_element(By.ID, '_form_176_submit').click()"
   ]
  }
 ],
 "metadata": {
  "kernelspec": {
   "display_name": "Python 3 (ipykernel)",
   "language": "python",
   "name": "python3"
  },
  "language_info": {
   "codemirror_mode": {
    "name": "ipython",
    "version": 3
   },
   "file_extension": ".py",
   "mimetype": "text/x-python",
   "name": "python",
   "nbconvert_exporter": "python",
   "pygments_lexer": "ipython3",
   "version": "3.11.2"
  }
 },
 "nbformat": 4,
 "nbformat_minor": 5
}
