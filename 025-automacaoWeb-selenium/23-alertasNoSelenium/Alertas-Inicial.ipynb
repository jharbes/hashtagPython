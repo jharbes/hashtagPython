{
 "cells": [
  {
   "cell_type": "markdown",
   "id": "367cd714",
   "metadata": {},
   "source": [
    "### Documentação Selenium:\n",
    "\n",
    "- https://selenium-python.readthedocs.io/locating-elements.html"
   ]
  },
  {
   "cell_type": "code",
   "execution_count": 22,
   "id": "4e28f9f7",
   "metadata": {},
   "outputs": [],
   "source": [
    "from selenium import webdriver\n",
    "from selenium.webdriver.chrome.service import Service\n",
    "from webdriver_manager.chrome import ChromeDriverManager\n",
    "from selenium.webdriver.common.by import By\n",
    "\n",
    "servico = Service(ChromeDriverManager().install())\n",
    "navegador = webdriver.Chrome(service=servico)"
   ]
  },
  {
   "cell_type": "code",
   "execution_count": 23,
   "id": "59c8398d",
   "metadata": {},
   "outputs": [],
   "source": [
    "import os, time\n",
    "\n",
    "caminho = os.getcwd()\n",
    "arquivo = caminho + r\"\\alertas.html\"\n",
    "navegador.get(arquivo)"
   ]
  },
  {
   "cell_type": "markdown",
   "id": "7d964ce5",
   "metadata": {},
   "source": [
    "#### Alertas Básicos"
   ]
  },
  {
   "cell_type": "code",
   "execution_count": 24,
   "id": "09f60749",
   "metadata": {},
   "outputs": [],
   "source": [
    "# selecionar um alerta\n",
    "navegador.find_element(By.XPATH,'/html/body/div[1]/input').click()"
   ]
  },
  {
   "cell_type": "code",
   "execution_count": 25,
   "id": "73fadceb",
   "metadata": {},
   "outputs": [],
   "source": [
    "time.sleep(0.5)\n",
    "# forma simples de mudar para um alerta para interagir com ele\n",
    "alerta=navegador.switch_to.alert\n",
    "alerta.accept() # cada vez que aceitamos um alerta ele deixa de ser a opcao, caso seja necessario interagir novamente com o alerta precisamos reposicionar o elemento Alert ou switch to alert\n"
   ]
  },
  {
   "cell_type": "code",
   "execution_count": 26,
   "id": "30537925",
   "metadata": {},
   "outputs": [],
   "source": [
    "# forma \"completa\" de mudar para um alerta para interagir com ele\n",
    "time.sleep(0.5)\n",
    "\n",
    "from selenium.webdriver.common.alert import Alert\n",
    "\n",
    "navegador.find_element(By.XPATH,'/html/body/div[1]/input').click()\n",
    "\n",
    "time.sleep(0.5)\n",
    "\n",
    "alerta=Alert(navegador)\n",
    "alerta.accept() # cada vez que aceitamos um alerta ele deixa de ser a opcao, caso seja necessario interagir novamente com o alerta precisamos reposicionar o elemento Alert ou switch to alert\n",
    "time.sleep(2)"
   ]
  },
  {
   "cell_type": "markdown",
   "id": "34631cac",
   "metadata": {},
   "source": [
    "#### Alertas de Confirmação"
   ]
  },
  {
   "cell_type": "code",
   "execution_count": 27,
   "id": "3594b247",
   "metadata": {},
   "outputs": [],
   "source": [
    "navegador.find_element(By.XPATH,'/html/body/div[2]/input').click()"
   ]
  },
  {
   "cell_type": "code",
   "execution_count": 28,
   "id": "c656438a",
   "metadata": {},
   "outputs": [],
   "source": [
    "alerta=Alert(navegador)\n",
    "\n",
    "time.sleep(1)\n",
    "# aceitar\n",
    "alerta.accept()\n",
    "\n",
    "\n",
    "\n",
    "time.sleep(2)\n",
    "\n",
    "navegador.find_element(By.XPATH,'/html/body/div[2]/input').click()\n",
    "\n",
    "alerta=navegador.switch_to.alert\n",
    "\n",
    "time.sleep(1)\n",
    "# cancelar\n",
    "alerta.dismiss()\n",
    "time.sleep(2)\n"
   ]
  },
  {
   "cell_type": "markdown",
   "id": "68a498a9",
   "metadata": {},
   "source": [
    "#### Pegar o texto do alerta"
   ]
  },
  {
   "cell_type": "code",
   "execution_count": 29,
   "id": "84f67d69",
   "metadata": {},
   "outputs": [
    {
     "name": "stdout",
     "output_type": "stream",
     "text": [
      "Quer confirmar a emissão da NF?\n"
     ]
    }
   ],
   "source": [
    "navegador.find_element(By.XPATH,'/html/body/div[2]/input').click()\n",
    "\n",
    "alerta=Alert(navegador)\n",
    "texto=alerta.text\n",
    "print(texto)\n",
    "alerta.dismiss()\n",
    "\n",
    "\n",
    "time.sleep(3)"
   ]
  },
  {
   "cell_type": "markdown",
   "id": "c8d5a4d8",
   "metadata": {},
   "source": [
    "#### Alertas de Input"
   ]
  },
  {
   "cell_type": "code",
   "execution_count": null,
   "id": "79998e3f",
   "metadata": {},
   "outputs": [],
   "source": [
    "navegador.find_element(By.XPATH,'/html/body/div[3]/button').click()\n",
    "\n",
    "alerta=Alert(navegador)"
   ]
  },
  {
   "cell_type": "code",
   "execution_count": null,
   "id": "5eebaa32",
   "metadata": {},
   "outputs": [],
   "source": [
    "# preenchendo o alerta com input\n",
    "# ***IMPORTANTE: os dados preenchidos nao irao aparecer (fica em branco) mas eles terao sido preenchidos\n",
    "alerta.send_keys('12312312312')\n",
    "\n"
   ]
  },
  {
   "cell_type": "code",
   "execution_count": null,
   "id": "69c2a6f7",
   "metadata": {},
   "outputs": [],
   "source": [
    "# se o accept nao for por meio do codigo o preenchimento nao funcionara\n",
    "alerta.accept()"
   ]
  },
  {
   "cell_type": "code",
   "execution_count": null,
   "id": "aba8f959",
   "metadata": {},
   "outputs": [],
   "source": [
    "time.sleep(5)\n",
    "navegador.quit()"
   ]
  }
 ],
 "metadata": {
  "kernelspec": {
   "display_name": "Python 3 (ipykernel)",
   "language": "python",
   "name": "python3"
  },
  "language_info": {
   "codemirror_mode": {
    "name": "ipython",
    "version": 3
   },
   "file_extension": ".py",
   "mimetype": "text/x-python",
   "name": "python",
   "nbconvert_exporter": "python",
   "pygments_lexer": "ipython3",
   "version": "3.9.5"
  }
 },
 "nbformat": 4,
 "nbformat_minor": 5
}
