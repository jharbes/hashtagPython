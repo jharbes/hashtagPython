{
 "cells": [
  {
   "cell_type": "markdown",
   "id": "cf42a93c",
   "metadata": {},
   "source": [
    "### Cuidados!\n",
    " \n",
    "1. Whatsapp não gosta de nenhum tipo de automação\n",
    "2. Isso pode dar merda, já to avisando\n",
    "3. Isso não é o uso da API oficial do Whatsapp, o próprio whatsapp tem uma API oficial. Se o seu objetivo é fazer envio em massa ou criar aqueles robozinhos que respondem automaticamente no whatsapp, então use a API oficial\n",
    "4. Meu objetivo é 100% educacional\n",
    "\n",
    "### Dito isso, bora automatizar o envio de mensagens no Whatsapp\n",
    "\n",
    "- Vamos usar o Selenium (vídeo da configuração na descrição)\n",
    "- Temos 1 alternativa muito boa:\n",
    "- Usar o https://web.whatsapp.com/send?phone=numero&text=texto (mais fácil, mais seguro, mas mais demorado)\n"
   ]
  },
  {
   "cell_type": "code",
   "execution_count": 1,
   "id": "dc363f99",
   "metadata": {},
   "outputs": [],
   "source": [
    "from selenium import webdriver\n",
    "from selenium.webdriver.common.keys import Keys\n",
    "from selenium.webdriver.common.by import By\n",
    "\n",
    "\n",
    "options=webdriver.ChromeOptions()\n",
    "\n",
    "# chrome://version\n",
    "options.add_argument(r'user-data-dir=C:\\Users\\Jorge\\AppData\\Local\\Google\\Chrome\\User Data\\Profile Selenium')\n",
    "\n",
    "\n",
    "navegador=webdriver.Chrome(options=options)\n",
    "\n",
    "navegador.get('https://web.whatsapp.com')"
   ]
  },
  {
   "cell_type": "code",
   "execution_count": 2,
   "id": "5ec2043b",
   "metadata": {},
   "outputs": [
    {
     "data": {
      "text/html": [
       "<div>\n",
       "<style scoped>\n",
       "    .dataframe tbody tr th:only-of-type {\n",
       "        vertical-align: middle;\n",
       "    }\n",
       "\n",
       "    .dataframe tbody tr th {\n",
       "        vertical-align: top;\n",
       "    }\n",
       "\n",
       "    .dataframe thead th {\n",
       "        text-align: right;\n",
       "    }\n",
       "</style>\n",
       "<table border=\"1\" class=\"dataframe\">\n",
       "  <thead>\n",
       "    <tr style=\"text-align: right;\">\n",
       "      <th></th>\n",
       "      <th>nome</th>\n",
       "      <th>mensagem</th>\n",
       "      <th>arquivo</th>\n",
       "      <th>telefone</th>\n",
       "    </tr>\n",
       "  </thead>\n",
       "  <tbody>\n",
       "    <tr>\n",
       "      <th>0</th>\n",
       "      <td>Diego Hashtag</td>\n",
       "      <td>E aí, fulano, tudo certo?</td>\n",
       "      <td>N</td>\n",
       "      <td>NaN</td>\n",
       "    </tr>\n",
       "    <tr>\n",
       "      <th>1</th>\n",
       "      <td>Alon Hashtag</td>\n",
       "      <td>Coe fulano, bora surfar?</td>\n",
       "      <td>N</td>\n",
       "      <td>NaN</td>\n",
       "    </tr>\n",
       "    <tr>\n",
       "      <th>2</th>\n",
       "      <td>Lira Hashtag</td>\n",
       "      <td>Viajou, fulano. Olha isso:</td>\n",
       "      <td>pythonimpressionador.png</td>\n",
       "      <td>NaN</td>\n",
       "    </tr>\n",
       "  </tbody>\n",
       "</table>\n",
       "</div>"
      ],
      "text/plain": [
       "            nome                    mensagem                   arquivo  \\\n",
       "0  Diego Hashtag   E aí, fulano, tudo certo?                         N   \n",
       "1   Alon Hashtag    Coe fulano, bora surfar?                         N   \n",
       "2   Lira Hashtag  Viajou, fulano. Olha isso:  pythonimpressionador.png   \n",
       "\n",
       "   telefone  \n",
       "0       NaN  \n",
       "1       NaN  \n",
       "2       NaN  "
      ]
     },
     "metadata": {},
     "output_type": "display_data"
    }
   ],
   "source": [
    "import os, time\n",
    "import pandas as pd\n",
    "\n",
    "tabela=pd.read_excel('Envios.xlsx')\n",
    "display(tabela)"
   ]
  },
  {
   "cell_type": "code",
   "execution_count": null,
   "id": "73522134",
   "metadata": {},
   "outputs": [],
   "source": [
    "# o whatsapp ja carregou\n",
    "\n",
    "for linha in tabela.index:\n",
    "    nome=tabela.loc[linha,'nome']\n",
    "    mensagem=tabela.loc[linha,'mensagem']\n",
    "    arquivo=tabela.loc[linha,'arquivo']\n",
    "    telefone=tabela.loc[linha,'telefone']\n",
    "\n",
    "    texto=mensagem.replace('fulano',nome) # alteramos o fulano da mensagem pelo nome da pessoa a ser enviado\n",
    "\n",
    "    texto=urllib.parse.quote(texto) # aqui formatamos o texto a ser enviado para que ele tenha o formato de link e possa ser enviado como um link\n",
    "\n",
    "    # enviar a mensagem\n",
    "    link=f'https://web.whatsapp.com/send?phone={telefone}&text={texto}'\n",
    "\n",
    "    navegador.get(link)\n",
    "\n",
    "    # esperar a tela do whatsapp carregar"
   ]
  },
  {
   "cell_type": "code",
   "execution_count": null,
   "id": "a1ad3bb8",
   "metadata": {},
   "outputs": [],
   "source": []
  }
 ],
 "metadata": {
  "kernelspec": {
   "display_name": "Python 3 (ipykernel)",
   "language": "python",
   "name": "python3"
  },
  "language_info": {
   "codemirror_mode": {
    "name": "ipython",
    "version": 3
   },
   "file_extension": ".py",
   "mimetype": "text/x-python",
   "name": "python",
   "nbconvert_exporter": "python",
   "pygments_lexer": "ipython3",
   "version": "3.11.2"
  }
 },
 "nbformat": 4,
 "nbformat_minor": 5
}
