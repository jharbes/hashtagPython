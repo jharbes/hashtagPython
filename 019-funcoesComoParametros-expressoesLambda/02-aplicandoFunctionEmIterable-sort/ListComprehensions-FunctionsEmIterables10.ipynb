{
 "cells": [
  {
   "cell_type": "markdown",
   "metadata": {},
   "source": [
    "# sort (ou sorted) com function\n",
    "\n",
    "### Descrição:\n",
    "\n",
    "Até agora no programa, usamos várias vezes o .sort() para ordenar listas\n",
    "\n",
    "Mas o método sort tem um parâmetro que nunca usamos e que agora sabemos usar.\n",
    "\n",
    "\n",
    "Diferença entre .sort() e sorted() :\n",
    "\n",
    "lista.sort() ordena a lista alterando a lista original\n",
    "\n",
    "sorted() nao altera a lista original, logo tem que ser atribuido a uma variavel para que tenha efeito pratico"
   ]
  },
  {
   "cell_type": "code",
   "execution_count": 1,
   "metadata": {},
   "outputs": [
    {
     "name": "stdout",
     "output_type": "stream",
     "text": [
      "['IPad', 'IPhone 11', 'IPhone x', 'airpods', 'apple tv', 'apple watch', 'mac', 'mac book']\n"
     ]
    }
   ],
   "source": [
    "produtos = ['apple tv', 'mac', 'IPhone x', 'IPhone 11', 'IPad', 'apple watch', 'mac book', 'airpods']\n",
    "produtos.sort()\n",
    "\n",
    "print(produtos)"
   ]
  },
  {
   "cell_type": "markdown",
   "metadata": {},
   "source": [
    "- Como faríamos para ordenar corretamente?"
   ]
  },
  {
   "cell_type": "code",
   "execution_count": 4,
   "metadata": {},
   "outputs": [
    {
     "name": "stdout",
     "output_type": "stream",
     "text": [
      "['airpods', 'apple tv', 'apple watch', 'IPad', 'IPhone 11', 'IPhone x', 'mac', 'mac book']\n"
     ]
    }
   ],
   "source": [
    "produtos2=['apple tv', 'mac', 'IPhone x', 'IPhone 11', 'IPad', 'apple watch', 'mac book', 'airpods']\n",
    "produtos2.sort(key=str.lower)\n",
    "\n",
    "print(produtos2)"
   ]
  },
  {
   "cell_type": "markdown",
   "metadata": {},
   "source": [
    "### Outro exemplo: como ordenar um dicionário de acordo com o valor"
   ]
  },
  {
   "cell_type": "code",
   "execution_count": 11,
   "metadata": {},
   "outputs": [
    {
     "name": "stdout",
     "output_type": "stream",
     "text": [
      "[(5500, 'iphone'), (300, 'microondas'), (150, 'cafeiteira'), (100, 'vinho')]\n",
      "[('iphone', 5500), ('microondas', 300), ('cafeiteira', 150), ('vinho', 100)]\n"
     ]
    }
   ],
   "source": [
    "vendas_produtos = {'vinho': 100, 'cafeiteira': 150, 'microondas': 300, 'iphone': 5500}\n",
    "\n",
    "vendas_produtos_list=[(vendas_produtos[produto],produto) for produto in vendas_produtos]\n",
    "\n",
    "vendas_produtos_list.sort(reverse=True)\n",
    "\n",
    "print(vendas_produtos_list)\n",
    "\n",
    "lista_vendas=[(quantidade,produto) for produto,quantidade in vendas_produtos_list]\n",
    "\n",
    "print(lista_vendas)"
   ]
  },
  {
   "cell_type": "markdown",
   "metadata": {},
   "source": [
    "- Queremos listar da maior quantidade de vendas para a menor, para enviar como report para o diretor, por exemplo"
   ]
  },
  {
   "cell_type": "code",
   "execution_count": 12,
   "metadata": {},
   "outputs": [
    {
     "name": "stdout",
     "output_type": "stream",
     "text": [
      "{'iphone': 5500, 'microondas': 300, 'cafeiteira': 150, 'vinho': 100}\n"
     ]
    }
   ],
   "source": [
    "\n",
    "print(dict(lista_vendas))"
   ]
  }
 ],
 "metadata": {
  "kernelspec": {
   "display_name": "Python 3",
   "language": "python",
   "name": "python3"
  },
  "language_info": {
   "codemirror_mode": {
    "name": "ipython",
    "version": 3
   },
   "file_extension": ".py",
   "mimetype": "text/x-python",
   "name": "python",
   "nbconvert_exporter": "python",
   "pygments_lexer": "ipython3",
   "version": "3.10.11"
  }
 },
 "nbformat": 4,
 "nbformat_minor": 4
}
