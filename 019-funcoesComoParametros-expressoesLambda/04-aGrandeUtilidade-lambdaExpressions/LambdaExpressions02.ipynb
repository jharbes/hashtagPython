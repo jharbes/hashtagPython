{
 "cells": [
  {
   "cell_type": "markdown",
   "metadata": {},
   "source": [
    "# Principal Aplicação de Lambda Expressions\n",
    "\n",
    "### Usar lambda como argumento de alguma outra função, como map e filter"
   ]
  },
  {
   "cell_type": "code",
   "execution_count": 1,
   "metadata": {},
   "outputs": [],
   "source": [
    "preco_tecnologia = {'notebook asus': 2450, 'iphone': 4500, 'samsung galaxy': 3000, 'tv samsung': 1000, 'ps5': 3000, 'tablet': 1000, 'notebook dell': 3000, 'ipad': 3000, 'tv philco': 800, 'notebook hp': 1700}"
   ]
  },
  {
   "cell_type": "markdown",
   "metadata": {},
   "source": [
    "### map()\n",
    "- Queremos saber o preço de cada produto adicionando o valor do imposto de 30% sobre o valor do produto"
   ]
  },
  {
   "cell_type": "code",
   "execution_count": 2,
   "metadata": {},
   "outputs": [
    {
     "name": "stdout",
     "output_type": "stream",
     "text": [
      "[3185.0, 5850.0, 3900.0, 1300.0, 3900.0, 1300.0, 3900.0, 3900.0, 1040.0, 2210.0]\n"
     ]
    }
   ],
   "source": [
    "# Fazendo por function\n",
    "\n",
    "def preco_com_imposto(preco):\n",
    "    return preco*1.3\n",
    "\n",
    "preco_tecnologia_com_imposto=map(preco_com_imposto,preco_tecnologia.values())\n",
    "\n",
    "print(list(preco_tecnologia_com_imposto))"
   ]
  },
  {
   "cell_type": "code",
   "execution_count": 3,
   "metadata": {},
   "outputs": [
    {
     "name": "stdout",
     "output_type": "stream",
     "text": [
      "[3185.0, 5850.0, 3900.0, 1300.0, 3900.0, 1300.0, 3900.0, 3900.0, 1040.0, 2210.0]\n"
     ]
    }
   ],
   "source": [
    "# fazendo por lambda\n",
    "\n",
    "preco_tecnologia_com_imposto2=map(lambda x:x*1.3,preco_tecnologia.values())\n",
    "\n",
    "print(list(preco_tecnologia_com_imposto2))"
   ]
  },
  {
   "cell_type": "markdown",
   "metadata": {},
   "source": [
    "### filter()\n",
    "- Queremos apenas os produtos que custam acima de 2000"
   ]
  },
  {
   "cell_type": "raw",
   "metadata": {},
   "source": [
    "filter(função, iterable) -> retorna como resposta todos os itens do iterable onde a função é True"
   ]
  },
  {
   "cell_type": "code",
   "execution_count": 13,
   "metadata": {},
   "outputs": [
    {
     "name": "stdout",
     "output_type": "stream",
     "text": [
      "[('notebook asus', 2450), ('iphone', 4500), ('samsung galaxy', 3000), ('ps5', 3000), ('notebook dell', 3000), ('ipad', 3000)]\n",
      "{}\n"
     ]
    }
   ],
   "source": [
    "# fazendo por function\n",
    "def preco_maior_2000(item):\n",
    "    return True if item[1]>2000 else False\n",
    "\n",
    "produto_preco_maior=filter(preco_maior_2000,preco_tecnologia.items())\n",
    "\n",
    "# print(preco_tecnologia.items())\n",
    "print(list(produto_preco_maior))"
   ]
  },
  {
   "cell_type": "code",
   "execution_count": 19,
   "metadata": {},
   "outputs": [
    {
     "name": "stdout",
     "output_type": "stream",
     "text": [
      "[('notebook asus', 2450), ('iphone', 4500), ('samsung galaxy', 3000), ('ps5', 3000), ('notebook dell', 3000), ('ipad', 3000)]\n"
     ]
    }
   ],
   "source": [
    "# fazendo por lambda\n",
    "\n",
    "produto_preco_maior2=filter(lambda x:x[1]>2000,preco_tecnologia.items())\n",
    "\n",
    "print(list(produto_preco_maior2))"
   ]
  }
 ],
 "metadata": {
  "kernelspec": {
   "display_name": "Python 3",
   "language": "python",
   "name": "python3"
  },
  "language_info": {
   "codemirror_mode": {
    "name": "ipython",
    "version": 3
   },
   "file_extension": ".py",
   "mimetype": "text/x-python",
   "name": "python",
   "nbconvert_exporter": "python",
   "pygments_lexer": "ipython3",
   "version": "3.10.11"
  }
 },
 "nbformat": 4,
 "nbformat_minor": 4
}
